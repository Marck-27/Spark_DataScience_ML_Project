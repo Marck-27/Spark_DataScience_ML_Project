{
 "cells": [
  {
   "cell_type": "markdown",
   "metadata": {},
   "source": [
    "# Machine Learning con la librería MLlib  de Spark\n",
    "\n",
    "En el presente script construiremos una red neuronal para clasificación múltiple\n",
    "\n",
    "Todos los procesos serán coleccionados en un Pipeline explícito "
   ]
  },
  {
   "cell_type": "markdown",
   "metadata": {},
   "source": [
    "## Load the libraries"
   ]
  },
  {
   "cell_type": "code",
   "execution_count": 1,
   "metadata": {
    "collapsed": true
   },
   "outputs": [],
   "source": [
    "import os\n",
    "import numpy as np\n",
    "import pandas as pd\n",
    "from pyspark.sql.types import * #<-- importa todos los tipos de dato como: StringType, FloatType DoubleType, DateType, etc.\n",
    "from pyspark.ml import Pipeline\n",
    "from pyspark.sql import functions as f\n",
    "from pyspark.sql.functions import udf, StringType\n",
    "from pyspark.sql import SparkSession, functions as F\n",
    "from pyspark.ml.evaluation import MulticlassClassificationEvaluator\n",
    "from pyspark.ml.classification import MultilayerPerceptronClassifier, MultilayerPerceptronClassificationModel\n",
    "from pyspark.ml.feature import OneHotEncoder, VectorAssembler, StringIndexer, MinMaxScaler"
   ]
  },
  {
   "cell_type": "markdown",
   "metadata": {},
   "source": [
    "## Initialize Spark Session"
   ]
  },
  {
   "cell_type": "code",
   "execution_count": 2,
   "metadata": {
    "collapsed": true
   },
   "outputs": [],
   "source": [
    "spark = SparkSession.builder.appName('deep_learning').getOrCreate()"
   ]
  },
  {
   "cell_type": "code",
   "execution_count": 3,
   "metadata": {},
   "outputs": [
    {
     "data": {
      "text/html": [
       "\n",
       "            <div>\n",
       "                <p><b>SparkSession - in-memory</b></p>\n",
       "                \n",
       "        <div>\n",
       "            <p><b>SparkContext</b></p>\n",
       "\n",
       "            <p><a href=\"http://192.168.1.76:4041\">Spark UI</a></p>\n",
       "\n",
       "            <dl>\n",
       "              <dt>Version</dt>\n",
       "                <dd><code>v3.2.0</code></dd>\n",
       "              <dt>Master</dt>\n",
       "                <dd><code>local[*]</code></dd>\n",
       "              <dt>AppName</dt>\n",
       "                <dd><code>deep_learning</code></dd>\n",
       "            </dl>\n",
       "        </div>\n",
       "        \n",
       "            </div>\n",
       "        "
      ],
      "text/plain": [
       "<pyspark.sql.session.SparkSession at 0x7fcc9d65aaf0>"
      ]
     },
     "execution_count": 3,
     "metadata": {},
     "output_type": "execute_result"
    }
   ],
   "source": [
    "spark"
   ]
  },
  {
   "cell_type": "markdown",
   "metadata": {},
   "source": [
    "## Carga y limpieza de datos"
   ]
  },
  {
   "cell_type": "code",
   "execution_count": 4,
   "metadata": {},
   "outputs": [],
   "source": [
    "data = spark.read.csv('./data/dl_data.csv', header=True, inferSchema=True)"
   ]
  },
  {
   "cell_type": "code",
   "execution_count": 5,
   "metadata": {},
   "outputs": [
    {
     "name": "stdout",
     "output_type": "stream",
     "text": [
      "+-------------------+---------------------+-----------------+-------------------------------------+-------------------------------+-----------------------+------------------------------+-------------------------------+-------------------------+-------------------------+-------------------+------------------+-------------------+-----------------+------------------+------------------+-------------------------+\n",
      "|Visit_Number_Bucket|Page_Views_Normalized|Orders_Normalized|Internal_Search_Successful_Normalized|Internal_Search_Null_Normalized|Email_Signup_Normalized|Total_Seconds_Spent_Normalized|Store_Locator_Search_Normalized|Mapped_Last_Touch_Channel|Mapped_Mobile_Device_Type|Mapped_Browser_Type|Mapped_Entry_Pages|Mapped_Site_Section|Mapped_Promo_Code|Maped_Product_Name|Mapped_Search_Term|Mapped_Product_Collection|\n",
      "+-------------------+---------------------+-----------------+-------------------------------------+-------------------------------+-----------------------+------------------------------+-------------------------------+-------------------------+-------------------------+-------------------+------------------+-------------------+-----------------+------------------+------------------+-------------------------+\n",
      "|      less than  11|          0.026315789|                1|                                  0.0|                            0.0|                    0.0|                     4.5819E-4|                            0.0|                 Channel1|                  Device1|           Browser1|       Entry_Page1|      Site_Section1|      Promo_Code1|     Product_Name1|      Search_Term1|      Product_Collection1|\n",
      "|      less than  11|                  0.0|                1|                                  0.0|                            0.0|                    0.0|                           0.0|                            0.0|                 Channel1|                  Device1|           Browser2|       Entry_Page2|      Site_Section1|      Promo_Code1|     Product_Name1|      Search_Term1|      Product_Collection2|\n",
      "|      less than  11|                  0.0|                1|                                  0.0|                            0.0|                    0.0|                   0.002863688|                            0.0|                 Channel1|                  Device1|           Browser1|       Entry_Page2|      Site_Section1|      Promo_Code1|     Product_Name2|      Search_Term1|      Product_Collection3|\n",
      "|      less than  11|                  0.0|                1|                                  0.0|                            0.0|                    0.0|                   0.002863688|                            0.0|                 Channel1|                  Device1|           Browser1|       Entry_Page2|      Site_Section1|      Promo_Code1|     Product_Name2|      Search_Term1|      Product_Collection3|\n",
      "|      less than  11|          0.052631579|                1|                                  0.0|                            0.0|                    0.0|                   0.021764032|                            0.0|                 Channel1|                  Device1|           Browser2|       Entry_Page2|      Site_Section1|      Promo_Code1|     Product_Name3|      Search_Term1|      Product_Collection4|\n",
      "+-------------------+---------------------+-----------------+-------------------------------------+-------------------------------+-----------------------+------------------------------+-------------------------------+-------------------------+-------------------------+-------------------+------------------+-------------------+-----------------+------------------+------------------+-------------------------+\n",
      "only showing top 5 rows\n",
      "\n"
     ]
    }
   ],
   "source": [
    "data.show(5)"
   ]
  },
  {
   "cell_type": "markdown",
   "metadata": {},
   "source": [
    "Renombramos las columnas ya que los nombres son muy largos. Esto no es necesario, sólo es para poder visualizar los DataFrames en la pantalla"
   ]
  },
  {
   "cell_type": "code",
   "execution_count": 6,
   "metadata": {},
   "outputs": [
    {
     "name": "stdout",
     "output_type": "stream",
     "text": [
      "+-------------+-----------+---+---+---+---+-----------+---+--------+-------+--------+-----------+-------------+-----------+-------------+------------+-------------------+\n",
      "|          x_1|        x_2|x_3|x_4|x_5|x_6|        x_7|x_8|     x_9|   x_10|    x_11|       x_12|         x_13|       x_14|         x_15|        x_16|               x_17|\n",
      "+-------------+-----------+---+---+---+---+-----------+---+--------+-------+--------+-----------+-------------+-----------+-------------+------------+-------------------+\n",
      "|less than  11|0.026315789|  1|0.0|0.0|0.0|  4.5819E-4|0.0|Channel1|Device1|Browser1|Entry_Page1|Site_Section1|Promo_Code1|Product_Name1|Search_Term1|Product_Collection1|\n",
      "|less than  11|        0.0|  1|0.0|0.0|0.0|        0.0|0.0|Channel1|Device1|Browser2|Entry_Page2|Site_Section1|Promo_Code1|Product_Name1|Search_Term1|Product_Collection2|\n",
      "|less than  11|        0.0|  1|0.0|0.0|0.0|0.002863688|0.0|Channel1|Device1|Browser1|Entry_Page2|Site_Section1|Promo_Code1|Product_Name2|Search_Term1|Product_Collection3|\n",
      "|less than  11|        0.0|  1|0.0|0.0|0.0|0.002863688|0.0|Channel1|Device1|Browser1|Entry_Page2|Site_Section1|Promo_Code1|Product_Name2|Search_Term1|Product_Collection3|\n",
      "|less than  11|0.052631579|  1|0.0|0.0|0.0|0.021764032|0.0|Channel1|Device1|Browser2|Entry_Page2|Site_Section1|Promo_Code1|Product_Name3|Search_Term1|Product_Collection4|\n",
      "+-------------+-----------+---+---+---+---+-----------+---+--------+-------+--------+-----------+-------------+-----------+-------------+------------+-------------------+\n",
      "only showing top 5 rows\n",
      "\n"
     ]
    }
   ],
   "source": [
    "i=0\n",
    "for column in data.columns:\n",
    "    i = i+1 \n",
    "    data = data.withColumnRenamed( column,'x_'+str(i) )\n",
    "\n",
    "data.show(5)"
   ]
  },
  {
   "cell_type": "code",
   "execution_count": 7,
   "metadata": {},
   "outputs": [
    {
     "data": {
      "text/plain": [
       "(73487, 17)"
      ]
     },
     "execution_count": 7,
     "metadata": {},
     "output_type": "execute_result"
    }
   ],
   "source": [
    "# Dimensión del DataFrame:\n",
    "\n",
    "data.count() , len(data.columns)"
   ]
  },
  {
   "cell_type": "markdown",
   "metadata": {},
   "source": [
    "### Seleccionamos variables para trabajar:"
   ]
  },
  {
   "cell_type": "code",
   "execution_count": 8,
   "metadata": {},
   "outputs": [],
   "source": [
    "# Columnas que no usaremos:\n",
    "unused_cols = [] #<-- vacío si usaremos todas las columnas"
   ]
  },
  {
   "cell_type": "code",
   "execution_count": 9,
   "metadata": {},
   "outputs": [
    {
     "data": {
      "text/plain": [
       "['x_1',\n",
       " 'x_2',\n",
       " 'x_3',\n",
       " 'x_4',\n",
       " 'x_5',\n",
       " 'x_6',\n",
       " 'x_7',\n",
       " 'x_8',\n",
       " 'x_9',\n",
       " 'x_10',\n",
       " 'x_11',\n",
       " 'x_12',\n",
       " 'x_13',\n",
       " 'x_14',\n",
       " 'x_15',\n",
       " 'x_16',\n",
       " 'x_17']"
      ]
     },
     "execution_count": 9,
     "metadata": {},
     "output_type": "execute_result"
    }
   ],
   "source": [
    "# Columnas que usaremos:\n",
    "selected_cols = [ c for c in data.columns if c not in unused_cols ]\n",
    "selected_cols"
   ]
  },
  {
   "cell_type": "code",
   "execution_count": 10,
   "metadata": {},
   "outputs": [
    {
     "name": "stdout",
     "output_type": "stream",
     "text": [
      "+-------------+-----------+---+---+---+---+-----------+---+--------+-------+--------+-----------+-------------+-----------+-------------+------------+-------------------+\n",
      "|          x_1|        x_2|x_3|x_4|x_5|x_6|        x_7|x_8|     x_9|   x_10|    x_11|       x_12|         x_13|       x_14|         x_15|        x_16|               x_17|\n",
      "+-------------+-----------+---+---+---+---+-----------+---+--------+-------+--------+-----------+-------------+-----------+-------------+------------+-------------------+\n",
      "|less than  11|0.026315789|  1|0.0|0.0|0.0|  4.5819E-4|0.0|Channel1|Device1|Browser1|Entry_Page1|Site_Section1|Promo_Code1|Product_Name1|Search_Term1|Product_Collection1|\n",
      "|less than  11|        0.0|  1|0.0|0.0|0.0|        0.0|0.0|Channel1|Device1|Browser2|Entry_Page2|Site_Section1|Promo_Code1|Product_Name1|Search_Term1|Product_Collection2|\n",
      "|less than  11|        0.0|  1|0.0|0.0|0.0|0.002863688|0.0|Channel1|Device1|Browser1|Entry_Page2|Site_Section1|Promo_Code1|Product_Name2|Search_Term1|Product_Collection3|\n",
      "|less than  11|        0.0|  1|0.0|0.0|0.0|0.002863688|0.0|Channel1|Device1|Browser1|Entry_Page2|Site_Section1|Promo_Code1|Product_Name2|Search_Term1|Product_Collection3|\n",
      "|less than  11|0.052631579|  1|0.0|0.0|0.0|0.021764032|0.0|Channel1|Device1|Browser2|Entry_Page2|Site_Section1|Promo_Code1|Product_Name3|Search_Term1|Product_Collection4|\n",
      "+-------------+-----------+---+---+---+---+-----------+---+--------+-------+--------+-----------+-------------+-----------+-------------+------------+-------------------+\n",
      "only showing top 5 rows\n",
      "\n"
     ]
    }
   ],
   "source": [
    "data = data.select( selected_cols )\n",
    "data.show(5)"
   ]
  },
  {
   "cell_type": "code",
   "execution_count": 11,
   "metadata": {},
   "outputs": [
    {
     "name": "stdout",
     "output_type": "stream",
     "text": [
      "root\n",
      " |-- x_1: string (nullable = true)\n",
      " |-- x_2: double (nullable = true)\n",
      " |-- x_3: integer (nullable = true)\n",
      " |-- x_4: double (nullable = true)\n",
      " |-- x_5: double (nullable = true)\n",
      " |-- x_6: double (nullable = true)\n",
      " |-- x_7: double (nullable = true)\n",
      " |-- x_8: double (nullable = true)\n",
      " |-- x_9: string (nullable = true)\n",
      " |-- x_10: string (nullable = true)\n",
      " |-- x_11: string (nullable = true)\n",
      " |-- x_12: string (nullable = true)\n",
      " |-- x_13: string (nullable = true)\n",
      " |-- x_14: string (nullable = true)\n",
      " |-- x_15: string (nullable = true)\n",
      " |-- x_16: string (nullable = true)\n",
      " |-- x_17: string (nullable = true)\n",
      "\n"
     ]
    }
   ],
   "source": [
    "data.printSchema()"
   ]
  },
  {
   "cell_type": "markdown",
   "metadata": {},
   "source": [
    "### Ajustamos tipos de datos:"
   ]
  },
  {
   "cell_type": "code",
   "execution_count": 12,
   "metadata": {},
   "outputs": [
    {
     "data": {
      "text/plain": [
       "['x_1', 'x_9', 'x_10', 'x_11', 'x_12', 'x_13', 'x_14', 'x_15', 'x_16', 'x_17']"
      ]
     },
     "execution_count": 12,
     "metadata": {},
     "output_type": "execute_result"
    }
   ],
   "source": [
    "# Extraemos nombres de columnas categóricas:\n",
    "categ_cols = [item[0] for item in data.dtypes if item[1].startswith('string')]\n",
    "categ_cols"
   ]
  },
  {
   "cell_type": "code",
   "execution_count": 13,
   "metadata": {},
   "outputs": [],
   "source": [
    "# A las columnas categóricas les asignamos el tipo \"String\"\n",
    "# A las columnas numéricas les asignamos el tipo \"Double\"\n",
    "\n",
    "for col in data.columns:    \n",
    "    if col in categ_cols:\n",
    "        # Asignamos el tipo \"String\"\n",
    "        data = data.withColumn( col , data[col].cast( StringType() ) )\n",
    "    else:\n",
    "        # Asignamos el tipo \"Double\"\n",
    "        data = data.withColumn( col , data[col].cast( DoubleType() ) )"
   ]
  },
  {
   "cell_type": "code",
   "execution_count": 14,
   "metadata": {},
   "outputs": [
    {
     "name": "stdout",
     "output_type": "stream",
     "text": [
      "root\n",
      " |-- x_1: string (nullable = true)\n",
      " |-- x_2: double (nullable = true)\n",
      " |-- x_3: double (nullable = true)\n",
      " |-- x_4: double (nullable = true)\n",
      " |-- x_5: double (nullable = true)\n",
      " |-- x_6: double (nullable = true)\n",
      " |-- x_7: double (nullable = true)\n",
      " |-- x_8: double (nullable = true)\n",
      " |-- x_9: string (nullable = true)\n",
      " |-- x_10: string (nullable = true)\n",
      " |-- x_11: string (nullable = true)\n",
      " |-- x_12: string (nullable = true)\n",
      " |-- x_13: string (nullable = true)\n",
      " |-- x_14: string (nullable = true)\n",
      " |-- x_15: string (nullable = true)\n",
      " |-- x_16: string (nullable = true)\n",
      " |-- x_17: string (nullable = true)\n",
      "\n"
     ]
    }
   ],
   "source": [
    "data.printSchema()"
   ]
  },
  {
   "cell_type": "markdown",
   "metadata": {},
   "source": [
    "### Identificamos columnas numéricas y categóricas"
   ]
  },
  {
   "cell_type": "code",
   "execution_count": 15,
   "metadata": {},
   "outputs": [],
   "source": [
    "data_types = data.dtypes\n",
    "numerical_columns = [ item[0] for item in data.dtypes if item[1] != 'string' ]\n",
    "categoric_columns = [ item[0] for item in data.dtypes if item[1].startswith('string') ]"
   ]
  },
  {
   "cell_type": "code",
   "execution_count": 16,
   "metadata": {},
   "outputs": [
    {
     "name": "stdout",
     "output_type": "stream",
     "text": [
      "Columnas numéricas: \n",
      " ['x_2', 'x_3', 'x_4', 'x_5', 'x_6', 'x_7', 'x_8']\n",
      "\n",
      "Columnas categóric: \n",
      " ['x_1', 'x_9', 'x_10', 'x_11', 'x_12', 'x_13', 'x_14', 'x_15', 'x_16', 'x_17']\n"
     ]
    }
   ],
   "source": [
    "print('Columnas numéricas: \\n', numerical_columns)\n",
    "print('\\nColumnas categóric: \\n', categoric_columns)"
   ]
  },
  {
   "cell_type": "markdown",
   "metadata": {},
   "source": [
    "### Trabajamos con campos nulos:"
   ]
  },
  {
   "cell_type": "code",
   "execution_count": 17,
   "metadata": {},
   "outputs": [
    {
     "data": {
      "text/html": [
       "<div>\n",
       "<style scoped>\n",
       "    .dataframe tbody tr th:only-of-type {\n",
       "        vertical-align: middle;\n",
       "    }\n",
       "\n",
       "    .dataframe tbody tr th {\n",
       "        vertical-align: top;\n",
       "    }\n",
       "\n",
       "    .dataframe thead th {\n",
       "        text-align: right;\n",
       "    }\n",
       "</style>\n",
       "<table border=\"1\" class=\"dataframe\">\n",
       "  <thead>\n",
       "    <tr style=\"text-align: right;\">\n",
       "      <th></th>\n",
       "      <th>x_1</th>\n",
       "      <th>x_2</th>\n",
       "      <th>x_3</th>\n",
       "      <th>x_4</th>\n",
       "      <th>x_5</th>\n",
       "      <th>x_6</th>\n",
       "      <th>x_7</th>\n",
       "      <th>x_8</th>\n",
       "      <th>x_9</th>\n",
       "      <th>x_10</th>\n",
       "      <th>x_11</th>\n",
       "      <th>x_12</th>\n",
       "      <th>x_13</th>\n",
       "      <th>x_14</th>\n",
       "      <th>x_15</th>\n",
       "      <th>x_16</th>\n",
       "      <th>x_17</th>\n",
       "    </tr>\n",
       "  </thead>\n",
       "  <tbody>\n",
       "    <tr>\n",
       "      <th>0</th>\n",
       "      <td>0</td>\n",
       "      <td>0</td>\n",
       "      <td>0</td>\n",
       "      <td>0</td>\n",
       "      <td>0</td>\n",
       "      <td>0</td>\n",
       "      <td>0</td>\n",
       "      <td>0</td>\n",
       "      <td>0</td>\n",
       "      <td>0</td>\n",
       "      <td>0</td>\n",
       "      <td>0</td>\n",
       "      <td>0</td>\n",
       "      <td>0</td>\n",
       "      <td>0</td>\n",
       "      <td>0</td>\n",
       "      <td>0</td>\n",
       "    </tr>\n",
       "  </tbody>\n",
       "</table>\n",
       "</div>"
      ],
      "text/plain": [
       "   x_1  x_2  x_3  x_4  x_5  x_6  x_7  x_8  x_9  x_10  x_11  x_12  x_13  x_14  \\\n",
       "0    0    0    0    0    0    0    0    0    0     0     0     0     0     0   \n",
       "\n",
       "   x_15  x_16  x_17  \n",
       "0     0     0     0  "
      ]
     },
     "execution_count": 17,
     "metadata": {},
     "output_type": "execute_result"
    }
   ],
   "source": [
    "from pyspark.sql.functions import isnull, when, count, col\n",
    "\n",
    "# Mostramos el número de campos vacíos en cada columna:\n",
    "df_nulls = data.select([count(when(isnull(c), True)).alias(c) for c in data.columns]).toPandas()\n",
    "df_nulls"
   ]
  },
  {
   "cell_type": "markdown",
   "metadata": {},
   "source": [
    "for c in df_nulls.columns:\n",
    "    # Extraemos el valor de la celda:\n",
    "    n_nulls = df_nulls[c][0]\n",
    "    if ( n_nulls > 0):\n",
    "        print('Error!!! La columna',c,'tiene',n_nulls,'campos nulos' )\n",
    "        stop()\n",
    "    else:\n",
    "        print('No se encontraron campos nulos en la columna:',c)"
   ]
  },
  {
   "cell_type": "markdown",
   "metadata": {},
   "source": [
    "### Obtenemos algunos gráficos"
   ]
  },
  {
   "cell_type": "code",
   "execution_count": 18,
   "metadata": {},
   "outputs": [],
   "source": [
    "#from pandas_profiling import ProfileReport\n",
    "\n",
    "#df_pandas = data.toPandas()\n",
    "\n",
    "#pfr = ProfileReport(df_pandas)\n",
    "#pfr.to_notebook_iframe()\n",
    "#pfr"
   ]
  },
  {
   "cell_type": "markdown",
   "metadata": {},
   "source": [
    "## Extraemos las clases de datos que hay en cada columna"
   ]
  },
  {
   "cell_type": "code",
   "execution_count": 19,
   "metadata": {},
   "outputs": [
    {
     "data": {
      "text/html": [
       "<div>\n",
       "<style scoped>\n",
       "    .dataframe tbody tr th:only-of-type {\n",
       "        vertical-align: middle;\n",
       "    }\n",
       "\n",
       "    .dataframe tbody tr th {\n",
       "        vertical-align: top;\n",
       "    }\n",
       "\n",
       "    .dataframe thead th {\n",
       "        text-align: right;\n",
       "    }\n",
       "</style>\n",
       "<table border=\"1\" class=\"dataframe\">\n",
       "  <thead>\n",
       "    <tr style=\"text-align: right;\">\n",
       "      <th></th>\n",
       "      <th>x_1</th>\n",
       "      <th>x_2</th>\n",
       "      <th>x_3</th>\n",
       "      <th>x_4</th>\n",
       "      <th>x_5</th>\n",
       "      <th>x_6</th>\n",
       "      <th>x_7</th>\n",
       "      <th>x_8</th>\n",
       "      <th>x_9</th>\n",
       "      <th>x_10</th>\n",
       "      <th>x_11</th>\n",
       "      <th>x_12</th>\n",
       "      <th>x_13</th>\n",
       "      <th>x_14</th>\n",
       "      <th>x_15</th>\n",
       "      <th>x_16</th>\n",
       "      <th>x_17</th>\n",
       "    </tr>\n",
       "  </thead>\n",
       "  <tbody>\n",
       "    <tr>\n",
       "      <th>0</th>\n",
       "      <td>8</td>\n",
       "      <td>27</td>\n",
       "      <td>2</td>\n",
       "      <td>9</td>\n",
       "      <td>5</td>\n",
       "      <td>5</td>\n",
       "      <td>1631</td>\n",
       "      <td>5</td>\n",
       "      <td>12</td>\n",
       "      <td>4</td>\n",
       "      <td>9</td>\n",
       "      <td>30</td>\n",
       "      <td>31</td>\n",
       "      <td>28</td>\n",
       "      <td>31</td>\n",
       "      <td>31</td>\n",
       "      <td>31</td>\n",
       "    </tr>\n",
       "  </tbody>\n",
       "</table>\n",
       "</div>"
      ],
      "text/plain": [
       "   x_1  x_2  x_3  x_4  x_5  x_6   x_7  x_8  x_9  x_10  x_11  x_12  x_13  x_14  \\\n",
       "0    8   27    2    9    5    5  1631    5   12     4     9    30    31    28   \n",
       "\n",
       "   x_15  x_16  x_17  \n",
       "0    31    31    31  "
      ]
     },
     "execution_count": 19,
     "metadata": {},
     "output_type": "execute_result"
    }
   ],
   "source": [
    "# Extraemos el número de clases de datos en cada columna\n",
    "\n",
    "from pyspark.sql.functions import countDistinct, col\n",
    "\n",
    "data.select( [ countDistinct( col(c) ).alias(c) for c in data.columns ] ).toPandas()"
   ]
  },
  {
   "cell_type": "markdown",
   "metadata": {},
   "source": [
    "## Identificamos la columna de labels y las columnas de features:"
   ]
  },
  {
   "cell_type": "code",
   "execution_count": 20,
   "metadata": {},
   "outputs": [
    {
     "data": {
      "text/html": [
       "<div>\n",
       "<style scoped>\n",
       "    .dataframe tbody tr th:only-of-type {\n",
       "        vertical-align: middle;\n",
       "    }\n",
       "\n",
       "    .dataframe tbody tr th {\n",
       "        vertical-align: top;\n",
       "    }\n",
       "\n",
       "    .dataframe thead th {\n",
       "        text-align: right;\n",
       "    }\n",
       "</style>\n",
       "<table border=\"1\" class=\"dataframe\">\n",
       "  <thead>\n",
       "    <tr style=\"text-align: right;\">\n",
       "      <th></th>\n",
       "      <th>x_10</th>\n",
       "    </tr>\n",
       "  </thead>\n",
       "  <tbody>\n",
       "    <tr>\n",
       "      <th>0</th>\n",
       "      <td>Device3</td>\n",
       "    </tr>\n",
       "    <tr>\n",
       "      <th>1</th>\n",
       "      <td>Device1</td>\n",
       "    </tr>\n",
       "    <tr>\n",
       "      <th>2</th>\n",
       "      <td>Device4</td>\n",
       "    </tr>\n",
       "    <tr>\n",
       "      <th>3</th>\n",
       "      <td>Device2</td>\n",
       "    </tr>\n",
       "  </tbody>\n",
       "</table>\n",
       "</div>"
      ],
      "text/plain": [
       "      x_10\n",
       "0  Device3\n",
       "1  Device1\n",
       "2  Device4\n",
       "3  Device2"
      ]
     },
     "execution_count": 20,
     "metadata": {},
     "output_type": "execute_result"
    }
   ],
   "source": [
    "label_col = \"x_10\" #\"x_3\" # <-- nombre de la columna que usaremos como labels\n",
    "\n",
    "# Obtenemos las clases de valores de la columna de labels:\n",
    "classes = data.select([ label_col ]).distinct().toPandas()\n",
    "classes"
   ]
  },
  {
   "cell_type": "code",
   "execution_count": 21,
   "metadata": {},
   "outputs": [
    {
     "data": {
      "text/plain": [
       "4"
      ]
     },
     "execution_count": 21,
     "metadata": {},
     "output_type": "execute_result"
    }
   ],
   "source": [
    "# Numero de clases de salida:\n",
    "n_class_out = len( classes )\n",
    "n_class_out"
   ]
  },
  {
   "cell_type": "code",
   "execution_count": 22,
   "metadata": {},
   "outputs": [
    {
     "data": {
      "text/plain": [
       "['x_1',\n",
       " 'x_2',\n",
       " 'x_3',\n",
       " 'x_4',\n",
       " 'x_5',\n",
       " 'x_6',\n",
       " 'x_7',\n",
       " 'x_8',\n",
       " 'x_9',\n",
       " 'x_11',\n",
       " 'x_12',\n",
       " 'x_13',\n",
       " 'x_14',\n",
       " 'x_15',\n",
       " 'x_16',\n",
       " 'x_17']"
      ]
     },
     "execution_count": 22,
     "metadata": {},
     "output_type": "execute_result"
    }
   ],
   "source": [
    "# Columnas que formaran los features:\n",
    "feature_cols = [col for col in selected_cols if col != label_col]\n",
    "feature_cols"
   ]
  },
  {
   "cell_type": "markdown",
   "metadata": {},
   "source": [
    "### Split the dataset into Train, Validation and Test"
   ]
  },
  {
   "cell_type": "code",
   "execution_count": 23,
   "metadata": {},
   "outputs": [],
   "source": [
    "train, validation, test  = data.randomSplit([0.7, 0.2, 0.1], 1234)"
   ]
  },
  {
   "cell_type": "code",
   "execution_count": 24,
   "metadata": {},
   "outputs": [
    {
     "name": "stdout",
     "output_type": "stream",
     "text": [
      "+--------+---+---+---+---+---+---+---+--------+-------+--------+------------+--------------+------------+-------------+------------+--------------------+\n",
      "|     x_1|x_2|x_3|x_4|x_5|x_6|x_7|x_8|     x_9|   x_10|    x_11|        x_12|          x_13|        x_14|         x_15|        x_16|                x_17|\n",
      "+--------+---+---+---+---+---+---+---+--------+-------+--------+------------+--------------+------------+-------------+------------+--------------------+\n",
      "|above 70|0.0|0.0|0.0|0.0|0.0|0.0|0.0|Channel1|Device1|Browser2| Entry_Page2| Site_Section1| Promo_Code1|Product_Name1|Search_Term1| Product_Collection4|\n",
      "|above 70|0.0|0.0|0.0|0.0|0.0|0.0|0.0|Channel4|Device2|Browser2| Entry_Page2| Site_Section7| Promo_Code1|Product_Name1|Search_Term2| Product_Collection1|\n",
      "|above 70|0.0|0.0|0.0|0.0|0.0|0.0|0.0|Channel5|Device1|Browser1|Entry_Page15|Site_Section18| Promo_Code1|Product_Name1|Search_Term1| Product_Collection4|\n",
      "|above 70|0.0|0.0|0.0|0.0|0.0|0.0|0.0|Channel5|Device1|Browser1| Entry_Page2|Site_Section14| Promo_Code1|Product_Name2|Search_Term1|Product_Collection15|\n",
      "|above 70|0.0|0.0|0.0|0.0|0.0|0.0|0.0|Channel5|Device1|Browser1| Entry_Page2|Site_Section22|Promo_Code25|Product_Name2|Search_Term1|Product_Collection15|\n",
      "+--------+---+---+---+---+---+---+---+--------+-------+--------+------------+--------------+------------+-------------+------------+--------------------+\n",
      "only showing top 5 rows\n",
      "\n"
     ]
    }
   ],
   "source": [
    "train.show(5)"
   ]
  },
  {
   "cell_type": "markdown",
   "metadata": {},
   "source": [
    "# Inicia creación de Pipeline\n",
    "\n",
    "Antes de llegar a este paso debemos tener el dataset limpio y listo para trabajar.\n",
    "\n",
    "Estaremos usando la función `StringIndexer` que asigna un valor entero a cada categoría de datos, iniciando forzosamente dede 0.\n",
    "\n",
    "0 se asigna a la categoría más frecuente, 1 a la siguiente categoría más frecuente y así sucesivamente.\n"
   ]
  },
  {
   "cell_type": "markdown",
   "metadata": {},
   "source": [
    "### Stage 1: Creación de columna de labels codificados"
   ]
  },
  {
   "cell_type": "code",
   "execution_count": 25,
   "metadata": {},
   "outputs": [
    {
     "data": {
      "text/plain": [
       "StringIndexer_94b0fa41eb8e"
      ]
     },
     "execution_count": 25,
     "metadata": {},
     "output_type": "execute_result"
    }
   ],
   "source": [
    "Stage_1 = StringIndexer(inputCol = label_col, outputCol = \"labels\")\n",
    "Stage_1"
   ]
  },
  {
   "cell_type": "code",
   "execution_count": 26,
   "metadata": {},
   "outputs": [
    {
     "name": "stdout",
     "output_type": "stream",
     "text": [
      "+--------+---+---+---+---+---+---+---+--------+-------+--------+------------+--------------+------------+-------------+------------+--------------------+------+\n",
      "|     x_1|x_2|x_3|x_4|x_5|x_6|x_7|x_8|     x_9|   x_10|    x_11|        x_12|          x_13|        x_14|         x_15|        x_16|                x_17|labels|\n",
      "+--------+---+---+---+---+---+---+---+--------+-------+--------+------------+--------------+------------+-------------+------------+--------------------+------+\n",
      "|above 70|0.0|0.0|0.0|0.0|0.0|0.0|0.0|Channel1|Device1|Browser2| Entry_Page2| Site_Section1| Promo_Code1|Product_Name1|Search_Term1| Product_Collection4|   0.0|\n",
      "|above 70|0.0|0.0|0.0|0.0|0.0|0.0|0.0|Channel4|Device2|Browser2| Entry_Page2| Site_Section7| Promo_Code1|Product_Name1|Search_Term2| Product_Collection1|   1.0|\n",
      "|above 70|0.0|0.0|0.0|0.0|0.0|0.0|0.0|Channel5|Device1|Browser1|Entry_Page15|Site_Section18| Promo_Code1|Product_Name1|Search_Term1| Product_Collection4|   0.0|\n",
      "|above 70|0.0|0.0|0.0|0.0|0.0|0.0|0.0|Channel5|Device1|Browser1| Entry_Page2|Site_Section14| Promo_Code1|Product_Name2|Search_Term1|Product_Collection15|   0.0|\n",
      "|above 70|0.0|0.0|0.0|0.0|0.0|0.0|0.0|Channel5|Device1|Browser1| Entry_Page2|Site_Section22|Promo_Code25|Product_Name2|Search_Term1|Product_Collection15|   0.0|\n",
      "+--------+---+---+---+---+---+---+---+--------+-------+--------+------------+--------------+------------+-------------+------------+--------------------+------+\n",
      "only showing top 5 rows\n",
      "\n"
     ]
    }
   ],
   "source": [
    "# Ver la salida del stage \n",
    "Scaler_1 = Stage_1.fit(train)\n",
    "data_transform = Scaler_1.transform(train)\n",
    "data_transform.show(5)"
   ]
  },
  {
   "cell_type": "markdown",
   "metadata": {},
   "source": [
    "### Stage 2: Transformación de features categóricos a numéricos"
   ]
  },
  {
   "cell_type": "code",
   "execution_count": 27,
   "metadata": {},
   "outputs": [
    {
     "data": {
      "text/plain": [
       "['x_1', 'x_9', 'x_11', 'x_12', 'x_13', 'x_14', 'x_15', 'x_16', 'x_17']"
      ]
     },
     "execution_count": 27,
     "metadata": {},
     "output_type": "execute_result"
    }
   ],
   "source": [
    "# Extraemos nombres de columnas categóricas que formaran los features (ie. no incluyen el label):\n",
    "categoric_cols_features = [ c for c in categoric_columns if c != label_col ]\n",
    "categoric_cols_features"
   ]
  },
  {
   "cell_type": "code",
   "execution_count": 28,
   "metadata": {},
   "outputs": [
    {
     "data": {
      "text/plain": [
       "['x_1_num',\n",
       " 'x_9_num',\n",
       " 'x_11_num',\n",
       " 'x_12_num',\n",
       " 'x_13_num',\n",
       " 'x_14_num',\n",
       " 'x_15_num',\n",
       " 'x_16_num',\n",
       " 'x_17_num']"
      ]
     },
     "execution_count": 28,
     "metadata": {},
     "output_type": "execute_result"
    }
   ],
   "source": [
    "# Creamos nombres de nuevas columnas numéricas que formaran los features:\n",
    "categoric_cols_features_num = [ c+'_num' for c in categoric_cols_features]\n",
    "categoric_cols_features_num"
   ]
  },
  {
   "cell_type": "code",
   "execution_count": 29,
   "metadata": {},
   "outputs": [
    {
     "data": {
      "text/plain": [
       "[StringIndexer_61291796020f,\n",
       " StringIndexer_8ba84babd04e,\n",
       " StringIndexer_5aec717833af,\n",
       " StringIndexer_66e9efe1bb6b,\n",
       " StringIndexer_78b55cabe1e2,\n",
       " StringIndexer_fc9049dcdace,\n",
       " StringIndexer_36f743a4d6bc,\n",
       " StringIndexer_68b146bc0cc2,\n",
       " StringIndexer_4eecafe362b6]"
      ]
     },
     "execution_count": 29,
     "metadata": {},
     "output_type": "execute_result"
    }
   ],
   "source": [
    "# Agregamos nuevas columnas numéricas para los features:\n",
    "Stage_2 = []\n",
    "for i in range( len(categoric_cols_features) ):    \n",
    "    st_i = StringIndexer(inputCol = categoric_cols_features[i] , outputCol = categoric_cols_features_num[i] , handleInvalid='keep')\n",
    "    Stage_2.append(st_i)\n",
    "\n",
    "Stage_2"
   ]
  },
  {
   "cell_type": "code",
   "execution_count": 30,
   "metadata": {},
   "outputs": [
    {
     "name": "stdout",
     "output_type": "stream",
     "text": [
      "+--------+---+---+---+---+---+---+---+--------+-------+--------+------------+--------------+------------+-------------+------------+--------------------+------+-------+-------+--------+--------+--------+--------+--------+--------+--------+\n",
      "|     x_1|x_2|x_3|x_4|x_5|x_6|x_7|x_8|     x_9|   x_10|    x_11|        x_12|          x_13|        x_14|         x_15|        x_16|                x_17|labels|x_1_num|x_9_num|x_11_num|x_12_num|x_13_num|x_14_num|x_15_num|x_16_num|x_17_num|\n",
      "+--------+---+---+---+---+---+---+---+--------+-------+--------+------------+--------------+------------+-------------+------------+--------------------+------+-------+-------+--------+--------+--------+--------+--------+--------+--------+\n",
      "|above 70|0.0|0.0|0.0|0.0|0.0|0.0|0.0|Channel1|Device1|Browser2| Entry_Page2| Site_Section1| Promo_Code1|Product_Name1|Search_Term1| Product_Collection4|   0.0|    4.0|    7.0|     1.0|     1.0|     0.0|     0.0|     0.0|     0.0|     0.0|\n",
      "|above 70|0.0|0.0|0.0|0.0|0.0|0.0|0.0|Channel4|Device2|Browser2| Entry_Page2| Site_Section7| Promo_Code1|Product_Name1|Search_Term2| Product_Collection1|   1.0|    4.0|    3.0|     1.0|     1.0|    11.0|     0.0|     0.0|     1.0|     3.0|\n",
      "|above 70|0.0|0.0|0.0|0.0|0.0|0.0|0.0|Channel5|Device1|Browser1|Entry_Page15|Site_Section18| Promo_Code1|Product_Name1|Search_Term1| Product_Collection4|   0.0|    4.0|    4.0|     0.0|     8.0|     8.0|     0.0|     0.0|     0.0|     0.0|\n",
      "|above 70|0.0|0.0|0.0|0.0|0.0|0.0|0.0|Channel5|Device1|Browser1| Entry_Page2|Site_Section14| Promo_Code1|Product_Name2|Search_Term1|Product_Collection15|   0.0|    4.0|    4.0|     0.0|     1.0|     9.0|     0.0|     1.0|     0.0|     5.0|\n",
      "|above 70|0.0|0.0|0.0|0.0|0.0|0.0|0.0|Channel5|Device1|Browser1| Entry_Page2|Site_Section22|Promo_Code25|Product_Name2|Search_Term1|Product_Collection15|   0.0|    4.0|    4.0|     0.0|     1.0|     5.0|    24.0|     1.0|     0.0|     5.0|\n",
      "+--------+---+---+---+---+---+---+---+--------+-------+--------+------------+--------------+------------+-------------+------------+--------------------+------+-------+-------+--------+--------+--------+--------+--------+--------+--------+\n",
      "only showing top 5 rows\n",
      "\n"
     ]
    }
   ],
   "source": [
    "# Ver la salida del stage \n",
    "for st in Stage_2:\n",
    "    Scaler_i = st.fit(data_transform)\n",
    "    data_transform = Scaler_i.transform(data_transform)\n",
    "    \n",
    "data_transform.show(5)"
   ]
  },
  {
   "cell_type": "markdown",
   "metadata": {},
   "source": [
    "### Stage 3: Creación de columna de vectores de features"
   ]
  },
  {
   "cell_type": "code",
   "execution_count": 31,
   "metadata": {},
   "outputs": [
    {
     "data": {
      "text/plain": [
       "['x_2', 'x_3', 'x_4', 'x_5', 'x_6', 'x_7', 'x_8']"
      ]
     },
     "execution_count": 31,
     "metadata": {},
     "output_type": "execute_result"
    }
   ],
   "source": [
    "# Extraemos columnas numéricas para los features:\n",
    "numeric_cols_features = [col for col in numerical_columns if col != label_col]\n",
    "numeric_cols_features"
   ]
  },
  {
   "cell_type": "code",
   "execution_count": 32,
   "metadata": {},
   "outputs": [
    {
     "data": {
      "text/plain": [
       "['x_2',\n",
       " 'x_3',\n",
       " 'x_4',\n",
       " 'x_5',\n",
       " 'x_6',\n",
       " 'x_7',\n",
       " 'x_8',\n",
       " 'x_1_num',\n",
       " 'x_9_num',\n",
       " 'x_11_num',\n",
       " 'x_12_num',\n",
       " 'x_13_num',\n",
       " 'x_14_num',\n",
       " 'x_15_num',\n",
       " 'x_16_num',\n",
       " 'x_17_num']"
      ]
     },
     "execution_count": 32,
     "metadata": {},
     "output_type": "execute_result"
    }
   ],
   "source": [
    "# Coleccionamos todas las columnas numericas que formaran a los features:\n",
    "required_features = numeric_cols_features + categoric_cols_features_num\n",
    "required_features"
   ]
  },
  {
   "cell_type": "code",
   "execution_count": 33,
   "metadata": {},
   "outputs": [
    {
     "data": {
      "text/plain": [
       "VectorAssembler_e8a5692e495c"
      ]
     },
     "execution_count": 33,
     "metadata": {},
     "output_type": "execute_result"
    }
   ],
   "source": [
    "Stage_3 = VectorAssembler(inputCols=required_features, outputCol='features')\n",
    "Stage_3"
   ]
  },
  {
   "cell_type": "code",
   "execution_count": 34,
   "metadata": {},
   "outputs": [
    {
     "name": "stdout",
     "output_type": "stream",
     "text": [
      "+--------+---+---+---+---+---+---+---+--------+-------+--------+------------+--------------+------------+-------------+------------+--------------------+------+-------+-------+--------+--------+--------+--------+--------+--------+--------+--------------------+\n",
      "|     x_1|x_2|x_3|x_4|x_5|x_6|x_7|x_8|     x_9|   x_10|    x_11|        x_12|          x_13|        x_14|         x_15|        x_16|                x_17|labels|x_1_num|x_9_num|x_11_num|x_12_num|x_13_num|x_14_num|x_15_num|x_16_num|x_17_num|            features|\n",
      "+--------+---+---+---+---+---+---+---+--------+-------+--------+------------+--------------+------------+-------------+------------+--------------------+------+-------+-------+--------+--------+--------+--------+--------+--------+--------+--------------------+\n",
      "|above 70|0.0|0.0|0.0|0.0|0.0|0.0|0.0|Channel1|Device1|Browser2| Entry_Page2| Site_Section1| Promo_Code1|Product_Name1|Search_Term1| Product_Collection4|   0.0|    4.0|    7.0|     1.0|     1.0|     0.0|     0.0|     0.0|     0.0|     0.0|(16,[7,8,9,10],[4...|\n",
      "|above 70|0.0|0.0|0.0|0.0|0.0|0.0|0.0|Channel4|Device2|Browser2| Entry_Page2| Site_Section7| Promo_Code1|Product_Name1|Search_Term2| Product_Collection1|   1.0|    4.0|    3.0|     1.0|     1.0|    11.0|     0.0|     0.0|     1.0|     3.0|(16,[7,8,9,10,11,...|\n",
      "|above 70|0.0|0.0|0.0|0.0|0.0|0.0|0.0|Channel5|Device1|Browser1|Entry_Page15|Site_Section18| Promo_Code1|Product_Name1|Search_Term1| Product_Collection4|   0.0|    4.0|    4.0|     0.0|     8.0|     8.0|     0.0|     0.0|     0.0|     0.0|(16,[7,8,10,11],[...|\n",
      "|above 70|0.0|0.0|0.0|0.0|0.0|0.0|0.0|Channel5|Device1|Browser1| Entry_Page2|Site_Section14| Promo_Code1|Product_Name2|Search_Term1|Product_Collection15|   0.0|    4.0|    4.0|     0.0|     1.0|     9.0|     0.0|     1.0|     0.0|     5.0|(16,[7,8,10,11,13...|\n",
      "|above 70|0.0|0.0|0.0|0.0|0.0|0.0|0.0|Channel5|Device1|Browser1| Entry_Page2|Site_Section22|Promo_Code25|Product_Name2|Search_Term1|Product_Collection15|   0.0|    4.0|    4.0|     0.0|     1.0|     5.0|    24.0|     1.0|     0.0|     5.0|(16,[7,8,10,11,12...|\n",
      "+--------+---+---+---+---+---+---+---+--------+-------+--------+------------+--------------+------------+-------------+------------+--------------------+------+-------+-------+--------+--------+--------+--------+--------+--------+--------+--------------------+\n",
      "only showing top 5 rows\n",
      "\n"
     ]
    }
   ],
   "source": [
    "# Ver la salida del stage \n",
    "data_transform = Stage_3.transform(data_transform)\n",
    "data_transform.show(5)"
   ]
  },
  {
   "cell_type": "markdown",
   "metadata": {},
   "source": [
    "### Stage 4: Creación de columna de vectores de features reescalados (entre 0 y 1)"
   ]
  },
  {
   "cell_type": "code",
   "execution_count": 35,
   "metadata": {},
   "outputs": [
    {
     "data": {
      "text/plain": [
       "MinMaxScaler_764b7c2a2ce3"
      ]
     },
     "execution_count": 35,
     "metadata": {},
     "output_type": "execute_result"
    }
   ],
   "source": [
    "### Reescalamos los features para tomen valore entre 0 y 1:\n",
    "Stage_4 = MinMaxScaler(min=0.0, max=1.0, inputCol=\"features\", outputCol=\"scaled_features\")\n",
    "Stage_4"
   ]
  },
  {
   "cell_type": "code",
   "execution_count": 36,
   "metadata": {},
   "outputs": [
    {
     "name": "stdout",
     "output_type": "stream",
     "text": [
      "+--------+---+---+---+---+---+---+---+--------+-------+--------+------------+--------------+------------+-------------+------------+--------------------+------+-------+-------+--------+--------+--------+--------+--------+--------+--------+--------------------+--------------------+\n",
      "|     x_1|x_2|x_3|x_4|x_5|x_6|x_7|x_8|     x_9|   x_10|    x_11|        x_12|          x_13|        x_14|         x_15|        x_16|                x_17|labels|x_1_num|x_9_num|x_11_num|x_12_num|x_13_num|x_14_num|x_15_num|x_16_num|x_17_num|            features|     scaled_features|\n",
      "+--------+---+---+---+---+---+---+---+--------+-------+--------+------------+--------------+------------+-------------+------------+--------------------+------+-------+-------+--------+--------+--------+--------+--------+--------+--------+--------------------+--------------------+\n",
      "|above 70|0.0|0.0|0.0|0.0|0.0|0.0|0.0|Channel1|Device1|Browser2| Entry_Page2| Site_Section1| Promo_Code1|Product_Name1|Search_Term1| Product_Collection4|   0.0|    4.0|    7.0|     1.0|     1.0|     0.0|     0.0|     0.0|     0.0|     0.0|(16,[7,8,9,10],[4...|(16,[7,8,9,10],[0...|\n",
      "|above 70|0.0|0.0|0.0|0.0|0.0|0.0|0.0|Channel4|Device2|Browser2| Entry_Page2| Site_Section7| Promo_Code1|Product_Name1|Search_Term2| Product_Collection1|   1.0|    4.0|    3.0|     1.0|     1.0|    11.0|     0.0|     0.0|     1.0|     3.0|(16,[7,8,9,10,11,...|(16,[7,8,9,10,11,...|\n",
      "|above 70|0.0|0.0|0.0|0.0|0.0|0.0|0.0|Channel5|Device1|Browser1|Entry_Page15|Site_Section18| Promo_Code1|Product_Name1|Search_Term1| Product_Collection4|   0.0|    4.0|    4.0|     0.0|     8.0|     8.0|     0.0|     0.0|     0.0|     0.0|(16,[7,8,10,11],[...|(16,[7,8,10,11],[...|\n",
      "|above 70|0.0|0.0|0.0|0.0|0.0|0.0|0.0|Channel5|Device1|Browser1| Entry_Page2|Site_Section14| Promo_Code1|Product_Name2|Search_Term1|Product_Collection15|   0.0|    4.0|    4.0|     0.0|     1.0|     9.0|     0.0|     1.0|     0.0|     5.0|(16,[7,8,10,11,13...|(16,[7,8,10,11,13...|\n",
      "|above 70|0.0|0.0|0.0|0.0|0.0|0.0|0.0|Channel5|Device1|Browser1| Entry_Page2|Site_Section22|Promo_Code25|Product_Name2|Search_Term1|Product_Collection15|   0.0|    4.0|    4.0|     0.0|     1.0|     5.0|    24.0|     1.0|     0.0|     5.0|(16,[7,8,10,11,12...|(16,[7,8,10,11,12...|\n",
      "+--------+---+---+---+---+---+---+---+--------+-------+--------+------------+--------------+------------+-------------+------------+--------------------+------+-------+-------+--------+--------+--------+--------+--------+--------+--------+--------------------+--------------------+\n",
      "only showing top 5 rows\n",
      "\n",
      "+--------------------------------------------------------+----------------------------------------------------------------------------------------------------------------------------------------------------------------------+\n",
      "|features                                                |scaled_features                                                                                                                                                       |\n",
      "+--------------------------------------------------------+----------------------------------------------------------------------------------------------------------------------------------------------------------------------+\n",
      "|(16,[7,8,9,10],[4.0,7.0,1.0,1.0])                       |(16,[7,8,9,10],[0.5714285714285714,0.6363636363636364,0.125,0.034482758620689655])                                                                                    |\n",
      "|(16,[7,8,9,10,11,14,15],[4.0,3.0,1.0,1.0,11.0,1.0,3.0]) |(16,[7,8,9,10,11,14,15],[0.5714285714285714,0.2727272727272727,0.125,0.034482758620689655,0.36666666666666664,0.03333333333333333,0.1])                               |\n",
      "|(16,[7,8,10,11],[4.0,4.0,8.0,8.0])                      |(16,[7,8,10,11],[0.5714285714285714,0.36363636363636365,0.27586206896551724,0.26666666666666666])                                                                     |\n",
      "|(16,[7,8,10,11,13,15],[4.0,4.0,1.0,9.0,1.0,5.0])        |(16,[7,8,10,11,13,15],[0.5714285714285714,0.36363636363636365,0.034482758620689655,0.3,0.03333333333333333,0.16666666666666666])                                      |\n",
      "|(16,[7,8,10,11,12,13,15],[4.0,4.0,1.0,5.0,24.0,1.0,5.0])|(16,[7,8,10,11,12,13,15],[0.5714285714285714,0.36363636363636365,0.034482758620689655,0.16666666666666666,0.8888888888888888,0.03333333333333333,0.16666666666666666])|\n",
      "+--------------------------------------------------------+----------------------------------------------------------------------------------------------------------------------------------------------------------------------+\n",
      "only showing top 5 rows\n",
      "\n"
     ]
    }
   ],
   "source": [
    "# Ver la salida del stage:\n",
    "Scaler_4 = Stage_4.fit(data_transform)\n",
    "data_transform = Scaler_4.transform(data_transform)\n",
    "data_transform.show(5)\n",
    "data_transform.select(['features','scaled_features']).show(5,truncate=False)\n"
   ]
  },
  {
   "cell_type": "code",
   "execution_count": 37,
   "metadata": {},
   "outputs": [
    {
     "name": "stdout",
     "output_type": "stream",
     "text": [
      "root\n",
      " |-- x_1: string (nullable = true)\n",
      " |-- x_2: double (nullable = true)\n",
      " |-- x_3: double (nullable = true)\n",
      " |-- x_4: double (nullable = true)\n",
      " |-- x_5: double (nullable = true)\n",
      " |-- x_6: double (nullable = true)\n",
      " |-- x_7: double (nullable = true)\n",
      " |-- x_8: double (nullable = true)\n",
      " |-- x_9: string (nullable = true)\n",
      " |-- x_10: string (nullable = true)\n",
      " |-- x_11: string (nullable = true)\n",
      " |-- x_12: string (nullable = true)\n",
      " |-- x_13: string (nullable = true)\n",
      " |-- x_14: string (nullable = true)\n",
      " |-- x_15: string (nullable = true)\n",
      " |-- x_16: string (nullable = true)\n",
      " |-- x_17: string (nullable = true)\n",
      " |-- labels: double (nullable = false)\n",
      " |-- x_1_num: double (nullable = false)\n",
      " |-- x_9_num: double (nullable = false)\n",
      " |-- x_11_num: double (nullable = false)\n",
      " |-- x_12_num: double (nullable = false)\n",
      " |-- x_13_num: double (nullable = false)\n",
      " |-- x_14_num: double (nullable = false)\n",
      " |-- x_15_num: double (nullable = false)\n",
      " |-- x_16_num: double (nullable = false)\n",
      " |-- x_17_num: double (nullable = false)\n",
      " |-- features: vector (nullable = true)\n",
      " |-- scaled_features: vector (nullable = true)\n",
      "\n"
     ]
    }
   ],
   "source": [
    "data_transform.printSchema()"
   ]
  },
  {
   "cell_type": "markdown",
   "metadata": {},
   "source": [
    "### Stage 5: Construcción del modelo"
   ]
  },
  {
   "cell_type": "code",
   "execution_count": 38,
   "metadata": {},
   "outputs": [
    {
     "data": {
      "text/plain": [
       "16"
      ]
     },
     "execution_count": 38,
     "metadata": {},
     "output_type": "execute_result"
    }
   ],
   "source": [
    "# Tamaño (dimensión) de cada feature:\n",
    "dim_xi = len( required_features )\n",
    "dim_xi"
   ]
  },
  {
   "cell_type": "code",
   "execution_count": 39,
   "metadata": {},
   "outputs": [
    {
     "data": {
      "text/plain": [
       "[16, 10, 10, 4]"
      ]
     },
     "execution_count": 39,
     "metadata": {},
     "output_type": "execute_result"
    }
   ],
   "source": [
    "# Definimos el número de neuronas en cada capa de la red:\n",
    "layers = [ dim_xi, 10, 10, n_class_out]\n",
    "layers"
   ]
  },
  {
   "cell_type": "code",
   "execution_count": 40,
   "metadata": {},
   "outputs": [
    {
     "data": {
      "text/plain": [
       "514"
      ]
     },
     "execution_count": 40,
     "metadata": {},
     "output_type": "execute_result"
    }
   ],
   "source": [
    "# Batch_size\n",
    "batch_size = round( 0.01*train.count()  )# 128\n",
    "batch_size"
   ]
  },
  {
   "cell_type": "code",
   "execution_count": 41,
   "metadata": {},
   "outputs": [
    {
     "data": {
      "text/plain": [
       "MultilayerPerceptronClassifier_82b36949e200"
      ]
     },
     "execution_count": 41,
     "metadata": {},
     "output_type": "execute_result"
    }
   ],
   "source": [
    "# Declaramos el clasificador: \n",
    "Stage_5 = MultilayerPerceptronClassifier(\n",
    "    labelCol='labels', \n",
    "    featuresCol='scaled_features', \n",
    "    maxIter=200, \n",
    "    layers=layers, \n",
    "    blockSize=batch_size, \n",
    "    seed=1234,\n",
    "    stepSize=0.05,\n",
    "    solver='l-bfgs'\n",
    "    )\n",
    "    \n",
    "Stage_5"
   ]
  },
  {
   "cell_type": "markdown",
   "metadata": {},
   "source": [
    "## Ensamble del Pipeline"
   ]
  },
  {
   "cell_type": "code",
   "execution_count": 42,
   "metadata": {},
   "outputs": [
    {
     "data": {
      "text/plain": [
       "[StringIndexer_94b0fa41eb8e,\n",
       " StringIndexer_61291796020f,\n",
       " StringIndexer_8ba84babd04e,\n",
       " StringIndexer_5aec717833af,\n",
       " StringIndexer_66e9efe1bb6b,\n",
       " StringIndexer_78b55cabe1e2,\n",
       " StringIndexer_fc9049dcdace,\n",
       " StringIndexer_36f743a4d6bc,\n",
       " StringIndexer_68b146bc0cc2,\n",
       " StringIndexer_4eecafe362b6,\n",
       " VectorAssembler_e8a5692e495c,\n",
       " MinMaxScaler_764b7c2a2ce3,\n",
       " MultilayerPerceptronClassifier_82b36949e200]"
      ]
     },
     "execution_count": 42,
     "metadata": {},
     "output_type": "execute_result"
    }
   ],
   "source": [
    "# Coleccionamos todos los Satges en una lista:\n",
    "Stages_list = [Stage_1] + Stage_2 + [ Stage_3, Stage_4, Stage_5]\n",
    "Stages_list"
   ]
  },
  {
   "cell_type": "code",
   "execution_count": 43,
   "metadata": {},
   "outputs": [
    {
     "data": {
      "text/plain": [
       "Pipeline_e28408d1d945"
      ]
     },
     "execution_count": 43,
     "metadata": {},
     "output_type": "execute_result"
    }
   ],
   "source": [
    "pipeline = Pipeline(stages = Stages_list )\n",
    "pipeline"
   ]
  },
  {
   "cell_type": "markdown",
   "metadata": {},
   "source": [
    "## Ejecución del Pipeline"
   ]
  },
  {
   "cell_type": "code",
   "execution_count": 44,
   "metadata": {},
   "outputs": [
    {
     "data": {
      "text/plain": [
       "PipelineModel_d03dc96b0959"
      ]
     },
     "execution_count": 44,
     "metadata": {},
     "output_type": "execute_result"
    }
   ],
   "source": [
    "# Ejecutamos el pipeline y se entrena el modelo con los datos de entrenamiento:\n",
    "\n",
    "model = pipeline.fit(train)\n",
    "\n",
    "model # <-- Contiene el modelo entrenado"
   ]
  },
  {
   "cell_type": "markdown",
   "metadata": {},
   "source": [
    "## Predecimos datos de entrenamiento, validación y pruebas:"
   ]
  },
  {
   "cell_type": "code",
   "execution_count": 45,
   "metadata": {},
   "outputs": [],
   "source": [
    "cols_to_show = ['labels', 'scaled_features', 'rawPrediction','probability','prediction']"
   ]
  },
  {
   "cell_type": "code",
   "execution_count": 46,
   "metadata": {},
   "outputs": [
    {
     "name": "stdout",
     "output_type": "stream",
     "text": [
      "+------+--------------------+--------------------+--------------------+----------+\n",
      "|labels|     scaled_features|       rawPrediction|         probability|prediction|\n",
      "+------+--------------------+--------------------+--------------------+----------+\n",
      "|   0.0|(16,[7,8,9,10],[0...|[3.15479636889047...|[0.74226546906052...|       0.0|\n",
      "|   1.0|(16,[7,8,9,10,11,...|[2.91972917595144...|[0.62307831299302...|       0.0|\n",
      "|   0.0|(16,[7,8,10,11],[...|[4.27732737506947...|[0.95719378288419...|       0.0|\n",
      "|   0.0|(16,[7,8,10,11,13...|[4.20355946996423...|[0.95462410504392...|       0.0|\n",
      "|   0.0|(16,[7,8,10,11,12...|[2.98096499218038...|[0.82130217411974...|       0.0|\n",
      "+------+--------------------+--------------------+--------------------+----------+\n",
      "only showing top 5 rows\n",
      "\n"
     ]
    }
   ],
   "source": [
    "# Predecimos datos de entrenamiento:\n",
    "train_prediction = model.transform(train)\n",
    "train_prediction.select(cols_to_show).show(5)"
   ]
  },
  {
   "cell_type": "code",
   "execution_count": 47,
   "metadata": {},
   "outputs": [
    {
     "name": "stdout",
     "output_type": "stream",
     "text": [
      "+------+--------------------+--------------------+--------------------+----------+\n",
      "|labels|     scaled_features|       rawPrediction|         probability|prediction|\n",
      "+------+--------------------+--------------------+--------------------+----------+\n",
      "|   0.0|(16,[7,8,9,11],[0...|[3.15048674678314...|[0.74024018494556...|       0.0|\n",
      "|   0.0|(16,[7,8,9,10],[0...|[3.15479636889047...|[0.74226546906052...|       0.0|\n",
      "|   0.0|(16,[7,8,11,13,15...|[4.22499472162357...|[0.95565336949326...|       0.0|\n",
      "|   0.0|(16,[5,7,8,10,11]...|[4.13483238158360...|[0.95118693599229...|       0.0|\n",
      "|   1.0|(16,[5,7,8,9,10,1...|[2.98351183302904...|[0.66693581266729...|       0.0|\n",
      "+------+--------------------+--------------------+--------------------+----------+\n",
      "only showing top 5 rows\n",
      "\n"
     ]
    }
   ],
   "source": [
    "# Predecimos datos de validación:\n",
    "val_prediction = model.transform(validation)\n",
    "val_prediction.select(cols_to_show).show(5)"
   ]
  },
  {
   "cell_type": "code",
   "execution_count": 48,
   "metadata": {},
   "outputs": [
    {
     "name": "stdout",
     "output_type": "stream",
     "text": [
      "+------+--------------------+--------------------+--------------------+----------+\n",
      "|labels|     scaled_features|       rawPrediction|         probability|prediction|\n",
      "+------+--------------------+--------------------+--------------------+----------+\n",
      "|   1.0|(16,[5,7,8,9,10,1...|[2.91340546775139...|[0.61907113860652...|       0.0|\n",
      "|   1.0|(16,[5,7,8,9,10],...|[3.00139745067683...|[0.68000620967572...|       0.0|\n",
      "|   1.0|(16,[1,5,7,8,9,13...|[1.63564638325819...|[0.02352854119603...|       1.0|\n",
      "|   1.0|(16,[1,5,7,8,9,12...|[2.88689268426310...|[0.60587761918991...|       0.0|\n",
      "|   1.0|(16,[1,5,7,8,9,10...|[2.83654787744289...|[0.57100856125019...|       0.0|\n",
      "+------+--------------------+--------------------+--------------------+----------+\n",
      "only showing top 5 rows\n",
      "\n"
     ]
    }
   ],
   "source": [
    "# Predecimos datos de pruebas:\n",
    "test_prediction = model.transform(test)\n",
    "test_prediction.select(cols_to_show).show(5)"
   ]
  },
  {
   "cell_type": "markdown",
   "metadata": {},
   "source": [
    "## Evaluate the Predictions"
   ]
  },
  {
   "cell_type": "code",
   "execution_count": 49,
   "metadata": {},
   "outputs": [],
   "source": [
    "# Seleccionamos las columnas 'label' y 'prediction' de los DataFrames predichos:\n",
    "train_Labels_Prediction = train_prediction.select('labels','prediction')\n",
    "validation_Labels_Prediction = val_prediction.select('labels','prediction')\n",
    "test_Labels_Prediction = test_prediction.select('labels','prediction')"
   ]
  },
  {
   "cell_type": "code",
   "execution_count": 50,
   "metadata": {},
   "outputs": [
    {
     "name": "stdout",
     "output_type": "stream",
     "text": [
      "\n",
      "Valores de metrica << weightedPrecision >>\n",
      "Train =  0.7137631633863583\n",
      "Validation =  0.723014400812884\n",
      "Test =  0.7208873508623836\n",
      "\n",
      "Valores de metrica << weightedRecall >>\n",
      "Train =  0.755849460274239\n",
      "Validation =  0.7665800629016819\n",
      "Test =  0.7637657802847165\n",
      "\n",
      "Valores de metrica << accuracy >>\n",
      "Train =  0.755849460274239\n",
      "Validation =  0.7665800629016819\n",
      "Test =  0.7637657802847166\n"
     ]
    }
   ],
   "source": [
    "# Elegimos las siguientes métricas:\n",
    "metrics = ['weightedPrecision', 'weightedRecall', 'accuracy']\n",
    "\n",
    "# Obtenemos los valores de cada métrica, aplicadas a los datos de entrenamiento, validación y pruebas:\n",
    "for metric in metrics:\n",
    "    # Declaramos la métrica actual:\n",
    "    evaluator = MulticlassClassificationEvaluator(labelCol='labels', predictionCol='prediction', metricName=metric)\n",
    "    \n",
    "    f_train = evaluator.evaluate( train_Labels_Prediction )\n",
    "    f_validation = evaluator.evaluate( validation_Labels_Prediction )\n",
    "    f_test = evaluator.evaluate( test_Labels_Prediction )\n",
    "\n",
    "    print('\\nValores de metrica << ' + metric ,'>>' )\n",
    "    print('Train = ' , f_train)\n",
    "    print('Validation = ' , f_validation)\n",
    "    print('Test = ' , f_test)"
   ]
  },
  {
   "cell_type": "markdown",
   "metadata": {},
   "source": [
    "### Guardamos el modelo entrenado:"
   ]
  },
  {
   "cell_type": "code",
   "execution_count": 51,
   "metadata": {},
   "outputs": [
    {
     "name": "stdout",
     "output_type": "stream",
     "text": [
      "Se ejecutó:  rm -r ./Models_trained/pipeline_model_Book\n"
     ]
    }
   ],
   "source": [
    "import os\n",
    "from os import system\n",
    "\n",
    "path = './Models_trained/pipeline_model_Book'\n",
    "\n",
    "# En caso de que exista la ruta la borramos para volver a crearla:\n",
    "if os.path.exists( path ):\n",
    "    # Comando a ejecutar:\n",
    "    comando = 'rm -r ' + path\n",
    "    # Ejecutamos el comando:\n",
    "    system( comando )\n",
    "    print('Se ejecutó: ',comando)\n",
    "\n",
    "\n",
    "# Guardamos el modelo entrenado:\n",
    "model.save( path )"
   ]
  },
  {
   "cell_type": "markdown",
   "metadata": {},
   "source": [
    "### Cargamos el modelo entrenado y hacemos una predicción:"
   ]
  },
  {
   "cell_type": "code",
   "execution_count": 52,
   "metadata": {},
   "outputs": [],
   "source": [
    "# Cargamos el modelo:\n",
    "#from pyspark.ml.classification import MultilayerPerceptronClassificationModel\n",
    "from pyspark.ml import PipelineModel\n",
    "\n",
    "modelo_NN = PipelineModel.load( path )"
   ]
  },
  {
   "cell_type": "code",
   "execution_count": 53,
   "metadata": {},
   "outputs": [
    {
     "name": "stdout",
     "output_type": "stream",
     "text": [
      "+--------+---+---+---+---+---+-----------+---+--------+-------+--------+-----------+-------------+-----------+--------------+------------+--------------------+------+-------+-------+--------+--------+--------+--------+--------+--------+--------+--------------------+--------------------+--------------------+--------------------+----------+\n",
      "|     x_1|x_2|x_3|x_4|x_5|x_6|        x_7|x_8|     x_9|   x_10|    x_11|       x_12|         x_13|       x_14|          x_15|        x_16|                x_17|labels|x_1_num|x_9_num|x_11_num|x_12_num|x_13_num|x_14_num|x_15_num|x_16_num|x_17_num|            features|     scaled_features|       rawPrediction|         probability|prediction|\n",
      "+--------+---+---+---+---+---+-----------+---+--------+-------+--------+-----------+-------------+-----------+--------------+------------+--------------------+------+-------+-------+--------+--------+--------+--------+--------+--------+--------+--------------------+--------------------+--------------------+--------------------+----------+\n",
      "|above 70|0.0|0.0|0.0|0.0|0.0|0.046849943|0.0|Channel4|Device2|Browser2|Entry_Page2|Site_Section5|Promo_Code1| Product_Name1|Search_Term2|Product_Collection12|   1.0|    4.0|    3.0|     1.0|     1.0|     1.0|     0.0|     0.0|     1.0|    14.0|(16,[5,7,8,9,10,1...|(16,[5,7,8,9,10,1...|[2.91340546775139...|[0.61907113860652...|       0.0|\n",
      "|above 70|0.0|0.0|0.0|0.0|0.0|0.300687285|0.0|Channel4|Device2|Browser2|Entry_Page2|Site_Section1|Promo_Code1| Product_Name1|Search_Term1| Product_Collection4|   1.0|    4.0|    3.0|     1.0|     1.0|     0.0|     0.0|     0.0|     0.0|     0.0|(16,[5,7,8,9,10],...|(16,[5,7,8,9,10],...|[3.00139745067683...|[0.68000620967572...|       0.0|\n",
      "|above 70|0.0|1.0|0.0|0.0|0.0|0.005612829|0.0|Channel4|Device2|Browser5|Entry_Page1|Site_Section1|Promo_Code1| Product_Name2|Search_Term1|Product_Collection10|   1.0|    4.0|    3.0|     2.0|     0.0|     0.0|     0.0|     1.0|     0.0|    12.0|(16,[1,5,7,8,9,13...|(16,[1,5,7,8,9,13...|[1.63564638325819...|[0.02352854119603...|       1.0|\n",
      "|above 70|0.0|1.0|0.0|0.0|0.0| 0.01672394|0.0|Channel4|Device2|Browser2|Entry_Page1|Site_Section1|Promo_Code8|Product_Name11|Search_Term1| Product_Collection6|   1.0|    4.0|    3.0|     1.0|     0.0|     0.0|     2.0|     6.0|     0.0|    23.0|(16,[1,5,7,8,9,12...|(16,[1,5,7,8,9,12...|[2.88689268426310...|[0.60587761918991...|       0.0|\n",
      "|above 70|0.0|1.0|0.0|0.0|0.0|0.051660939|0.0|Channel4|Device2|Browser2|Entry_Page2|Site_Section1|Promo_Code8| Product_Name1|Search_Term1| Product_Collection8|   1.0|    4.0|    3.0|     1.0|     1.0|     0.0|     2.0|     0.0|     0.0|     4.0|(16,[1,5,7,8,9,10...|(16,[1,5,7,8,9,10...|[2.83654787744289...|[0.57100856125019...|       0.0|\n",
      "+--------+---+---+---+---+---+-----------+---+--------+-------+--------+-----------+-------------+-----------+--------------+------------+--------------------+------+-------+-------+--------+--------+--------+--------+--------+--------+--------+--------------------+--------------------+--------------------+--------------------+----------+\n",
      "only showing top 5 rows\n",
      "\n"
     ]
    }
   ],
   "source": [
    "# Predecimos datos de pruebas:\n",
    "predictions_test = modelo_NN.transform(test)\n",
    "predictions_test.show(5)"
   ]
  },
  {
   "cell_type": "markdown",
   "metadata": {},
   "source": [
    "#### Calculamos la precisión manualmente:"
   ]
  },
  {
   "cell_type": "code",
   "execution_count": 54,
   "metadata": {},
   "outputs": [
    {
     "name": "stdout",
     "output_type": "stream",
     "text": [
      "La precisión en las predicciones de los datos de prueba es del 76 %\n"
     ]
    }
   ],
   "source": [
    "wrong_test = predictions_test.filter( predictions_test['labels']!=predictions_test['prediction'] ).count()\n",
    "right_test = predictions_test.filter( predictions_test['labels']==predictions_test['prediction'] ).count()\n",
    "\n",
    "acc_test =  right_test/(right_test + wrong_test)\n",
    "\n",
    "print( 'La precisión en las predicciones de los datos de prueba es del',round(acc_test * 100),'%' )"
   ]
  },
  {
   "cell_type": "markdown",
   "metadata": {},
   "source": [
    "### Consulta de predicciones:"
   ]
  },
  {
   "cell_type": "markdown",
   "metadata": {},
   "source": [
    "#### Creamos mapeo de labels:\n",
    "\n",
    "Crearemos el DataFrame de pandas `labels_map` que contiene la relación entre los labels del dataset original y los labels reescalados que se usaron para entrenar el modelo."
   ]
  },
  {
   "cell_type": "code",
   "execution_count": 55,
   "metadata": {},
   "outputs": [
    {
     "name": "stdout",
     "output_type": "stream",
     "text": [
      "+-------------+-----------+---+---+---+---+-----------+---+--------+-------+--------+-----------+-------------+-----------+-------------+------------+-------------------+------+\n",
      "|          x_1|        x_2|x_3|x_4|x_5|x_6|        x_7|x_8|     x_9|   x_10|    x_11|       x_12|         x_13|       x_14|         x_15|        x_16|               x_17|labels|\n",
      "+-------------+-----------+---+---+---+---+-----------+---+--------+-------+--------+-----------+-------------+-----------+-------------+------------+-------------------+------+\n",
      "|less than  11|0.026315789|1.0|0.0|0.0|0.0|  4.5819E-4|0.0|Channel1|Device1|Browser1|Entry_Page1|Site_Section1|Promo_Code1|Product_Name1|Search_Term1|Product_Collection1|   0.0|\n",
      "|less than  11|        0.0|1.0|0.0|0.0|0.0|        0.0|0.0|Channel1|Device1|Browser2|Entry_Page2|Site_Section1|Promo_Code1|Product_Name1|Search_Term1|Product_Collection2|   0.0|\n",
      "|less than  11|        0.0|1.0|0.0|0.0|0.0|0.002863688|0.0|Channel1|Device1|Browser1|Entry_Page2|Site_Section1|Promo_Code1|Product_Name2|Search_Term1|Product_Collection3|   0.0|\n",
      "|less than  11|        0.0|1.0|0.0|0.0|0.0|0.002863688|0.0|Channel1|Device1|Browser1|Entry_Page2|Site_Section1|Promo_Code1|Product_Name2|Search_Term1|Product_Collection3|   0.0|\n",
      "|less than  11|0.052631579|1.0|0.0|0.0|0.0|0.021764032|0.0|Channel1|Device1|Browser2|Entry_Page2|Site_Section1|Promo_Code1|Product_Name3|Search_Term1|Product_Collection4|   0.0|\n",
      "+-------------+-----------+---+---+---+---+-----------+---+--------+-------+--------+-----------+-------------+-----------+-------------+------------+-------------------+------+\n",
      "only showing top 5 rows\n",
      "\n"
     ]
    }
   ],
   "source": [
    "Scaler_labels = Stage_1.fit(data)\n",
    "data_transform = Scaler_labels.transform(data)\n",
    "data_transform.show(5)"
   ]
  },
  {
   "cell_type": "code",
   "execution_count": 56,
   "metadata": {},
   "outputs": [
    {
     "data": {
      "text/html": [
       "<div>\n",
       "<style scoped>\n",
       "    .dataframe tbody tr th:only-of-type {\n",
       "        vertical-align: middle;\n",
       "    }\n",
       "\n",
       "    .dataframe tbody tr th {\n",
       "        vertical-align: top;\n",
       "    }\n",
       "\n",
       "    .dataframe thead th {\n",
       "        text-align: right;\n",
       "    }\n",
       "</style>\n",
       "<table border=\"1\" class=\"dataframe\">\n",
       "  <thead>\n",
       "    <tr style=\"text-align: right;\">\n",
       "      <th></th>\n",
       "      <th>labels</th>\n",
       "      <th>x_10</th>\n",
       "    </tr>\n",
       "  </thead>\n",
       "  <tbody>\n",
       "    <tr>\n",
       "      <th>0</th>\n",
       "      <td>0.0</td>\n",
       "      <td>Device1</td>\n",
       "    </tr>\n",
       "    <tr>\n",
       "      <th>1</th>\n",
       "      <td>1.0</td>\n",
       "      <td>Device2</td>\n",
       "    </tr>\n",
       "    <tr>\n",
       "      <th>3</th>\n",
       "      <td>2.0</td>\n",
       "      <td>Device4</td>\n",
       "    </tr>\n",
       "    <tr>\n",
       "      <th>2</th>\n",
       "      <td>3.0</td>\n",
       "      <td>Device3</td>\n",
       "    </tr>\n",
       "  </tbody>\n",
       "</table>\n",
       "</div>"
      ],
      "text/plain": [
       "   labels     x_10\n",
       "0     0.0  Device1\n",
       "1     1.0  Device2\n",
       "3     2.0  Device4\n",
       "2     3.0  Device3"
      ]
     },
     "execution_count": 56,
     "metadata": {},
     "output_type": "execute_result"
    }
   ],
   "source": [
    "# Obtenemos el mapeo entre la columna de labels reales y labels reescalados:\n",
    "labels_map = data_transform.select( [label_col , 'labels'] ).groupBy( [label_col,'labels'] ).count().toPandas()\n",
    "labels_map = labels_map.sort_values('labels')\n",
    "\n",
    "# Mapeo de labels:\n",
    "labels_map[['labels', label_col]]"
   ]
  },
  {
   "cell_type": "code",
   "execution_count": 57,
   "metadata": {},
   "outputs": [
    {
     "data": {
      "text/plain": [
       "['x_1',\n",
       " 'x_2',\n",
       " 'x_3',\n",
       " 'x_4',\n",
       " 'x_5',\n",
       " 'x_6',\n",
       " 'x_7',\n",
       " 'x_8',\n",
       " 'x_9',\n",
       " 'x_11',\n",
       " 'x_12',\n",
       " 'x_13',\n",
       " 'x_14',\n",
       " 'x_15',\n",
       " 'x_16',\n",
       " 'x_17']"
      ]
     },
     "execution_count": 57,
     "metadata": {},
     "output_type": "execute_result"
    }
   ],
   "source": [
    "# Llamamos a las componentes de features que necesitamos\n",
    "feature_cols"
   ]
  },
  {
   "cell_type": "markdown",
   "metadata": {},
   "source": [
    "### Cerramos sesión Spark"
   ]
  },
  {
   "cell_type": "code",
   "execution_count": 60,
   "metadata": {},
   "outputs": [],
   "source": [
    "spark.stop()"
   ]
  },
  {
   "cell_type": "code",
   "execution_count": null,
   "metadata": {},
   "outputs": [],
   "source": []
  },
  {
   "cell_type": "code",
   "execution_count": null,
   "metadata": {},
   "outputs": [],
   "source": []
  }
 ],
 "metadata": {
  "kernelspec": {
   "display_name": "Python 3.8.10 64-bit",
   "language": "python",
   "name": "python3"
  },
  "language_info": {
   "codemirror_mode": {
    "name": "ipython",
    "version": 3
   },
   "file_extension": ".py",
   "mimetype": "text/x-python",
   "name": "python",
   "nbconvert_exporter": "python",
   "pygments_lexer": "ipython3",
   "version": "3.8.10"
  },
  "vscode": {
   "interpreter": {
    "hash": "916dbcbb3f70747c44a77c7bcd40155683ae19c65e1c03b4aa3499c5328201f1"
   }
  }
 },
 "nbformat": 4,
 "nbformat_minor": 2
}
