{
 "cells": [
  {
   "cell_type": "markdown",
   "metadata": {},
   "source": [
    "# Analítica Avanzada de datos con PySpark\n",
    "\n",
    "En esta práctica trabajaremos con una data con cerca de 2 millones de registros"
   ]
  },
  {
   "cell_type": "code",
   "execution_count": 1,
   "metadata": {},
   "outputs": [],
   "source": [
    "#import findspark\n",
    "#findspark.init()\n",
    "\n",
    "import pandas as pd\n",
    "import pyspark"
   ]
  },
  {
   "cell_type": "code",
   "execution_count": 2,
   "metadata": {
    "id": "z5elOd3_urwh"
   },
   "outputs": [],
   "source": [
    "from pyspark.sql import functions as f\n",
    "import pandas as pd\n",
    "import seaborn as sns\n",
    "import matplotlib.pyplot as plt\n",
    "\n",
    "%matplotlib inline"
   ]
  },
  {
   "cell_type": "markdown",
   "metadata": {},
   "source": [
    "## Inicio de la sesión de Spark"
   ]
  },
  {
   "cell_type": "code",
   "execution_count": 3,
   "metadata": {
    "id": "nZXXfyQ_oFfx"
   },
   "outputs": [],
   "source": [
    "from pyspark.sql import SparkSession\n",
    "\n",
    "spark = SparkSession.builder\\\n",
    "        .master(\"local[*]\")\\\n",
    "        .appName('PySpark_Tutorial')\\\n",
    "        .getOrCreate()"
   ]
  },
  {
   "cell_type": "markdown",
   "metadata": {},
   "source": [
    "## Análisis exploratorio de Datos"
   ]
  },
  {
   "cell_type": "markdown",
   "metadata": {},
   "source": [
    "### Lectura de datos"
   ]
  },
  {
   "cell_type": "code",
   "execution_count": 4,
   "metadata": {
    "id": "WAThgJoIvcKI"
   },
   "outputs": [],
   "source": [
    "# Cargamos un Set de Datos sobre el precio de las acciones en USA, desde Enero de 2019 hasta Julio de 2020 (fuente: Kaggle.com):\n",
    "data = spark.read.csv(\n",
    "    './data/stocks_price_final.csv',\n",
    "    sep = ',',\n",
    "    header = True,    \n",
    "    #schema = final_struc\n",
    "    )"
   ]
  },
  {
   "cell_type": "code",
   "execution_count": 5,
   "metadata": {},
   "outputs": [
    {
     "name": "stdout",
     "output_type": "stream",
     "text": [
      "+---+------+----------+---------+---------+---------+---------+-------+---------+----------+-------------+--------------------+--------+\n",
      "|_c0|symbol|      date|     open|     high|      low|    close| volume| adjusted|market.cap|       sector|            industry|exchange|\n",
      "+---+------+----------+---------+---------+---------+---------+-------+---------+----------+-------------+--------------------+--------+\n",
      "|  1|   TXG|2019-09-12|       54|       58|       51|    52.75|7326300|    52.75|    $9.31B|Capital Goods|Biotechnology: La...|  NASDAQ|\n",
      "|  2|   TXG|2019-09-13|    52.75|   54.355|49.150002|    52.27|1025200|    52.27|    $9.31B|Capital Goods|Biotechnology: La...|  NASDAQ|\n",
      "|  3|   TXG|2019-09-16|52.450001|       56|52.009998|55.200001| 269900|55.200001|    $9.31B|Capital Goods|Biotechnology: La...|  NASDAQ|\n",
      "|  4|   TXG|2019-09-17|56.209999|60.900002|   55.423|56.779999| 602800|56.779999|    $9.31B|Capital Goods|Biotechnology: La...|  NASDAQ|\n",
      "|  5|   TXG|2019-09-18|56.849998|    62.27|55.650002|       62|1589600|       62|    $9.31B|Capital Goods|Biotechnology: La...|  NASDAQ|\n",
      "+---+------+----------+---------+---------+---------+---------+-------+---------+----------+-------------+--------------------+--------+\n",
      "only showing top 5 rows\n",
      "\n"
     ]
    }
   ],
   "source": [
    "# Mostramos los primeros N registros:\n",
    "N = 5\n",
    "data.show(N)"
   ]
  },
  {
   "cell_type": "code",
   "execution_count": 6,
   "metadata": {},
   "outputs": [
    {
     "data": {
      "text/plain": [
       "1729034"
      ]
     },
     "execution_count": 6,
     "metadata": {},
     "output_type": "execute_result"
    }
   ],
   "source": [
    "# Extraemos el número de registros del DataFrame\n",
    "data.count()"
   ]
  },
  {
   "cell_type": "code",
   "execution_count": 7,
   "metadata": {},
   "outputs": [
    {
     "data": {
      "text/plain": [
       "Row(_c0='1', symbol='TXG', date='2019-09-12', open='54', high='58', low='51', close='52.75', volume='7326300', adjusted='52.75', market.cap='$9.31B', sector='Capital Goods', industry='Biotechnology: Laboratory Analytical Instruments', exchange='NASDAQ')"
      ]
     },
     "execution_count": 7,
     "metadata": {},
     "output_type": "execute_result"
    }
   ],
   "source": [
    "#Extrae el primer registro del DataFrame:\n",
    "data.first()"
   ]
  },
  {
   "cell_type": "code",
   "execution_count": 8,
   "metadata": {},
   "outputs": [
    {
     "data": {
      "text/plain": [
       "[Row(_c0='1', symbol='TXG', date='2019-09-12', open='54', high='58', low='51', close='52.75', volume='7326300', adjusted='52.75', market.cap='$9.31B', sector='Capital Goods', industry='Biotechnology: Laboratory Analytical Instruments', exchange='NASDAQ'),\n",
       " Row(_c0='2', symbol='TXG', date='2019-09-13', open='52.75', high='54.355', low='49.150002', close='52.27', volume='1025200', adjusted='52.27', market.cap='$9.31B', sector='Capital Goods', industry='Biotechnology: Laboratory Analytical Instruments', exchange='NASDAQ')]"
      ]
     },
     "execution_count": 8,
     "metadata": {},
     "output_type": "execute_result"
    }
   ],
   "source": [
    "# Mostramos los primeros 2 registrso del DataFrame con \"head()\":\n",
    "data.head(2)"
   ]
  },
  {
   "cell_type": "code",
   "execution_count": 9,
   "metadata": {},
   "outputs": [
    {
     "data": {
      "text/plain": [
       "[Row(_c0='1', symbol='TXG', date='2019-09-12', open='54', high='58', low='51', close='52.75', volume='7326300', adjusted='52.75', market.cap='$9.31B', sector='Capital Goods', industry='Biotechnology: Laboratory Analytical Instruments', exchange='NASDAQ'),\n",
       " Row(_c0='2', symbol='TXG', date='2019-09-13', open='52.75', high='54.355', low='49.150002', close='52.27', volume='1025200', adjusted='52.27', market.cap='$9.31B', sector='Capital Goods', industry='Biotechnology: Laboratory Analytical Instruments', exchange='NASDAQ')]"
      ]
     },
     "execution_count": 9,
     "metadata": {},
     "output_type": "execute_result"
    }
   ],
   "source": [
    "# Mostramos los primeros 2 registrso del DataFrame con \"take()\":\n",
    "data.take(2)"
   ]
  },
  {
   "cell_type": "code",
   "execution_count": 10,
   "metadata": {},
   "outputs": [
    {
     "name": "stdout",
     "output_type": "stream",
     "text": [
      "root\n",
      " |-- _c0: string (nullable = true)\n",
      " |-- symbol: string (nullable = true)\n",
      " |-- date: string (nullable = true)\n",
      " |-- open: string (nullable = true)\n",
      " |-- high: string (nullable = true)\n",
      " |-- low: string (nullable = true)\n",
      " |-- close: string (nullable = true)\n",
      " |-- volume: string (nullable = true)\n",
      " |-- adjusted: string (nullable = true)\n",
      " |-- market.cap: string (nullable = true)\n",
      " |-- sector: string (nullable = true)\n",
      " |-- industry: string (nullable = true)\n",
      " |-- exchange: string (nullable = true)\n",
      "\n"
     ]
    }
   ],
   "source": [
    "# Mostramos la forma del esquema del DataFrame:\n",
    "data.printSchema()"
   ]
  },
  {
   "cell_type": "code",
   "execution_count": 11,
   "metadata": {},
   "outputs": [
    {
     "data": {
      "text/plain": [
       "StructType(List(StructField(_c0,StringType,true),StructField(symbol,StringType,true),StructField(date,StringType,true),StructField(open,StringType,true),StructField(high,StringType,true),StructField(low,StringType,true),StructField(close,StringType,true),StructField(volume,StringType,true),StructField(adjusted,StringType,true),StructField(market.cap,StringType,true),StructField(sector,StringType,true),StructField(industry,StringType,true),StructField(exchange,StringType,true)))"
      ]
     },
     "execution_count": 11,
     "metadata": {},
     "output_type": "execute_result"
    }
   ],
   "source": [
    "# Otra forma de mostrar el esquema del DataFrame:\n",
    "data.schema\n",
    "\n",
    "# Cada tupla contiene:\n",
    "# en la primer entrada -> Nombre de la columna\n",
    "# en la segunda entrada -> Tipo de dato\n",
    "# en la tercer entrada -> True o False, dependiendo si la columna permite campos vacíos"
   ]
  },
  {
   "cell_type": "code",
   "execution_count": 12,
   "metadata": {},
   "outputs": [
    {
     "data": {
      "text/plain": [
       "[('_c0', 'string'),\n",
       " ('symbol', 'string'),\n",
       " ('date', 'string'),\n",
       " ('open', 'string'),\n",
       " ('high', 'string'),\n",
       " ('low', 'string'),\n",
       " ('close', 'string'),\n",
       " ('volume', 'string'),\n",
       " ('adjusted', 'string'),\n",
       " ('market.cap', 'string'),\n",
       " ('sector', 'string'),\n",
       " ('industry', 'string'),\n",
       " ('exchange', 'string')]"
      ]
     },
     "execution_count": 12,
     "metadata": {},
     "output_type": "execute_result"
    }
   ],
   "source": [
    "# mostramos los nombres y tipos de dato de cada columna:\n",
    "data.dtypes"
   ]
  },
  {
   "cell_type": "code",
   "execution_count": 13,
   "metadata": {},
   "outputs": [
    {
     "data": {
      "text/plain": [
       "['_c0',\n",
       " 'symbol',\n",
       " 'date',\n",
       " 'open',\n",
       " 'high',\n",
       " 'low',\n",
       " 'close',\n",
       " 'volume',\n",
       " 'adjusted',\n",
       " 'market.cap',\n",
       " 'sector',\n",
       " 'industry',\n",
       " 'exchange']"
      ]
     },
     "execution_count": 13,
     "metadata": {},
     "output_type": "execute_result"
    }
   ],
   "source": [
    "# Extrae los nombres de las columnas del DataFrame\n",
    "data.columns"
   ]
  },
  {
   "cell_type": "markdown",
   "metadata": {},
   "source": [
    "#### Extraemos estadisticas simples de todas las columnas del DataFrame\n",
    "\n",
    "Dichas estadísticas simples incluyen: conteo, mediana, desviación estándar, mínimo y máximo de cada columna"
   ]
  },
  {
   "cell_type": "code",
   "execution_count": 14,
   "metadata": {},
   "outputs": [
    {
     "name": "stdout",
     "output_type": "stream",
     "text": [
      "+-------+-----------------+-------+----------+------------------+------------------+------------------+------------------+-----------------+------------------+----------+----------------+--------------------+--------+\n",
      "|summary|              _c0| symbol|      date|              open|              high|               low|             close|           volume|          adjusted|market.cap|          sector|            industry|exchange|\n",
      "+-------+-----------------+-------+----------+------------------+------------------+------------------+------------------+-----------------+------------------+----------+----------------+--------------------+--------+\n",
      "|  count|          1729034|1729034|   1729034|           1729034|           1729034|           1729034|           1729034|          1729034|           1729034|   1729034|         1729034|             1729034| 1729034|\n",
      "|   mean|         864517.5|   null|      null|15070.071703341047|15555.067268137087|14557.808227578987| 15032.71485433071|1397105.431259091|14926.109688795501|      null|            null|                null|    null|\n",
      "| stddev|499129.2670065541|   null|      null|1111821.8002863121|1148247.1953514938| 1072968.155843422|1109755.9294000654|5185985.456030854|1101877.6328940047|      null|            null|                null|    null|\n",
      "|    min|                1|      A|2019-01-02|             0.072|             0.078|             0.052|             0.071|                0|         -0.388907|    $1.01B|Basic Industries|Accident &Health ...|  NASDAQ|\n",
      "|    max|           999999|   ZYXI|2020-07-22|                NA|                NA|                NA|                NA|               NA|                NA|       $9B|  Transportation|Wholesale Distrib...|    NYSE|\n",
      "+-------+-----------------+-------+----------+------------------+------------------+------------------+------------------+-----------------+------------------+----------+----------------+--------------------+--------+\n",
      "\n"
     ]
    }
   ],
   "source": [
    "data.describe().show()"
   ]
  },
  {
   "cell_type": "code",
   "execution_count": 15,
   "metadata": {},
   "outputs": [
    {
     "data": {
      "text/html": [
       "<div>\n",
       "<style scoped>\n",
       "    .dataframe tbody tr th:only-of-type {\n",
       "        vertical-align: middle;\n",
       "    }\n",
       "\n",
       "    .dataframe tbody tr th {\n",
       "        vertical-align: top;\n",
       "    }\n",
       "\n",
       "    .dataframe thead th {\n",
       "        text-align: right;\n",
       "    }\n",
       "</style>\n",
       "<table border=\"1\" class=\"dataframe\">\n",
       "  <thead>\n",
       "    <tr style=\"text-align: right;\">\n",
       "      <th></th>\n",
       "      <th>summary</th>\n",
       "      <th>_c0</th>\n",
       "      <th>symbol</th>\n",
       "      <th>date</th>\n",
       "      <th>open</th>\n",
       "      <th>high</th>\n",
       "      <th>low</th>\n",
       "      <th>close</th>\n",
       "      <th>volume</th>\n",
       "      <th>adjusted</th>\n",
       "      <th>market.cap</th>\n",
       "      <th>sector</th>\n",
       "      <th>industry</th>\n",
       "      <th>exchange</th>\n",
       "    </tr>\n",
       "  </thead>\n",
       "  <tbody>\n",
       "    <tr>\n",
       "      <th>0</th>\n",
       "      <td>count</td>\n",
       "      <td>1729034</td>\n",
       "      <td>1729034</td>\n",
       "      <td>1729034</td>\n",
       "      <td>1729034</td>\n",
       "      <td>1729034</td>\n",
       "      <td>1729034</td>\n",
       "      <td>1729034</td>\n",
       "      <td>1729034</td>\n",
       "      <td>1729034</td>\n",
       "      <td>1729034</td>\n",
       "      <td>1729034</td>\n",
       "      <td>1729034</td>\n",
       "      <td>1729034</td>\n",
       "    </tr>\n",
       "    <tr>\n",
       "      <th>1</th>\n",
       "      <td>mean</td>\n",
       "      <td>864517.5</td>\n",
       "      <td>None</td>\n",
       "      <td>None</td>\n",
       "      <td>15070.071703341047</td>\n",
       "      <td>15555.067268137087</td>\n",
       "      <td>14557.808227578987</td>\n",
       "      <td>15032.71485433071</td>\n",
       "      <td>1397105.431259091</td>\n",
       "      <td>14926.109688795501</td>\n",
       "      <td>None</td>\n",
       "      <td>None</td>\n",
       "      <td>None</td>\n",
       "      <td>None</td>\n",
       "    </tr>\n",
       "    <tr>\n",
       "      <th>2</th>\n",
       "      <td>stddev</td>\n",
       "      <td>499129.2670065541</td>\n",
       "      <td>None</td>\n",
       "      <td>None</td>\n",
       "      <td>1111821.8002863121</td>\n",
       "      <td>1148247.1953514938</td>\n",
       "      <td>1072968.155843422</td>\n",
       "      <td>1109755.9294000654</td>\n",
       "      <td>5185985.456030854</td>\n",
       "      <td>1101877.6328940047</td>\n",
       "      <td>None</td>\n",
       "      <td>None</td>\n",
       "      <td>None</td>\n",
       "      <td>None</td>\n",
       "    </tr>\n",
       "    <tr>\n",
       "      <th>3</th>\n",
       "      <td>min</td>\n",
       "      <td>1</td>\n",
       "      <td>A</td>\n",
       "      <td>2019-01-02</td>\n",
       "      <td>0.072</td>\n",
       "      <td>0.078</td>\n",
       "      <td>0.052</td>\n",
       "      <td>0.071</td>\n",
       "      <td>0</td>\n",
       "      <td>-0.388907</td>\n",
       "      <td>$1.01B</td>\n",
       "      <td>Basic Industries</td>\n",
       "      <td>Accident &amp;Health Insurance</td>\n",
       "      <td>NASDAQ</td>\n",
       "    </tr>\n",
       "    <tr>\n",
       "      <th>4</th>\n",
       "      <td>max</td>\n",
       "      <td>999999</td>\n",
       "      <td>ZYXI</td>\n",
       "      <td>2020-07-22</td>\n",
       "      <td>NA</td>\n",
       "      <td>NA</td>\n",
       "      <td>NA</td>\n",
       "      <td>NA</td>\n",
       "      <td>NA</td>\n",
       "      <td>NA</td>\n",
       "      <td>$9B</td>\n",
       "      <td>Transportation</td>\n",
       "      <td>Wholesale Distributors</td>\n",
       "      <td>NYSE</td>\n",
       "    </tr>\n",
       "  </tbody>\n",
       "</table>\n",
       "</div>"
      ],
      "text/plain": [
       "  summary                _c0   symbol        date                open  \\\n",
       "0   count            1729034  1729034     1729034             1729034   \n",
       "1    mean           864517.5     None        None  15070.071703341047   \n",
       "2  stddev  499129.2670065541     None        None  1111821.8002863121   \n",
       "3     min                  1        A  2019-01-02               0.072   \n",
       "4     max             999999     ZYXI  2020-07-22                  NA   \n",
       "\n",
       "                 high                 low               close  \\\n",
       "0             1729034             1729034             1729034   \n",
       "1  15555.067268137087  14557.808227578987   15032.71485433071   \n",
       "2  1148247.1953514938   1072968.155843422  1109755.9294000654   \n",
       "3               0.078               0.052               0.071   \n",
       "4                  NA                  NA                  NA   \n",
       "\n",
       "              volume            adjusted market.cap            sector  \\\n",
       "0            1729034             1729034    1729034           1729034   \n",
       "1  1397105.431259091  14926.109688795501       None              None   \n",
       "2  5185985.456030854  1101877.6328940047       None              None   \n",
       "3                  0           -0.388907     $1.01B  Basic Industries   \n",
       "4                 NA                  NA        $9B    Transportation   \n",
       "\n",
       "                     industry exchange  \n",
       "0                     1729034  1729034  \n",
       "1                        None     None  \n",
       "2                        None     None  \n",
       "3  Accident &Health Insurance   NASDAQ  \n",
       "4      Wholesale Distributors     NYSE  "
      ]
     },
     "execution_count": 15,
     "metadata": {},
     "output_type": "execute_result"
    }
   ],
   "source": [
    "# mostramos la descripción de estadísticas en un DataFrame de Pandas:\n",
    "data.describe().toPandas()"
   ]
  },
  {
   "cell_type": "markdown",
   "metadata": {},
   "source": [
    "### Edición del esquema\n",
    "\n",
    "A continuación cambiamos el esquema inferido por Spark, es decir definimos el nombre de las columnas y el tipo de datos a usar:"
   ]
  },
  {
   "cell_type": "code",
   "execution_count": 16,
   "metadata": {
    "id": "dGT7jy3DDuLz"
   },
   "outputs": [],
   "source": [
    "# Importamos todas las funciones para los tipos de datos:\n",
    "from pyspark.sql.types import *\n",
    "\n",
    "# Ya que analizamos el esquema por default, definimos el nuevo esquema:\n",
    "data_schema = [\n",
    "               StructField('c0', IntegerType(), True),\n",
    "               StructField('symbol', StringType(), True),\n",
    "               StructField('date', DateType(), True),\n",
    "               StructField('open', DoubleType(), True),\n",
    "               StructField('high', DoubleType(), True),\n",
    "               StructField('low', DoubleType(), True),\n",
    "               StructField('close', DoubleType(), True),\n",
    "               StructField('volume', IntegerType(), True),\n",
    "               StructField('adjusted', DoubleType(), True),\n",
    "               StructField('market.cap', StringType(), True),\n",
    "               StructField('sector', StringType(), True),\n",
    "               StructField('industry', StringType(), True),\n",
    "               StructField('exchange', StringType(), True),\n",
    "            ]\n",
    "\n",
    "# El valor booleano \"True\" indica que puede haber valores nulos, de lo contrario ponemos \"False\"\n",
    "\n",
    "\n",
    "# Guardamos en una lista la estructura del esquema:\n",
    "final_struc = StructType(fields=data_schema)"
   ]
  },
  {
   "cell_type": "code",
   "execution_count": 17,
   "metadata": {},
   "outputs": [],
   "source": [
    "# Reemplazamos el DataFrame con el nuevo esquema:\n",
    "data = spark.read.csv(\n",
    "    './data/stocks_price_final.csv',\n",
    "    sep = ',',\n",
    "    header = True,\n",
    "    schema = final_struc\n",
    "    )"
   ]
  },
  {
   "cell_type": "code",
   "execution_count": 18,
   "metadata": {},
   "outputs": [
    {
     "data": {
      "text/plain": [
       "[('c0', 'int'),\n",
       " ('symbol', 'string'),\n",
       " ('date', 'date'),\n",
       " ('open', 'double'),\n",
       " ('high', 'double'),\n",
       " ('low', 'double'),\n",
       " ('close', 'double'),\n",
       " ('volume', 'int'),\n",
       " ('adjusted', 'double'),\n",
       " ('market.cap', 'string'),\n",
       " ('sector', 'string'),\n",
       " ('industry', 'string'),\n",
       " ('exchange', 'string')]"
      ]
     },
     "execution_count": 18,
     "metadata": {},
     "output_type": "execute_result"
    }
   ],
   "source": [
    "# mostramos los nombres y tipos de dato de cada columna:\n",
    "data.dtypes"
   ]
  },
  {
   "cell_type": "code",
   "execution_count": 19,
   "metadata": {},
   "outputs": [
    {
     "name": "stdout",
     "output_type": "stream",
     "text": [
      "+---+------+----------+---------+---------+---------+---------+-------+---------+----------+-------------+--------------------+--------+\n",
      "| c0|symbol|      date|     open|     high|      low|    close| volume| adjusted|market.cap|       sector|            industry|exchange|\n",
      "+---+------+----------+---------+---------+---------+---------+-------+---------+----------+-------------+--------------------+--------+\n",
      "|  1|   TXG|2019-09-12|     54.0|     58.0|     51.0|    52.75|7326300|    52.75|    $9.31B|Capital Goods|Biotechnology: La...|  NASDAQ|\n",
      "|  2|   TXG|2019-09-13|    52.75|   54.355|49.150002|    52.27|1025200|    52.27|    $9.31B|Capital Goods|Biotechnology: La...|  NASDAQ|\n",
      "|  3|   TXG|2019-09-16|52.450001|     56.0|52.009998|55.200001| 269900|55.200001|    $9.31B|Capital Goods|Biotechnology: La...|  NASDAQ|\n",
      "|  4|   TXG|2019-09-17|56.209999|60.900002|   55.423|56.779999| 602800|56.779999|    $9.31B|Capital Goods|Biotechnology: La...|  NASDAQ|\n",
      "|  5|   TXG|2019-09-18|56.849998|    62.27|55.650002|     62.0|1589600|     62.0|    $9.31B|Capital Goods|Biotechnology: La...|  NASDAQ|\n",
      "+---+------+----------+---------+---------+---------+---------+-------+---------+----------+-------------+--------------------+--------+\n",
      "only showing top 5 rows\n",
      "\n"
     ]
    }
   ],
   "source": [
    "# Mostramos los primeros N registros\n",
    "data.show(N)"
   ]
  },
  {
   "cell_type": "markdown",
   "metadata": {},
   "source": [
    "#### Selección de valores específicos:\n",
    "\n",
    "La forma óptima es seleccionar la columna con `.select()`, aplicar un `.collect()` e indicar el índice del renglón."
   ]
  },
  {
   "cell_type": "code",
   "execution_count": 20,
   "metadata": {},
   "outputs": [
    {
     "data": {
      "text/plain": [
       "52.450001"
      ]
     },
     "execution_count": 20,
     "metadata": {},
     "output_type": "execute_result"
    }
   ],
   "source": [
    "i = 2\n",
    "j = \"open\" \n",
    "\n",
    "data.select([j]).collect()[i][0]"
   ]
  },
  {
   "cell_type": "markdown",
   "metadata": {},
   "source": [
    "#### Agregación de nuevas columnas:"
   ]
  },
  {
   "cell_type": "code",
   "execution_count": 21,
   "metadata": {},
   "outputs": [],
   "source": [
    "# Definimos una función que calcula el promedio de dos valores:\n",
    "def f_mean(x1,x2):\n",
    "    return (x1 + x2)/2"
   ]
  },
  {
   "cell_type": "code",
   "execution_count": 22,
   "metadata": {},
   "outputs": [
    {
     "name": "stdout",
     "output_type": "stream",
     "text": [
      "+---+------+----------+---------+---------+---------+---------+-------+---------+----------+-------------+--------------------+--------+------------------+------------------+\n",
      "| c0|symbol|      date|     open|     high|      low|    close| volume| adjusted|market.cap|       sector|            industry|exchange|        promedio_1|        promedio_2|\n",
      "+---+------+----------+---------+---------+---------+---------+-------+---------+----------+-------------+--------------------+--------+------------------+------------------+\n",
      "|  1|   TXG|2019-09-12|     54.0|     58.0|     51.0|    52.75|7326300|    52.75|    $9.31B|Capital Goods|Biotechnology: La...|  NASDAQ|              54.5|              54.5|\n",
      "|  2|   TXG|2019-09-13|    52.75|   54.355|49.150002|    52.27|1025200|    52.27|    $9.31B|Capital Goods|Biotechnology: La...|  NASDAQ|51.752500999999995|51.752500999999995|\n",
      "|  3|   TXG|2019-09-16|52.450001|     56.0|52.009998|55.200001| 269900|55.200001|    $9.31B|Capital Goods|Biotechnology: La...|  NASDAQ|         54.004999|         54.004999|\n",
      "|  4|   TXG|2019-09-17|56.209999|60.900002|   55.423|56.779999| 602800|56.779999|    $9.31B|Capital Goods|Biotechnology: La...|  NASDAQ|         58.161501|         58.161501|\n",
      "|  5|   TXG|2019-09-18|56.849998|    62.27|55.650002|     62.0|1589600|     62.0|    $9.31B|Capital Goods|Biotechnology: La...|  NASDAQ|58.960001000000005|58.960001000000005|\n",
      "+---+------+----------+---------+---------+---------+---------+-------+---------+----------+-------------+--------------------+--------+------------------+------------------+\n",
      "only showing top 5 rows\n",
      "\n"
     ]
    }
   ],
   "source": [
    "# Agregamos 2 columnas (usando la función \"f_mean\"):\n",
    "data = data.withColumn( \"promedio_1\", f_mean(data[\"high\"],data[\"low\"]) )\n",
    "data = data.withColumn( \"promedio_2\", f_mean(data[\"high\"],data[\"low\"]) )\n",
    "\n",
    "data.show(N)"
   ]
  },
  {
   "cell_type": "markdown",
   "metadata": {},
   "source": [
    "#### Cambiar el nombre de las columnas:"
   ]
  },
  {
   "cell_type": "code",
   "execution_count": 23,
   "metadata": {},
   "outputs": [
    {
     "name": "stdout",
     "output_type": "stream",
     "text": [
      "+---+------+----------+---------+---------+---------+---------+-------+---------+----------+-------------+--------------------+--------+------------------+------------------+\n",
      "| c0|symbol|      date|     open|     high|      low|    close| volume| adjusted|market_cap|       sector|            industry|exchange|          promedio|        promedio_2|\n",
      "+---+------+----------+---------+---------+---------+---------+-------+---------+----------+-------------+--------------------+--------+------------------+------------------+\n",
      "|  1|   TXG|2019-09-12|     54.0|     58.0|     51.0|    52.75|7326300|    52.75|    $9.31B|Capital Goods|Biotechnology: La...|  NASDAQ|              54.5|              54.5|\n",
      "|  2|   TXG|2019-09-13|    52.75|   54.355|49.150002|    52.27|1025200|    52.27|    $9.31B|Capital Goods|Biotechnology: La...|  NASDAQ|51.752500999999995|51.752500999999995|\n",
      "|  3|   TXG|2019-09-16|52.450001|     56.0|52.009998|55.200001| 269900|55.200001|    $9.31B|Capital Goods|Biotechnology: La...|  NASDAQ|         54.004999|         54.004999|\n",
      "|  4|   TXG|2019-09-17|56.209999|60.900002|   55.423|56.779999| 602800|56.779999|    $9.31B|Capital Goods|Biotechnology: La...|  NASDAQ|         58.161501|         58.161501|\n",
      "|  5|   TXG|2019-09-18|56.849998|    62.27|55.650002|     62.0|1589600|     62.0|    $9.31B|Capital Goods|Biotechnology: La...|  NASDAQ|58.960001000000005|58.960001000000005|\n",
      "+---+------+----------+---------+---------+---------+---------+-------+---------+----------+-------------+--------------------+--------+------------------+------------------+\n",
      "only showing top 5 rows\n",
      "\n"
     ]
    }
   ],
   "source": [
    "data = data.withColumnRenamed(\"promedio_1\" , \"promedio\")\n",
    "data = data.withColumnRenamed(\"market.cap\" , \"market_cap\")\n",
    "\n",
    "data.show(N)"
   ]
  },
  {
   "cell_type": "code",
   "execution_count": 24,
   "metadata": {
    "colab": {
     "base_uri": "https://localhost:8080/",
     "height": 269
    },
    "id": "NCFGHCsUyamR",
    "outputId": "d74d286c-fe98-40b3-8576-64a71630c0c9"
   },
   "outputs": [
    {
     "name": "stdout",
     "output_type": "stream",
     "text": [
      "root\n",
      " |-- c0: integer (nullable = true)\n",
      " |-- symbol: string (nullable = true)\n",
      " |-- date: date (nullable = true)\n",
      " |-- open: double (nullable = true)\n",
      " |-- high: double (nullable = true)\n",
      " |-- low: double (nullable = true)\n",
      " |-- close: double (nullable = true)\n",
      " |-- volume: integer (nullable = true)\n",
      " |-- adjusted: double (nullable = true)\n",
      " |-- market_cap: string (nullable = true)\n",
      " |-- sector: string (nullable = true)\n",
      " |-- industry: string (nullable = true)\n",
      " |-- exchange: string (nullable = true)\n",
      " |-- promedio: double (nullable = true)\n",
      " |-- promedio_2: double (nullable = true)\n",
      "\n"
     ]
    }
   ],
   "source": [
    "data.printSchema()"
   ]
  },
  {
   "cell_type": "markdown",
   "metadata": {},
   "source": [
    "### Eliminamos columnas inservibles"
   ]
  },
  {
   "cell_type": "code",
   "execution_count": 25,
   "metadata": {},
   "outputs": [
    {
     "name": "stdout",
     "output_type": "stream",
     "text": [
      "+---+------+----------+---------+---------+---------+---------+-------+---------+-------------+--------------------+--------+------------------+\n",
      "| c0|symbol|      date|     open|     high|      low|    close| volume| adjusted|       sector|            industry|exchange|          promedio|\n",
      "+---+------+----------+---------+---------+---------+---------+-------+---------+-------------+--------------------+--------+------------------+\n",
      "|  1|   TXG|2019-09-12|     54.0|     58.0|     51.0|    52.75|7326300|    52.75|Capital Goods|Biotechnology: La...|  NASDAQ|              54.5|\n",
      "|  2|   TXG|2019-09-13|    52.75|   54.355|49.150002|    52.27|1025200|    52.27|Capital Goods|Biotechnology: La...|  NASDAQ|51.752500999999995|\n",
      "|  3|   TXG|2019-09-16|52.450001|     56.0|52.009998|55.200001| 269900|55.200001|Capital Goods|Biotechnology: La...|  NASDAQ|         54.004999|\n",
      "|  4|   TXG|2019-09-17|56.209999|60.900002|   55.423|56.779999| 602800|56.779999|Capital Goods|Biotechnology: La...|  NASDAQ|         58.161501|\n",
      "|  5|   TXG|2019-09-18|56.849998|    62.27|55.650002|     62.0|1589600|     62.0|Capital Goods|Biotechnology: La...|  NASDAQ|58.960001000000005|\n",
      "+---+------+----------+---------+---------+---------+---------+-------+---------+-------------+--------------------+--------+------------------+\n",
      "only showing top 5 rows\n",
      "\n"
     ]
    }
   ],
   "source": [
    "# Eliminamos la columna \"market_cap\"\n",
    "data = data.drop('market_cap')\n",
    "\n",
    "# Eliminamos la columna \"promedio_2\"\n",
    "data = data.drop('promedio_2')\n",
    "\n",
    "data.show(N)"
   ]
  },
  {
   "cell_type": "markdown",
   "metadata": {},
   "source": [
    "### Tratamiento de registros con campos vacíos:\n",
    "\n",
    "Primero crearemos una función para extraer dicha información, posteriormente veremos una forma optima de hacerlo a partir de `select`"
   ]
  },
  {
   "cell_type": "code",
   "execution_count": 26,
   "metadata": {},
   "outputs": [],
   "source": [
    "# Creamos una función que regresa un DataFrame de pandas con la información sobre el número de campos nulos en cada columna:\n",
    "def cols_n_nulls(df_spark):\n",
    "    # Extraemos el nombre de cada columna:\n",
    "    cols = df_spark.columns\n",
    "\n",
    "    # Numero de registros del DataFrame\n",
    "    n = df_spark.count()\n",
    "\n",
    "    # Creamos la lista en donde guardaremos el número de campos vacíos de cada columna:\n",
    "    l = []\n",
    "    for c in cols:\n",
    "        # Obtenemos  el número de campos nulos en la columna actual:\n",
    "        nulls_in_c = df_spark.filter( df_spark[ c ].isNull() ).count()\n",
    "        # agregamos dato a la lista: \n",
    "        l.append( nulls_in_c )\n",
    "    \n",
    "    # Creamos DataFrame de pandas (inicialmente vacío):\n",
    "    df_pd = pd.DataFrame()\n",
    "    # Agregamos las listas en columnas del DataFrame:  \n",
    "    df_pd['col_name'] = cols\n",
    "    df_pd['n_nulls'] = l\n",
    "    df_pd['porcentaje'] = df_pd['n_nulls']/n * 100\n",
    "\n",
    "    # Ordenamos DataFrame de forma descendente:\n",
    "    df_pd = df_pd.sort_values('n_nulls', ascending = False)\n",
    "    #df_pd = df_pd.reset_index()\n",
    "\n",
    "    return df_pd"
   ]
  },
  {
   "cell_type": "code",
   "execution_count": 27,
   "metadata": {},
   "outputs": [
    {
     "data": {
      "text/html": [
       "<div>\n",
       "<style scoped>\n",
       "    .dataframe tbody tr th:only-of-type {\n",
       "        vertical-align: middle;\n",
       "    }\n",
       "\n",
       "    .dataframe tbody tr th {\n",
       "        vertical-align: top;\n",
       "    }\n",
       "\n",
       "    .dataframe thead th {\n",
       "        text-align: right;\n",
       "    }\n",
       "</style>\n",
       "<table border=\"1\" class=\"dataframe\">\n",
       "  <thead>\n",
       "    <tr style=\"text-align: right;\">\n",
       "      <th></th>\n",
       "      <th>col_name</th>\n",
       "      <th>n_nulls</th>\n",
       "      <th>porcentaje</th>\n",
       "    </tr>\n",
       "  </thead>\n",
       "  <tbody>\n",
       "    <tr>\n",
       "      <th>7</th>\n",
       "      <td>volume</td>\n",
       "      <td>3827</td>\n",
       "      <td>0.221337</td>\n",
       "    </tr>\n",
       "    <tr>\n",
       "      <th>3</th>\n",
       "      <td>open</td>\n",
       "      <td>2733</td>\n",
       "      <td>0.158065</td>\n",
       "    </tr>\n",
       "    <tr>\n",
       "      <th>4</th>\n",
       "      <td>high</td>\n",
       "      <td>2733</td>\n",
       "      <td>0.158065</td>\n",
       "    </tr>\n",
       "    <tr>\n",
       "      <th>5</th>\n",
       "      <td>low</td>\n",
       "      <td>2733</td>\n",
       "      <td>0.158065</td>\n",
       "    </tr>\n",
       "    <tr>\n",
       "      <th>6</th>\n",
       "      <td>close</td>\n",
       "      <td>2733</td>\n",
       "      <td>0.158065</td>\n",
       "    </tr>\n",
       "    <tr>\n",
       "      <th>8</th>\n",
       "      <td>adjusted</td>\n",
       "      <td>2733</td>\n",
       "      <td>0.158065</td>\n",
       "    </tr>\n",
       "    <tr>\n",
       "      <th>12</th>\n",
       "      <td>promedio</td>\n",
       "      <td>2733</td>\n",
       "      <td>0.158065</td>\n",
       "    </tr>\n",
       "    <tr>\n",
       "      <th>0</th>\n",
       "      <td>c0</td>\n",
       "      <td>0</td>\n",
       "      <td>0.000000</td>\n",
       "    </tr>\n",
       "    <tr>\n",
       "      <th>1</th>\n",
       "      <td>symbol</td>\n",
       "      <td>0</td>\n",
       "      <td>0.000000</td>\n",
       "    </tr>\n",
       "    <tr>\n",
       "      <th>2</th>\n",
       "      <td>date</td>\n",
       "      <td>0</td>\n",
       "      <td>0.000000</td>\n",
       "    </tr>\n",
       "    <tr>\n",
       "      <th>9</th>\n",
       "      <td>sector</td>\n",
       "      <td>0</td>\n",
       "      <td>0.000000</td>\n",
       "    </tr>\n",
       "    <tr>\n",
       "      <th>10</th>\n",
       "      <td>industry</td>\n",
       "      <td>0</td>\n",
       "      <td>0.000000</td>\n",
       "    </tr>\n",
       "    <tr>\n",
       "      <th>11</th>\n",
       "      <td>exchange</td>\n",
       "      <td>0</td>\n",
       "      <td>0.000000</td>\n",
       "    </tr>\n",
       "  </tbody>\n",
       "</table>\n",
       "</div>"
      ],
      "text/plain": [
       "    col_name  n_nulls  porcentaje\n",
       "7     volume     3827    0.221337\n",
       "3       open     2733    0.158065\n",
       "4       high     2733    0.158065\n",
       "5        low     2733    0.158065\n",
       "6      close     2733    0.158065\n",
       "8   adjusted     2733    0.158065\n",
       "12  promedio     2733    0.158065\n",
       "0         c0        0    0.000000\n",
       "1     symbol        0    0.000000\n",
       "2       date        0    0.000000\n",
       "9     sector        0    0.000000\n",
       "10  industry        0    0.000000\n",
       "11  exchange        0    0.000000"
      ]
     },
     "execution_count": 27,
     "metadata": {},
     "output_type": "execute_result"
    }
   ],
   "source": [
    "# Mostramos el registro de campos nulos:\n",
    "df_cols_nulls = cols_n_nulls(data)\n",
    "df_cols_nulls"
   ]
  },
  {
   "cell_type": "markdown",
   "metadata": {},
   "source": [
    "#### Forma óptima de calcular el número de campos vacíos en todas las columnas de un DataFrame"
   ]
  },
  {
   "cell_type": "code",
   "execution_count": 28,
   "metadata": {},
   "outputs": [
    {
     "name": "stdout",
     "output_type": "stream",
     "text": [
      "+---+------+----+----+----+----+-----+------+--------+------+--------+--------+--------+\n",
      "| c0|symbol|date|open|high| low|close|volume|adjusted|sector|industry|exchange|promedio|\n",
      "+---+------+----+----+----+----+-----+------+--------+------+--------+--------+--------+\n",
      "|  0|     0|   0|2733|2733|2733| 2733|  3827|    2733|     0|       0|       0|    2733|\n",
      "+---+------+----+----+----+----+-----+------+--------+------+--------+--------+--------+\n",
      "\n"
     ]
    }
   ],
   "source": [
    "# Podemos hacer lo anterior (de forma optima) mediante:\n",
    "from pyspark.sql.functions import col, isnan, when, count\n",
    "\n",
    "data.select( [ count( when( col(c).isNull() , True) ).alias(c) for c in data.columns ] ).show()\n",
    "\n",
    "# Más adelante podremos ver el efecto de la función \"when\""
   ]
  },
  {
   "cell_type": "markdown",
   "metadata": {},
   "source": [
    "En el ejemplo anterior podemos ver que `.select()` nos permite crear nuevas columnas"
   ]
  },
  {
   "cell_type": "code",
   "execution_count": 29,
   "metadata": {},
   "outputs": [
    {
     "data": {
      "text/plain": [
       "1729034"
      ]
     },
     "execution_count": 29,
     "metadata": {},
     "output_type": "execute_result"
    }
   ],
   "source": [
    "data.count()"
   ]
  },
  {
   "cell_type": "code",
   "execution_count": 30,
   "metadata": {},
   "outputs": [
    {
     "name": "stdout",
     "output_type": "stream",
     "text": [
      "+----+------+----------+---------+---------+---------+---------+------+---------+-------------+--------------------+--------+----------+\n",
      "|  c0|symbol|      date|     open|     high|      low|    close|volume| adjusted|       sector|            industry|exchange|  promedio|\n",
      "+----+------+----------+---------+---------+---------+---------+------+---------+-------------+--------------------+--------+----------+\n",
      "|2204|  ONEM|2020-03-17|20.959999|    22.48|19.665001|    21.35|  null|    21.35|  Health Care|Medical/Nursing S...|  NASDAQ|21.0725005|\n",
      "|3142|  VNET|2019-04-05|     7.91|     7.95|     7.79|     7.84|  null|     7.84|   Technology|Computer Software...|  NASDAQ|      7.87|\n",
      "|4378|  KRKR|2020-05-11|     null|     null|     null|     null|  null|     null|Miscellaneous|   Business Services|  NASDAQ|      null|\n",
      "|4727|  JOBS|2020-03-10|68.599998|69.860001|66.620003|69.739998|  null|69.739998|   Technology|Diversified Comme...|  NASDAQ| 68.240002|\n",
      "|5747|  NMTR|2020-01-23|     null|     null|     null|     null|  null|     null|  Health Care|Major Pharmaceuti...|  NASDAQ|      null|\n",
      "+----+------+----------+---------+---------+---------+---------+------+---------+-------------+--------------------+--------+----------+\n",
      "only showing top 5 rows\n",
      "\n"
     ]
    }
   ],
   "source": [
    "data.filter( data[\"volume\"].isNull() ).show(N)"
   ]
  },
  {
   "cell_type": "code",
   "execution_count": 31,
   "metadata": {},
   "outputs": [
    {
     "name": "stdout",
     "output_type": "stream",
     "text": [
      "+----+------+----------+----+----+----+-----+------+--------+-------------+--------------------+--------+--------+\n",
      "|  c0|symbol|      date|open|high| low|close|volume|adjusted|       sector|            industry|exchange|promedio|\n",
      "+----+------+----------+----+----+----+-----+------+--------+-------------+--------------------+--------+--------+\n",
      "|4378|  KRKR|2020-05-11|null|null|null| null|  null|    null|Miscellaneous|   Business Services|  NASDAQ|    null|\n",
      "|5747|  NMTR|2020-01-23|null|null|null| null|  null|    null|  Health Care|Major Pharmaceuti...|  NASDAQ|    null|\n",
      "|5748|  NMTR|2020-01-24|null|null|null| null|  null|    null|  Health Care|Major Pharmaceuti...|  NASDAQ|    null|\n",
      "|5749|  NMTR|2020-01-27|null|null|null| null|  null|    null|  Health Care|Major Pharmaceuti...|  NASDAQ|    null|\n",
      "|5750|  NMTR|2020-01-28|null|null|null| null|  null|    null|  Health Care|Major Pharmaceuti...|  NASDAQ|    null|\n",
      "+----+------+----------+----+----+----+-----+------+--------+-------------+--------------------+--------+--------+\n",
      "only showing top 5 rows\n",
      "\n"
     ]
    }
   ],
   "source": [
    "data.filter( data[\"open\"].isNull() ).show(N)"
   ]
  },
  {
   "cell_type": "markdown",
   "metadata": {},
   "source": [
    "Extraemos la media de una columna para colocarla en los campos nulos:"
   ]
  },
  {
   "cell_type": "code",
   "execution_count": 32,
   "metadata": {},
   "outputs": [
    {
     "name": "stdout",
     "output_type": "stream",
     "text": [
      "+------------------+\n",
      "|       avg(volume)|\n",
      "+------------------+\n",
      "|1397692.1627885813|\n",
      "+------------------+\n",
      "\n"
     ]
    }
   ],
   "source": [
    "data.agg( {\"volume\": \"avg\"} ).show()"
   ]
  },
  {
   "cell_type": "code",
   "execution_count": 33,
   "metadata": {},
   "outputs": [
    {
     "data": {
      "text/plain": [
       "1397692.1627885813"
      ]
     },
     "execution_count": 33,
     "metadata": {},
     "output_type": "execute_result"
    }
   ],
   "source": [
    "mu_volume = data.agg( {\"volume\": \"avg\"} ).collect()[0][0]\n",
    "mu_volume"
   ]
  },
  {
   "cell_type": "code",
   "execution_count": 34,
   "metadata": {},
   "outputs": [],
   "source": [
    "# LLenamos los campos nulos de la columna \"volume\" con la media de dicha columna:\n",
    "data = data.fillna( mu_volume, [\"volume\"])"
   ]
  },
  {
   "cell_type": "code",
   "execution_count": 35,
   "metadata": {},
   "outputs": [
    {
     "name": "stdout",
     "output_type": "stream",
     "text": [
      "+---+------+----+----+----+----+-----+------+--------+------+--------+--------+--------+\n",
      "| c0|symbol|date|open|high| low|close|volume|adjusted|sector|industry|exchange|promedio|\n",
      "+---+------+----+----+----+----+-----+------+--------+------+--------+--------+--------+\n",
      "|  0|     0|   0|2733|2733|2733| 2733|     0|    2733|     0|       0|       0|    2733|\n",
      "+---+------+----+----+----+----+-----+------+--------+------+--------+--------+--------+\n",
      "\n"
     ]
    }
   ],
   "source": [
    "# Mostramos el registro de campos nulos (de forma optima):\n",
    "data.select( [ count( when( col(c).isNull() , True ) ).alias(c) for c in data.columns ] ).show()"
   ]
  },
  {
   "cell_type": "markdown",
   "metadata": {},
   "source": [
    "#### Podemos aplicar la función `Imputer` para que de forma automática Spark defina si rellenar los campos vacíos con media, mediana o moda:"
   ]
  },
  {
   "cell_type": "code",
   "execution_count": 36,
   "metadata": {},
   "outputs": [],
   "source": [
    "from pyspark.ml.feature import Imputer\n",
    "\n",
    "cols_in = [ \"open\" , \"high\" , \"low\" , \"close\" , \"adjusted\" ]\n",
    "cols_out = [ \"open\" , \"high\" , \"low\" , \"close\" , \"adjusted\"]\n",
    "# Nota: Si los nombres de las columnas de salida son los mismos que las columnas de entrada,\n",
    "# se reemplazarán las columnas de entrada, de lo contrario se agregan al DataFrame. \n",
    "\n",
    "imputer = Imputer( inputCols= cols_in, outputCols= cols_out)\n",
    "\n",
    "model = imputer.fit(data)"
   ]
  },
  {
   "cell_type": "code",
   "execution_count": 37,
   "metadata": {},
   "outputs": [],
   "source": [
    "# Aplicamos la transformación al DataFrame actual:\n",
    "data = model.transform(data)"
   ]
  },
  {
   "cell_type": "code",
   "execution_count": 38,
   "metadata": {},
   "outputs": [
    {
     "name": "stdout",
     "output_type": "stream",
     "text": [
      "+---+------+----+----+----+---+-----+------+--------+------+--------+--------+--------+\n",
      "| c0|symbol|date|open|high|low|close|volume|adjusted|sector|industry|exchange|promedio|\n",
      "+---+------+----+----+----+---+-----+------+--------+------+--------+--------+--------+\n",
      "|  0|     0|   0|   0|   0|  0|    0|     0|       0|     0|       0|       0|    2733|\n",
      "+---+------+----+----+----+---+-----+------+--------+------+--------+--------+--------+\n",
      "\n"
     ]
    }
   ],
   "source": [
    "# Mostramos el registro de campos nulos (de forma optima):\n",
    "data.select( [ count( when( col(c).isNull() , True ) ).alias(c) for c in data.columns ] ).show()"
   ]
  },
  {
   "cell_type": "code",
   "execution_count": 39,
   "metadata": {},
   "outputs": [
    {
     "data": {
      "text/plain": [
       "1729034"
      ]
     },
     "execution_count": 39,
     "metadata": {},
     "output_type": "execute_result"
    }
   ],
   "source": [
    "data.count()"
   ]
  },
  {
   "cell_type": "code",
   "execution_count": 40,
   "metadata": {},
   "outputs": [],
   "source": [
    "# Eliminamos registros con algún \"any\" campo nulo:\n",
    "data = data.dropna(how = \"any\")\n",
    "\n",
    "# Eliminamos registros con todos \"all\" los campos nulos:\n",
    "#data = data.dropna(how = \"all\")"
   ]
  },
  {
   "cell_type": "code",
   "execution_count": 41,
   "metadata": {},
   "outputs": [
    {
     "name": "stdout",
     "output_type": "stream",
     "text": [
      "+---+------+----+----+----+---+-----+------+--------+------+--------+--------+--------+\n",
      "| c0|symbol|date|open|high|low|close|volume|adjusted|sector|industry|exchange|promedio|\n",
      "+---+------+----+----+----+---+-----+------+--------+------+--------+--------+--------+\n",
      "|  0|     0|   0|   0|   0|  0|    0|     0|       0|     0|       0|       0|       0|\n",
      "+---+------+----+----+----+---+-----+------+--------+------+--------+--------+--------+\n",
      "\n"
     ]
    }
   ],
   "source": [
    "# Mostramos el registro de campos nulos (de forma optima):\n",
    "data.select( [ count( when( col(c).isNull() , True ) ).alias(c) for c in data.columns ] ).show()"
   ]
  },
  {
   "cell_type": "code",
   "execution_count": 42,
   "metadata": {},
   "outputs": [
    {
     "data": {
      "text/plain": [
       "1726301"
      ]
     },
     "execution_count": 42,
     "metadata": {},
     "output_type": "execute_result"
    }
   ],
   "source": [
    "data.count()"
   ]
  },
  {
   "cell_type": "code",
   "execution_count": 43,
   "metadata": {},
   "outputs": [
    {
     "name": "stdout",
     "output_type": "stream",
     "text": [
      "+---+------+----------+---------+---------+---------+---------+-------+---------+-------------+--------------------+--------+------------------+\n",
      "| c0|symbol|      date|     open|     high|      low|    close| volume| adjusted|       sector|            industry|exchange|          promedio|\n",
      "+---+------+----------+---------+---------+---------+---------+-------+---------+-------------+--------------------+--------+------------------+\n",
      "|  1|   TXG|2019-09-12|     54.0|     58.0|     51.0|    52.75|7326300|    52.75|Capital Goods|Biotechnology: La...|  NASDAQ|              54.5|\n",
      "|  2|   TXG|2019-09-13|    52.75|   54.355|49.150002|    52.27|1025200|    52.27|Capital Goods|Biotechnology: La...|  NASDAQ|51.752500999999995|\n",
      "|  3|   TXG|2019-09-16|52.450001|     56.0|52.009998|55.200001| 269900|55.200001|Capital Goods|Biotechnology: La...|  NASDAQ|         54.004999|\n",
      "|  4|   TXG|2019-09-17|56.209999|60.900002|   55.423|56.779999| 602800|56.779999|Capital Goods|Biotechnology: La...|  NASDAQ|         58.161501|\n",
      "|  5|   TXG|2019-09-18|56.849998|    62.27|55.650002|     62.0|1589600|     62.0|Capital Goods|Biotechnology: La...|  NASDAQ|58.960001000000005|\n",
      "+---+------+----------+---------+---------+---------+---------+-------+---------+-------------+--------------------+--------+------------------+\n",
      "only showing top 5 rows\n",
      "\n"
     ]
    }
   ],
   "source": [
    "data.show(N)"
   ]
  },
  {
   "cell_type": "markdown",
   "metadata": {},
   "source": [
    "## Selección de datos con PySpark SQL\n",
    "* Select\n",
    "* Filter\n",
    "* Between\n",
    "* When\n",
    "* Like\n",
    "* GroupBy\n",
    "* Aggregations "
   ]
  },
  {
   "cell_type": "markdown",
   "metadata": {},
   "source": [
    "### Select"
   ]
  },
  {
   "cell_type": "code",
   "execution_count": 44,
   "metadata": {},
   "outputs": [
    {
     "name": "stdout",
     "output_type": "stream",
     "text": [
      "['c0', 'symbol', 'date', 'open', 'high', 'low', 'close', 'volume', 'adjusted', 'sector', 'industry', 'exchange', 'promedio']\n"
     ]
    }
   ],
   "source": [
    "print( data.columns )"
   ]
  },
  {
   "cell_type": "code",
   "execution_count": 45,
   "metadata": {},
   "outputs": [
    {
     "name": "stdout",
     "output_type": "stream",
     "text": [
      "+-------+------------------+------------------+------------------+------------------+-----------------+------------------+-------------------+\n",
      "|summary|              open|              high|               low|             close|           volume|          adjusted|           promedio|\n",
      "+-------+------------------+------------------+------------------+------------------+-----------------+------------------+-------------------+\n",
      "|  count|           1726301|           1726301|           1726301|           1726301|          1726301|           1726301|            1726301|\n",
      "|   mean|15070.071703341047|15555.067268137087|14557.808227578987| 15032.71485433071|1397692.162685418|14926.109688795501| 15056.437747857985|\n",
      "| stddev|1111821.8002863121|1148247.1953514938| 1072968.155843422|1109755.9294000654|5185878.915390306|1101877.6328940047| 1110364.3670637733|\n",
      "|    min|             0.072|             0.078|             0.052|             0.071|                0|         -1.230099|0.07450000000000001|\n",
      "|    max|      1.60168176E8|      1.61601456E8|      1.55151728E8|      1.58376592E8|        656504200|      1.57249392E8|       1.57659952E8|\n",
      "+-------+------------------+------------------+------------------+------------------+-----------------+------------------+-------------------+\n",
      "\n"
     ]
    }
   ],
   "source": [
    "data.select(['open', 'high', 'low', 'close', 'volume', 'adjusted','promedio']).describe().show()"
   ]
  },
  {
   "cell_type": "markdown",
   "metadata": {},
   "source": [
    "### Filter"
   ]
  },
  {
   "cell_type": "code",
   "execution_count": 46,
   "metadata": {},
   "outputs": [
    {
     "name": "stdout",
     "output_type": "stream",
     "text": [
      "+---+------+----------+---------+---------+---------+---------+------+---------+-------------+--------------------+--------+-----------------+\n",
      "| c0|symbol|      date|     open|     high|      low|    close|volume| adjusted|       sector|            industry|exchange|         promedio|\n",
      "+---+------+----------+---------+---------+---------+---------+------+---------+-------------+--------------------+--------+-----------------+\n",
      "| 78|   TXG|2020-01-02|76.910004|77.989998|71.480003|72.830002|220200|72.830002|Capital Goods|Biotechnology: La...|  NASDAQ|       74.7350005|\n",
      "| 79|   TXG|2020-01-03|71.519997|76.188004|70.580002|75.559998|288300|75.559998|Capital Goods|Biotechnology: La...|  NASDAQ|        73.384003|\n",
      "| 80|   TXG|2020-01-06|75.269997|77.349998|73.559998|75.550003|220600|75.550003|Capital Goods|Biotechnology: La...|  NASDAQ|75.45499799999999|\n",
      "| 81|   TXG|2020-01-07|     76.0|77.279999|    75.32|75.980003|182400|75.980003|Capital Goods|Biotechnology: La...|  NASDAQ|       76.2999995|\n",
      "| 82|   TXG|2020-01-08|76.089996|76.949997|72.739998|74.839996|172100|74.839996|Capital Goods|Biotechnology: La...|  NASDAQ|       74.8449975|\n",
      "+---+------+----------+---------+---------+---------+---------+------+---------+-------------+--------------------+--------+-----------------+\n",
      "only showing top 5 rows\n",
      "\n"
     ]
    }
   ],
   "source": [
    "# Extraemos TODOS los registros que van del '2020-01-01' al '2020-01-31'\n",
    "data.filter( ( data['date'] >= '2020-01-01' )&( data['date'] <= '2020-01-31' ) ).show(N)"
   ]
  },
  {
   "cell_type": "code",
   "execution_count": 47,
   "metadata": {},
   "outputs": [
    {
     "data": {
      "text/plain": [
       "94319"
      ]
     },
     "execution_count": 47,
     "metadata": {},
     "output_type": "execute_result"
    }
   ],
   "source": [
    "data.filter( ( data['date'] >= '2020-01-01' )&( data['date'] <= '2020-01-31' ) ).count()"
   ]
  },
  {
   "cell_type": "markdown",
   "metadata": {},
   "source": [
    "### Filter & Select"
   ]
  },
  {
   "cell_type": "code",
   "execution_count": 48,
   "metadata": {},
   "outputs": [
    {
     "name": "stdout",
     "output_type": "stream",
     "text": [
      "+----------+--------+-----------------+\n",
      "|      date|exchange|         promedio|\n",
      "+----------+--------+-----------------+\n",
      "|2020-01-02|  NASDAQ|       74.7350005|\n",
      "|2020-01-03|  NASDAQ|        73.384003|\n",
      "|2020-01-06|  NASDAQ|75.45499799999999|\n",
      "|2020-01-07|  NASDAQ|       76.2999995|\n",
      "|2020-01-08|  NASDAQ|       74.8449975|\n",
      "+----------+--------+-----------------+\n",
      "only showing top 5 rows\n",
      "\n"
     ]
    }
   ],
   "source": [
    "data.filter( ( data['date'] >= '2020-01-01' )&( data['date'] <= '2020-01-31' ) ).select(['date','exchange','promedio']).show(N)"
   ]
  },
  {
   "cell_type": "markdown",
   "metadata": {},
   "source": [
    "### Between"
   ]
  },
  {
   "cell_type": "code",
   "execution_count": 49,
   "metadata": {},
   "outputs": [
    {
     "name": "stdout",
     "output_type": "stream",
     "text": [
      "+----+------+----------+----------+----------+----------+----------+------+----------+-------------+--------------------+--------+------------------+\n",
      "|  c0|symbol|      date|      open|      high|       low|     close|volume|  adjusted|       sector|            industry|exchange|          promedio|\n",
      "+----+------+----------+----------+----------+----------+----------+------+----------+-------------+--------------------+--------+------------------+\n",
      "|  93|   TXG|2020-01-24| 95.459999|     101.0| 94.157997|100.790001|328100|100.790001|Capital Goods|Biotechnology: La...|  NASDAQ|        97.5789985|\n",
      "|  94|   TXG|2020-01-27| 99.760002|104.892998| 97.019997|103.209999|334900|103.209999|Capital Goods|Biotechnology: La...|  NASDAQ|100.95649750000001|\n",
      "|  95|   TXG|2020-01-28|104.620003|108.269997|103.297997|106.620003|245400|106.620003|Capital Goods|Biotechnology: La...|  NASDAQ|        105.783997|\n",
      "|6893|  ABMD|2019-01-02|315.940002|320.709991|307.029999|309.959991|590000|309.959991|  Health Care|Medical/Dental In...|  NASDAQ|        313.869995|\n",
      "|6894|  ABMD|2019-01-03|    307.25| 311.73999|293.660004|302.290009|665300|302.290009|  Health Care|Medical/Dental In...|  NASDAQ|        302.699997|\n",
      "+----+------+----------+----------+----------+----------+----------+------+----------+-------------+--------------------+--------+------------------+\n",
      "only showing top 5 rows\n",
      "\n"
     ]
    }
   ],
   "source": [
    "data.filter( data['adjusted'].between(100.0 , 500.0) ).show(N)"
   ]
  },
  {
   "cell_type": "markdown",
   "metadata": {},
   "source": [
    "### Between & Select"
   ]
  },
  {
   "cell_type": "code",
   "execution_count": 50,
   "metadata": {},
   "outputs": [
    {
     "name": "stdout",
     "output_type": "stream",
     "text": [
      "+----------+----------+------------------+\n",
      "|      date|  adjusted|          promedio|\n",
      "+----------+----------+------------------+\n",
      "|2020-01-24|100.790001|        97.5789985|\n",
      "|2020-01-27|103.209999|100.95649750000001|\n",
      "|2020-01-28|106.620003|        105.783997|\n",
      "|2019-01-02|309.959991|        313.869995|\n",
      "|2019-01-03|302.290009|        302.699997|\n",
      "+----------+----------+------------------+\n",
      "only showing top 5 rows\n",
      "\n"
     ]
    }
   ],
   "source": [
    "data.filter( data['adjusted'].between(100.0 , 500.0) ).select(['date','adjusted','promedio']).show(N)"
   ]
  },
  {
   "cell_type": "markdown",
   "metadata": {},
   "source": [
    "### When\n",
    "\n",
    "Permite asignar un valor u otro, dependiendo si se cumple o no cirta condición"
   ]
  },
  {
   "cell_type": "code",
   "execution_count": 51,
   "metadata": {},
   "outputs": [
    {
     "name": "stdout",
     "output_type": "stream",
     "text": [
      "+---------+---------+------------------------------------------------------+\n",
      "|     open|    close|CASE WHEN (adjusted >= 200.0) THEN true ELSE false END|\n",
      "+---------+---------+------------------------------------------------------+\n",
      "|     54.0|    52.75|                                                 false|\n",
      "|    52.75|    52.27|                                                 false|\n",
      "|52.450001|55.200001|                                                 false|\n",
      "|56.209999|56.779999|                                                 false|\n",
      "|56.849998|     62.0|                                                 false|\n",
      "+---------+---------+------------------------------------------------------+\n",
      "only showing top 5 rows\n",
      "\n"
     ]
    }
   ],
   "source": [
    "val_1 = True\n",
    "val_2 = False\n",
    "\n",
    "data.select( [ 'open','close', f.when(data['adjusted'] >= 200.0 , val_1 ).otherwise( val_2 ) ] ).show(N)"
   ]
  },
  {
   "cell_type": "code",
   "execution_count": 52,
   "metadata": {},
   "outputs": [
    {
     "name": "stdout",
     "output_type": "stream",
     "text": [
      "+---------+---------+---------------+\n",
      "|     open|    close|ajuste_positivo|\n",
      "+---------+---------+---------------+\n",
      "|     54.0|    52.75|          false|\n",
      "|    52.75|    52.27|          false|\n",
      "|52.450001|55.200001|          false|\n",
      "|56.209999|56.779999|          false|\n",
      "|56.849998|     62.0|          false|\n",
      "+---------+---------+---------------+\n",
      "only showing top 5 rows\n",
      "\n"
     ]
    }
   ],
   "source": [
    "# Agregamos un alias a la nueva columna:\n",
    "data.select( [ 'open','close', f.when(data['adjusted'] >= 200.0 , val_1 ).otherwise( val_2 ).alias('ajuste_positivo') ] ).show(N)"
   ]
  },
  {
   "cell_type": "markdown",
   "metadata": {},
   "source": [
    "### Extracción de datos distintos (clases) con `distnct()` "
   ]
  },
  {
   "cell_type": "code",
   "execution_count": 53,
   "metadata": {},
   "outputs": [],
   "source": [
    "# Creamos una función que regresa un DataFrame de pandas con la información sobre el número de valores distintos (clases) en cada columna:\n",
    "def cols_distincts(df_spark):\n",
    "    # Extraemos el nombre de cada columna:\n",
    "    cols = df_spark.columns\n",
    "\n",
    "    # Numero de registros del DataFrame\n",
    "    n = df_spark.count()\n",
    "\n",
    "    # Creamos la lista en donde guardaremos el número de valores distintos (clases) en cada columna:\n",
    "    l = []\n",
    "    for c in cols:\n",
    "        # Obtenemos  el número de valores distintos (clases) en la columna actual:\n",
    "        dist_in_c = df_spark.select(c).distinct().count()\n",
    "        # agregamos dato a la lista: \n",
    "        l.append( dist_in_c )\n",
    "    \n",
    "    # Creamos DataFrame de pandas (inicialmente vacío):\n",
    "    df_pd = pd.DataFrame()\n",
    "    # Agregamos las listas en columnas del DataFrame:  \n",
    "    df_pd['col_name'] = cols\n",
    "    df_pd['n_distincts'] = l\n",
    "    df_pd['porcentaje'] = df_pd['n_distincts']/n * 100\n",
    "\n",
    "    # Ordenamos DataFrame de forma descendente:\n",
    "    df_pd = df_pd.sort_values('n_distincts', ascending = False)\n",
    "    #df_pd = df_pd.reset_index()\n",
    "\n",
    "    return df_pd"
   ]
  },
  {
   "cell_type": "code",
   "execution_count": 54,
   "metadata": {},
   "outputs": [
    {
     "data": {
      "text/html": [
       "<div>\n",
       "<style scoped>\n",
       "    .dataframe tbody tr th:only-of-type {\n",
       "        vertical-align: middle;\n",
       "    }\n",
       "\n",
       "    .dataframe tbody tr th {\n",
       "        vertical-align: top;\n",
       "    }\n",
       "\n",
       "    .dataframe thead th {\n",
       "        text-align: right;\n",
       "    }\n",
       "</style>\n",
       "<table border=\"1\" class=\"dataframe\">\n",
       "  <thead>\n",
       "    <tr style=\"text-align: right;\">\n",
       "      <th></th>\n",
       "      <th>col_name</th>\n",
       "      <th>n_distincts</th>\n",
       "      <th>porcentaje</th>\n",
       "    </tr>\n",
       "  </thead>\n",
       "  <tbody>\n",
       "    <tr>\n",
       "      <th>0</th>\n",
       "      <td>symbol</td>\n",
       "      <td>4611</td>\n",
       "      <td>0.267103</td>\n",
       "    </tr>\n",
       "    <tr>\n",
       "      <th>1</th>\n",
       "      <td>date</td>\n",
       "      <td>392</td>\n",
       "      <td>0.022708</td>\n",
       "    </tr>\n",
       "    <tr>\n",
       "      <th>3</th>\n",
       "      <td>industry</td>\n",
       "      <td>135</td>\n",
       "      <td>0.007820</td>\n",
       "    </tr>\n",
       "    <tr>\n",
       "      <th>2</th>\n",
       "      <td>sector</td>\n",
       "      <td>12</td>\n",
       "      <td>0.000695</td>\n",
       "    </tr>\n",
       "    <tr>\n",
       "      <th>4</th>\n",
       "      <td>exchange</td>\n",
       "      <td>2</td>\n",
       "      <td>0.000116</td>\n",
       "    </tr>\n",
       "  </tbody>\n",
       "</table>\n",
       "</div>"
      ],
      "text/plain": [
       "   col_name  n_distincts  porcentaje\n",
       "0    symbol         4611    0.267103\n",
       "1      date          392    0.022708\n",
       "3  industry          135    0.007820\n",
       "2    sector           12    0.000695\n",
       "4  exchange            2    0.000116"
      ]
     },
     "execution_count": 54,
     "metadata": {},
     "output_type": "execute_result"
    }
   ],
   "source": [
    "selected_cols = [\"symbol\", \"date\", \"sector\" , \"industry\" , \"exchange\"]\n",
    "cols_distincts( data.select(selected_cols) )"
   ]
  },
  {
   "cell_type": "markdown",
   "metadata": {},
   "source": [
    "#### Forma óptima de calcular el número de datos distintos (clases) en varias columnas de un DataFrame"
   ]
  },
  {
   "cell_type": "code",
   "execution_count": 55,
   "metadata": {},
   "outputs": [
    {
     "name": "stdout",
     "output_type": "stream",
     "text": [
      "+------+----+------+--------+--------+\n",
      "|symbol|date|sector|industry|exchange|\n",
      "+------+----+------+--------+--------+\n",
      "|  4611| 392|    12|     135|       2|\n",
      "+------+----+------+--------+--------+\n",
      "\n"
     ]
    }
   ],
   "source": [
    "from pyspark.sql.functions import countDistinct, col\n",
    "\n",
    "selected_cols = [\"symbol\", \"date\", \"sector\" , \"industry\" , \"exchange\"]\n",
    "data.select( [ countDistinct( col(c) ).alias(c) for c in selected_cols ] ).show()"
   ]
  },
  {
   "cell_type": "markdown",
   "metadata": {},
   "source": [
    "### Like\n",
    "Permite identificar registros que satisfacen alguna similitud definida"
   ]
  },
  {
   "cell_type": "code",
   "execution_count": 56,
   "metadata": {},
   "outputs": [
    {
     "name": "stdout",
     "output_type": "stream",
     "text": [
      "+---------------------+\n",
      "|sector               |\n",
      "+---------------------+\n",
      "|Miscellaneous        |\n",
      "|Health Care          |\n",
      "|Public Utilities     |\n",
      "|Energy               |\n",
      "|Consumer Non-Durables|\n",
      "|Finance              |\n",
      "|Basic Industries     |\n",
      "|Capital Goods        |\n",
      "|Technology           |\n",
      "|Consumer Services    |\n",
      "|Consumer Durables    |\n",
      "|Transportation       |\n",
      "+---------------------+\n",
      "\n"
     ]
    }
   ],
   "source": [
    "data.select(['sector']).distinct().show( truncate=False )\n",
    "# truncate=False <-- Muestra los resultados completos sin truncar nada"
   ]
  },
  {
   "cell_type": "code",
   "execution_count": 57,
   "metadata": {},
   "outputs": [
    {
     "name": "stdout",
     "output_type": "stream",
     "text": [
      "+--------------+\n",
      "|        sector|\n",
      "+--------------+\n",
      "|    Technology|\n",
      "|Transportation|\n",
      "+--------------+\n",
      "\n"
     ]
    }
   ],
   "source": [
    "regla='T%' #<-- Empieza con 'T'\n",
    "data.select(['sector']).filter( data['sector'].like(regla) ).distinct().show()"
   ]
  },
  {
   "cell_type": "code",
   "execution_count": 58,
   "metadata": {},
   "outputs": [
    {
     "name": "stdout",
     "output_type": "stream",
     "text": [
      "+----------------+\n",
      "|          sector|\n",
      "+----------------+\n",
      "|Public Utilities|\n",
      "|Basic Industries|\n",
      "+----------------+\n",
      "\n"
     ]
    }
   ],
   "source": [
    "regla='%ies' #<-- Termina con 'ies'\n",
    "data.select(['sector']).filter( data['sector'].like(regla) ).distinct().show()"
   ]
  },
  {
   "cell_type": "code",
   "execution_count": 59,
   "metadata": {},
   "outputs": [
    {
     "name": "stdout",
     "output_type": "stream",
     "text": [
      "+----------+\n",
      "|    sector|\n",
      "+----------+\n",
      "|Technology|\n",
      "+----------+\n",
      "\n"
     ]
    }
   ],
   "source": [
    "regla='%chnolo%' #<-- contiene 'chnolo'\n",
    "data.select(['sector']).filter( data['sector'].like(regla) ).distinct().show()"
   ]
  },
  {
   "cell_type": "code",
   "execution_count": 60,
   "metadata": {},
   "outputs": [
    {
     "name": "stdout",
     "output_type": "stream",
     "text": [
      "+---------------------+\n",
      "|sector               |\n",
      "+---------------------+\n",
      "|Consumer Non-Durables|\n",
      "|Consumer Services    |\n",
      "|Consumer Durables    |\n",
      "+---------------------+\n",
      "\n"
     ]
    }
   ],
   "source": [
    "regla1='Cons%' #<-- Empieza con 'Cons'\n",
    "regla2='%es' #<-- Termina con 'es'\n",
    "data.select(['sector']).filter( data['sector'].like(regla1) & data['sector'].like(regla2) ).distinct().show( truncate=False )\n"
   ]
  },
  {
   "cell_type": "markdown",
   "metadata": {},
   "source": [
    "Otra forma de usar `like`"
   ]
  },
  {
   "cell_type": "code",
   "execution_count": 61,
   "metadata": {},
   "outputs": [
    {
     "name": "stdout",
     "output_type": "stream",
     "text": [
      "+---------------------+-------------------+\n",
      "|sector               |empieza con H,P o E|\n",
      "+---------------------+-------------------+\n",
      "|Consumer Non-Durables|false              |\n",
      "|Health Care          |true               |\n",
      "|Basic Industries     |false              |\n",
      "|Finance              |false              |\n",
      "|Transportation       |false              |\n",
      "|Consumer Durables    |false              |\n",
      "|Energy               |true               |\n",
      "|Miscellaneous        |false              |\n",
      "|Public Utilities     |true               |\n",
      "|Consumer Services    |false              |\n",
      "|Capital Goods        |false              |\n",
      "|Technology           |false              |\n",
      "+---------------------+-------------------+\n",
      "\n"
     ]
    }
   ],
   "source": [
    "# regla1: empieza con alguna de las letras H, P, E:\n",
    "regla = '^[H,P,E]'\n",
    "c_name = 'empieza con H,P o E'\n",
    "\n",
    "df2 = data.select( ['sector' , data['sector'].rlike( regla ).alias(c_name) ] ).distinct()\n",
    "\n",
    "df2.show(truncate=False)"
   ]
  },
  {
   "cell_type": "code",
   "execution_count": 62,
   "metadata": {},
   "outputs": [
    {
     "name": "stdout",
     "output_type": "stream",
     "text": [
      "+----------------+-------------------+\n",
      "|          sector|empieza con H,P o E|\n",
      "+----------------+-------------------+\n",
      "|     Health Care|               true|\n",
      "|          Energy|               true|\n",
      "|Public Utilities|               true|\n",
      "+----------------+-------------------+\n",
      "\n"
     ]
    }
   ],
   "source": [
    "df2.filter( df2[c_name]=='true' ).show()"
   ]
  },
  {
   "cell_type": "markdown",
   "metadata": {},
   "source": [
    "### Reemplazar valores en un DataFrame"
   ]
  },
  {
   "cell_type": "code",
   "execution_count": 63,
   "metadata": {},
   "outputs": [],
   "source": [
    "col = 'sector' # <-- columna a editar\n",
    "old_value = 'Technology'\n",
    "new_value = 'Tecnología'\n",
    "\n",
    "data = data.replace( old_value , new_value , col)"
   ]
  },
  {
   "cell_type": "code",
   "execution_count": 64,
   "metadata": {},
   "outputs": [
    {
     "name": "stdout",
     "output_type": "stream",
     "text": [
      "+--------------------+\n",
      "|              sector|\n",
      "+--------------------+\n",
      "|       Miscellaneous|\n",
      "|         Health Care|\n",
      "|    Public Utilities|\n",
      "|              Energy|\n",
      "|Consumer Non-Dura...|\n",
      "|             Finance|\n",
      "|    Basic Industries|\n",
      "|       Capital Goods|\n",
      "|          Tecnología|\n",
      "|   Consumer Services|\n",
      "|   Consumer Durables|\n",
      "|      Transportation|\n",
      "+--------------------+\n",
      "\n"
     ]
    }
   ],
   "source": [
    "data.select(col).distinct().show()"
   ]
  },
  {
   "cell_type": "markdown",
   "metadata": {},
   "source": [
    "### GroupBy"
   ]
  },
  {
   "cell_type": "code",
   "execution_count": 65,
   "metadata": {},
   "outputs": [
    {
     "name": "stdout",
     "output_type": "stream",
     "text": [
      "+--------------------+------------------+------------------+------------------+\n",
      "|            industry|         avg(open)|        avg(close)|     avg(adjusted)|\n",
      "+--------------------+------------------+------------------+------------------+\n",
      "|Finance/Investors...| 5.134401785714288| 5.136630739795919| 4.991354066964286|\n",
      "|       Miscellaneous| 16.38588266938775|16.359879090306126|16.148959322959186|\n",
      "|Investment Banker...|58.950580945750225| 58.98308596082619| 58.15783725890314|\n",
      "|   Food Distributors| 43.27450856935453| 43.27317810574849| 42.91047608357857|\n",
      "|        Broadcasting| 24.91678746482517| 24.91738845539515|24.699102029625312|\n",
      "+--------------------+------------------+------------------+------------------+\n",
      "only showing top 5 rows\n",
      "\n"
     ]
    }
   ],
   "source": [
    "data.select( ['industry', 'open' ,'close','adjusted'] ).groupBy(['industry']).mean().show(N)"
   ]
  },
  {
   "cell_type": "code",
   "execution_count": 66,
   "metadata": {},
   "outputs": [
    {
     "name": "stdout",
     "output_type": "stream",
     "text": [
      "+---------------------+----------+----------+---------------+---------------+------------------+---------------+---------------+------------------+------------------------+------------------------+------------------------+\n",
      "|sector               |From      |To        |Minimum Opening|Maximum Opening|Average Opening   |Minimum Closing|Maximum Closing|Average Closing   |Minimum Adjusted Closing|Maximum Adjusted Closing|Average Adjusted Closing|\n",
      "+---------------------+----------+----------+---------------+---------------+------------------+---------------+---------------+------------------+------------------------+------------------------+------------------------+\n",
      "|Miscellaneous        |2019-01-02|2020-07-22|0.147          |1059.98999     |52.038394969006596|0.1361         |1035.829956    |52.063628549509616|0.1361                  |1035.829956             |51.80973033632299       |\n",
      "|Health Care          |2019-01-02|2020-07-22|0.072          |186000.0       |119.96763306523255|0.071          |187000.0       |119.07806125419022|0.071                   |187000.0                |118.97394778016215      |\n",
      "|Public Utilities     |2019-01-02|2020-07-22|0.331          |280.0          |35.580777352394385|0.325          |282.220001     |35.58528245861939 |0.325                   |280.67395               |34.73015568500471       |\n",
      "|Energy               |2019-01-02|2020-07-22|0.1            |905.0          |24.456589891261128|0.09           |901.039978     |24.427350302157947|0.09                    |879.057007              |23.684714263000938      |\n",
      "|Consumer Non-Durables|2019-01-02|2020-07-22|0.12           |655.0          |43.328602746126776|0.12           |664.130005     |43.33038601364589 |0.12                    |664.130005              |42.81762456569028       |\n",
      "|Finance              |2019-01-02|2020-07-22|0.25           |1336.930054    |37.7746670681904  |0.27           |1341.079956    |37.779002314288654|0.27                    |1341.079956             |37.10028522718042       |\n",
      "|Basic Industries     |2019-01-02|2020-07-22|0.23           |1.60168176E8   |266410.35470107093|0.23           |1.58376592E8   |265750.3613671152 |0.23                    |1.57249392E8            |263865.51070311887      |\n",
      "|Capital Goods        |2019-01-02|2020-07-22|0.13           |4025.0         |60.48854363282763 |0.12           |4037.77002     |60.51655483568791 |-1.230099               |4037.77002              |59.97512253879293       |\n",
      "|Tecnología           |2019-01-02|2020-07-22|0.14           |2704.0         |49.516045118394715|0.13           |2736.0         |49.53479888748215 |0.13                    |2736.0                  |49.25234033754503       |\n",
      "|Consumer Services    |2019-01-02|2020-07-22|0.1            |15437.5        |55.07886734259144 |0.134          |19843.75       |55.05524753647347 |0.134                   |19843.75                |54.361878278461255      |\n",
      "|Consumer Durables    |2019-01-02|2020-07-22|0.32           |111718.75      |391.0315399849805 |0.31           |118750.0       |390.10415506571815|0.31                    |118750.0                |389.64176394936146      |\n",
      "|Transportation       |2019-01-02|2020-07-22|0.08           |274.410004     |37.30503242702789 |0.08           |274.040009     |37.29532668104832 |0.08                    |274.040009              |36.802319227912406      |\n",
      "+---------------------+----------+----------+---------------+---------------+------------------+---------------+---------------+------------------+------------------------+------------------------+------------------------+\n",
      "\n"
     ]
    }
   ],
   "source": [
    "# Cargamos funciones para generalizar el \".groupBy()\"\n",
    "from pyspark.sql.functions import col, min, max, avg, lit\n",
    "\n",
    "df = data.groupBy(\"sector\").agg(\n",
    "    min(\"date\").alias(\"From\"), \n",
    "    max(\"date\").alias(\"To\"),\n",
    "    \n",
    "    min(\"open\").alias(\"Minimum Opening\"),\n",
    "    max(\"open\").alias(\"Maximum Opening\"),\n",
    "    avg(\"open\").alias(\"Average Opening\"), \n",
    "\n",
    "    min(\"close\").alias(\"Minimum Closing\"), \n",
    "    max(\"close\").alias(\"Maximum Closing\"),\n",
    "    avg(\"close\").alias(\"Average Closing\"), \n",
    "\n",
    "    min(\"adjusted\").alias(\"Minimum Adjusted Closing\"), \n",
    "    max(\"adjusted\").alias(\"Maximum Adjusted Closing\"),\n",
    "    avg(\"adjusted\").alias(\"Average Adjusted Closing\")\n",
    ")\n",
    "\n",
    "df.show( truncate=False )"
   ]
  },
  {
   "cell_type": "code",
   "execution_count": 67,
   "metadata": {},
   "outputs": [
    {
     "data": {
      "text/html": [
       "<div>\n",
       "<style scoped>\n",
       "    .dataframe tbody tr th:only-of-type {\n",
       "        vertical-align: middle;\n",
       "    }\n",
       "\n",
       "    .dataframe tbody tr th {\n",
       "        vertical-align: top;\n",
       "    }\n",
       "\n",
       "    .dataframe thead th {\n",
       "        text-align: right;\n",
       "    }\n",
       "</style>\n",
       "<table border=\"1\" class=\"dataframe\">\n",
       "  <thead>\n",
       "    <tr style=\"text-align: right;\">\n",
       "      <th></th>\n",
       "      <th>sector</th>\n",
       "      <th>From</th>\n",
       "      <th>To</th>\n",
       "      <th>Minimum Opening</th>\n",
       "      <th>Maximum Opening</th>\n",
       "      <th>Average Opening</th>\n",
       "      <th>Minimum Closing</th>\n",
       "      <th>Maximum Closing</th>\n",
       "      <th>Average Closing</th>\n",
       "      <th>Minimum Adjusted Closing</th>\n",
       "      <th>Maximum Adjusted Closing</th>\n",
       "      <th>Average Adjusted Closing</th>\n",
       "    </tr>\n",
       "  </thead>\n",
       "  <tbody>\n",
       "    <tr>\n",
       "      <th>0</th>\n",
       "      <td>Miscellaneous</td>\n",
       "      <td>2019-01-02</td>\n",
       "      <td>2020-07-22</td>\n",
       "      <td>0.147</td>\n",
       "      <td>1.059990e+03</td>\n",
       "      <td>52.038395</td>\n",
       "      <td>0.1361</td>\n",
       "      <td>1.035830e+03</td>\n",
       "      <td>52.063629</td>\n",
       "      <td>0.136100</td>\n",
       "      <td>1.035830e+03</td>\n",
       "      <td>51.809730</td>\n",
       "    </tr>\n",
       "    <tr>\n",
       "      <th>1</th>\n",
       "      <td>Health Care</td>\n",
       "      <td>2019-01-02</td>\n",
       "      <td>2020-07-22</td>\n",
       "      <td>0.072</td>\n",
       "      <td>1.860000e+05</td>\n",
       "      <td>119.967633</td>\n",
       "      <td>0.0710</td>\n",
       "      <td>1.870000e+05</td>\n",
       "      <td>119.078061</td>\n",
       "      <td>0.071000</td>\n",
       "      <td>1.870000e+05</td>\n",
       "      <td>118.973948</td>\n",
       "    </tr>\n",
       "    <tr>\n",
       "      <th>2</th>\n",
       "      <td>Public Utilities</td>\n",
       "      <td>2019-01-02</td>\n",
       "      <td>2020-07-22</td>\n",
       "      <td>0.331</td>\n",
       "      <td>2.800000e+02</td>\n",
       "      <td>35.580777</td>\n",
       "      <td>0.3250</td>\n",
       "      <td>2.822200e+02</td>\n",
       "      <td>35.585282</td>\n",
       "      <td>0.325000</td>\n",
       "      <td>2.806739e+02</td>\n",
       "      <td>34.730156</td>\n",
       "    </tr>\n",
       "    <tr>\n",
       "      <th>3</th>\n",
       "      <td>Energy</td>\n",
       "      <td>2019-01-02</td>\n",
       "      <td>2020-07-22</td>\n",
       "      <td>0.100</td>\n",
       "      <td>9.050000e+02</td>\n",
       "      <td>24.456590</td>\n",
       "      <td>0.0900</td>\n",
       "      <td>9.010400e+02</td>\n",
       "      <td>24.427350</td>\n",
       "      <td>0.090000</td>\n",
       "      <td>8.790570e+02</td>\n",
       "      <td>23.684714</td>\n",
       "    </tr>\n",
       "    <tr>\n",
       "      <th>4</th>\n",
       "      <td>Consumer Non-Durables</td>\n",
       "      <td>2019-01-02</td>\n",
       "      <td>2020-07-22</td>\n",
       "      <td>0.120</td>\n",
       "      <td>6.550000e+02</td>\n",
       "      <td>43.328603</td>\n",
       "      <td>0.1200</td>\n",
       "      <td>6.641300e+02</td>\n",
       "      <td>43.330386</td>\n",
       "      <td>0.120000</td>\n",
       "      <td>6.641300e+02</td>\n",
       "      <td>42.817625</td>\n",
       "    </tr>\n",
       "    <tr>\n",
       "      <th>5</th>\n",
       "      <td>Finance</td>\n",
       "      <td>2019-01-02</td>\n",
       "      <td>2020-07-22</td>\n",
       "      <td>0.250</td>\n",
       "      <td>1.336930e+03</td>\n",
       "      <td>37.774667</td>\n",
       "      <td>0.2700</td>\n",
       "      <td>1.341080e+03</td>\n",
       "      <td>37.779002</td>\n",
       "      <td>0.270000</td>\n",
       "      <td>1.341080e+03</td>\n",
       "      <td>37.100285</td>\n",
       "    </tr>\n",
       "    <tr>\n",
       "      <th>6</th>\n",
       "      <td>Basic Industries</td>\n",
       "      <td>2019-01-02</td>\n",
       "      <td>2020-07-22</td>\n",
       "      <td>0.230</td>\n",
       "      <td>1.601682e+08</td>\n",
       "      <td>266410.354701</td>\n",
       "      <td>0.2300</td>\n",
       "      <td>1.583766e+08</td>\n",
       "      <td>265750.361367</td>\n",
       "      <td>0.230000</td>\n",
       "      <td>1.572494e+08</td>\n",
       "      <td>263865.510703</td>\n",
       "    </tr>\n",
       "    <tr>\n",
       "      <th>7</th>\n",
       "      <td>Capital Goods</td>\n",
       "      <td>2019-01-02</td>\n",
       "      <td>2020-07-22</td>\n",
       "      <td>0.130</td>\n",
       "      <td>4.025000e+03</td>\n",
       "      <td>60.488544</td>\n",
       "      <td>0.1200</td>\n",
       "      <td>4.037770e+03</td>\n",
       "      <td>60.516555</td>\n",
       "      <td>-1.230099</td>\n",
       "      <td>4.037770e+03</td>\n",
       "      <td>59.975123</td>\n",
       "    </tr>\n",
       "    <tr>\n",
       "      <th>8</th>\n",
       "      <td>Tecnología</td>\n",
       "      <td>2019-01-02</td>\n",
       "      <td>2020-07-22</td>\n",
       "      <td>0.140</td>\n",
       "      <td>2.704000e+03</td>\n",
       "      <td>49.516045</td>\n",
       "      <td>0.1300</td>\n",
       "      <td>2.736000e+03</td>\n",
       "      <td>49.534799</td>\n",
       "      <td>0.130000</td>\n",
       "      <td>2.736000e+03</td>\n",
       "      <td>49.252340</td>\n",
       "    </tr>\n",
       "    <tr>\n",
       "      <th>9</th>\n",
       "      <td>Consumer Services</td>\n",
       "      <td>2019-01-02</td>\n",
       "      <td>2020-07-22</td>\n",
       "      <td>0.100</td>\n",
       "      <td>1.543750e+04</td>\n",
       "      <td>55.078867</td>\n",
       "      <td>0.1340</td>\n",
       "      <td>1.984375e+04</td>\n",
       "      <td>55.055248</td>\n",
       "      <td>0.134000</td>\n",
       "      <td>1.984375e+04</td>\n",
       "      <td>54.361878</td>\n",
       "    </tr>\n",
       "    <tr>\n",
       "      <th>10</th>\n",
       "      <td>Consumer Durables</td>\n",
       "      <td>2019-01-02</td>\n",
       "      <td>2020-07-22</td>\n",
       "      <td>0.320</td>\n",
       "      <td>1.117188e+05</td>\n",
       "      <td>391.031540</td>\n",
       "      <td>0.3100</td>\n",
       "      <td>1.187500e+05</td>\n",
       "      <td>390.104155</td>\n",
       "      <td>0.310000</td>\n",
       "      <td>1.187500e+05</td>\n",
       "      <td>389.641764</td>\n",
       "    </tr>\n",
       "    <tr>\n",
       "      <th>11</th>\n",
       "      <td>Transportation</td>\n",
       "      <td>2019-01-02</td>\n",
       "      <td>2020-07-22</td>\n",
       "      <td>0.080</td>\n",
       "      <td>2.744100e+02</td>\n",
       "      <td>37.305032</td>\n",
       "      <td>0.0800</td>\n",
       "      <td>2.740400e+02</td>\n",
       "      <td>37.295327</td>\n",
       "      <td>0.080000</td>\n",
       "      <td>2.740400e+02</td>\n",
       "      <td>36.802319</td>\n",
       "    </tr>\n",
       "  </tbody>\n",
       "</table>\n",
       "</div>"
      ],
      "text/plain": [
       "                   sector        From          To  Minimum Opening  \\\n",
       "0           Miscellaneous  2019-01-02  2020-07-22            0.147   \n",
       "1             Health Care  2019-01-02  2020-07-22            0.072   \n",
       "2        Public Utilities  2019-01-02  2020-07-22            0.331   \n",
       "3                  Energy  2019-01-02  2020-07-22            0.100   \n",
       "4   Consumer Non-Durables  2019-01-02  2020-07-22            0.120   \n",
       "5                 Finance  2019-01-02  2020-07-22            0.250   \n",
       "6        Basic Industries  2019-01-02  2020-07-22            0.230   \n",
       "7           Capital Goods  2019-01-02  2020-07-22            0.130   \n",
       "8              Tecnología  2019-01-02  2020-07-22            0.140   \n",
       "9       Consumer Services  2019-01-02  2020-07-22            0.100   \n",
       "10      Consumer Durables  2019-01-02  2020-07-22            0.320   \n",
       "11         Transportation  2019-01-02  2020-07-22            0.080   \n",
       "\n",
       "    Maximum Opening  Average Opening  Minimum Closing  Maximum Closing  \\\n",
       "0      1.059990e+03        52.038395           0.1361     1.035830e+03   \n",
       "1      1.860000e+05       119.967633           0.0710     1.870000e+05   \n",
       "2      2.800000e+02        35.580777           0.3250     2.822200e+02   \n",
       "3      9.050000e+02        24.456590           0.0900     9.010400e+02   \n",
       "4      6.550000e+02        43.328603           0.1200     6.641300e+02   \n",
       "5      1.336930e+03        37.774667           0.2700     1.341080e+03   \n",
       "6      1.601682e+08    266410.354701           0.2300     1.583766e+08   \n",
       "7      4.025000e+03        60.488544           0.1200     4.037770e+03   \n",
       "8      2.704000e+03        49.516045           0.1300     2.736000e+03   \n",
       "9      1.543750e+04        55.078867           0.1340     1.984375e+04   \n",
       "10     1.117188e+05       391.031540           0.3100     1.187500e+05   \n",
       "11     2.744100e+02        37.305032           0.0800     2.740400e+02   \n",
       "\n",
       "    Average Closing  Minimum Adjusted Closing  Maximum Adjusted Closing  \\\n",
       "0         52.063629                  0.136100              1.035830e+03   \n",
       "1        119.078061                  0.071000              1.870000e+05   \n",
       "2         35.585282                  0.325000              2.806739e+02   \n",
       "3         24.427350                  0.090000              8.790570e+02   \n",
       "4         43.330386                  0.120000              6.641300e+02   \n",
       "5         37.779002                  0.270000              1.341080e+03   \n",
       "6     265750.361367                  0.230000              1.572494e+08   \n",
       "7         60.516555                 -1.230099              4.037770e+03   \n",
       "8         49.534799                  0.130000              2.736000e+03   \n",
       "9         55.055248                  0.134000              1.984375e+04   \n",
       "10       390.104155                  0.310000              1.187500e+05   \n",
       "11        37.295327                  0.080000              2.740400e+02   \n",
       "\n",
       "    Average Adjusted Closing  \n",
       "0                  51.809730  \n",
       "1                 118.973948  \n",
       "2                  34.730156  \n",
       "3                  23.684714  \n",
       "4                  42.817625  \n",
       "5                  37.100285  \n",
       "6              263865.510703  \n",
       "7                  59.975123  \n",
       "8                  49.252340  \n",
       "9                  54.361878  \n",
       "10                389.641764  \n",
       "11                 36.802319  "
      ]
     },
     "execution_count": 67,
     "metadata": {},
     "output_type": "execute_result"
    }
   ],
   "source": [
    "df.toPandas()"
   ]
  },
  {
   "cell_type": "markdown",
   "metadata": {},
   "source": [
    "### Filter & groupBy"
   ]
  },
  {
   "cell_type": "code",
   "execution_count": 68,
   "metadata": {},
   "outputs": [
    {
     "name": "stdout",
     "output_type": "stream",
     "text": [
      "+---------------------+----------+----------+---------------+---------------+------------------+---------------+---------------+------------------+------------------------+------------------------+------------------------+\n",
      "|sector               |From      |To        |Minimum Opening|Maximum Opening|Average Opening   |Minimum Closing|Maximum Closing|Average Closing   |Minimum Adjusted Closing|Maximum Adjusted Closing|Average Adjusted Closing|\n",
      "+---------------------+----------+----------+---------------+---------------+------------------+---------------+---------------+------------------+------------------------+------------------------+------------------------+\n",
      "|Miscellaneous        |2019-01-02|2020-01-31|0.16           |690.0          |51.51619596530091 |0.16           |691.099976     |51.54953412269035 |0.16                    |691.099976              |51.210507338518944      |\n",
      "|Health Care          |2019-01-02|2020-01-31|0.072          |186000.0       |146.7756197567625 |0.071          |187000.0       |145.63974140826113|0.071                   |187000.0                |145.50092663131542      |\n",
      "|Public Utilities     |2019-01-02|2020-01-31|0.62           |269.459991     |36.6710418271084  |0.66           |269.929993     |36.68433434934582 |0.66                    |267.056549              |35.55794068386672       |\n",
      "|Energy               |2019-01-02|2020-01-31|0.13           |905.0          |27.695591382025942|0.13           |901.039978     |27.676750848215494|0.13                    |879.057007              |26.67510896754191       |\n",
      "|Consumer Non-Durables|2019-01-02|2020-01-31|0.22           |441.190002     |44.687031798374335|0.22           |441.26001      |44.69028854823987 |0.22                    |441.26001               |44.00786604732128       |\n",
      "|Finance              |2019-01-02|2020-01-31|0.284          |1199.030029    |40.30497973017921 |0.27           |1196.22998     |40.33061743018029 |0.27                    |1196.22998              |39.414088188549265      |\n",
      "|Basic Industries     |2019-01-02|2020-01-31|0.277          |1.60168176E8   |334814.23540859646|0.272          |1.58376592E8   |334289.2550689392 |0.272                   |1.57249392E8            |331916.39261538134      |\n",
      "|Capital Goods        |2019-01-02|2020-01-31|0.21           |4025.0         |61.47928347274464 |0.22           |4030.0         |61.526343209089816|-1.022682               |4030.0                  |60.79992564173734       |\n",
      "|Tecnología           |2019-01-02|2020-01-31|0.14           |2704.0         |49.63989857764492 |0.13           |2736.0         |49.64697306066013 |0.13                    |2736.0                  |49.271465831557926      |\n",
      "|Consumer Services    |2019-01-02|2020-01-31|0.21           |15437.5        |58.505705124586655|0.201          |19843.75       |58.49787065225789 |0.201                   |19843.75                |57.569266263880905      |\n",
      "|Consumer Durables    |2019-01-02|2020-01-31|0.32           |106250.0       |439.96307151506295|0.31           |103906.25      |436.78385305589023|0.31                    |103906.25               |436.1655366019182       |\n",
      "|Transportation       |2019-01-02|2020-01-31|0.61           |268.190002     |39.51409811152554 |0.63           |269.630005     |39.5282976100228  |0.63                    |267.881714              |38.86532091563168       |\n",
      "+---------------------+----------+----------+---------------+---------------+------------------+---------------+---------------+------------------+------------------------+------------------------+------------------------+\n",
      "\n"
     ]
    }
   ],
   "source": [
    "df = data.filter( (data['date'] >= '2019-01-02')&(data['date'] <= '2020-01-31') ).groupBy(\"sector\")\\\n",
    "    .agg(\n",
    "        min(\"date\").alias(\"From\"), \n",
    "        max(\"date\").alias(\"To\"),\n",
    "        \n",
    "        min(\"open\").alias(\"Minimum Opening\"),\n",
    "        max(\"open\").alias(\"Maximum Opening\"),\n",
    "        avg(\"open\").alias(\"Average Opening\"), \n",
    "\n",
    "        min(\"close\").alias(\"Minimum Closing\"), \n",
    "        max(\"close\").alias(\"Maximum Closing\"),\n",
    "        avg(\"close\").alias(\"Average Closing\"), \n",
    "\n",
    "        min(\"adjusted\").alias(\"Minimum Adjusted Closing\"), \n",
    "        max(\"adjusted\").alias(\"Maximum Adjusted Closing\"),\n",
    "        avg(\"adjusted\").alias(\"Average Adjusted Closing\")\n",
    ")\n",
    "\n",
    "df.show( truncate=False )"
   ]
  },
  {
   "cell_type": "code",
   "execution_count": 69,
   "metadata": {},
   "outputs": [
    {
     "data": {
      "text/html": [
       "<div>\n",
       "<style scoped>\n",
       "    .dataframe tbody tr th:only-of-type {\n",
       "        vertical-align: middle;\n",
       "    }\n",
       "\n",
       "    .dataframe tbody tr th {\n",
       "        vertical-align: top;\n",
       "    }\n",
       "\n",
       "    .dataframe thead th {\n",
       "        text-align: right;\n",
       "    }\n",
       "</style>\n",
       "<table border=\"1\" class=\"dataframe\">\n",
       "  <thead>\n",
       "    <tr style=\"text-align: right;\">\n",
       "      <th></th>\n",
       "      <th>sector</th>\n",
       "      <th>From</th>\n",
       "      <th>To</th>\n",
       "      <th>Minimum Opening</th>\n",
       "      <th>Maximum Opening</th>\n",
       "      <th>Average Opening</th>\n",
       "      <th>Minimum Closing</th>\n",
       "      <th>Maximum Closing</th>\n",
       "      <th>Average Closing</th>\n",
       "      <th>Minimum Adjusted Closing</th>\n",
       "      <th>Maximum Adjusted Closing</th>\n",
       "      <th>Average Adjusted Closing</th>\n",
       "    </tr>\n",
       "  </thead>\n",
       "  <tbody>\n",
       "    <tr>\n",
       "      <th>0</th>\n",
       "      <td>Miscellaneous</td>\n",
       "      <td>2019-01-02</td>\n",
       "      <td>2020-01-31</td>\n",
       "      <td>0.160</td>\n",
       "      <td>6.900000e+02</td>\n",
       "      <td>51.516196</td>\n",
       "      <td>0.160</td>\n",
       "      <td>6.911000e+02</td>\n",
       "      <td>51.549534</td>\n",
       "      <td>0.160000</td>\n",
       "      <td>6.911000e+02</td>\n",
       "      <td>51.210507</td>\n",
       "    </tr>\n",
       "    <tr>\n",
       "      <th>1</th>\n",
       "      <td>Health Care</td>\n",
       "      <td>2019-01-02</td>\n",
       "      <td>2020-01-31</td>\n",
       "      <td>0.072</td>\n",
       "      <td>1.860000e+05</td>\n",
       "      <td>146.775620</td>\n",
       "      <td>0.071</td>\n",
       "      <td>1.870000e+05</td>\n",
       "      <td>145.639741</td>\n",
       "      <td>0.071000</td>\n",
       "      <td>1.870000e+05</td>\n",
       "      <td>145.500927</td>\n",
       "    </tr>\n",
       "    <tr>\n",
       "      <th>2</th>\n",
       "      <td>Public Utilities</td>\n",
       "      <td>2019-01-02</td>\n",
       "      <td>2020-01-31</td>\n",
       "      <td>0.620</td>\n",
       "      <td>2.694600e+02</td>\n",
       "      <td>36.671042</td>\n",
       "      <td>0.660</td>\n",
       "      <td>2.699300e+02</td>\n",
       "      <td>36.684334</td>\n",
       "      <td>0.660000</td>\n",
       "      <td>2.670565e+02</td>\n",
       "      <td>35.557941</td>\n",
       "    </tr>\n",
       "    <tr>\n",
       "      <th>3</th>\n",
       "      <td>Energy</td>\n",
       "      <td>2019-01-02</td>\n",
       "      <td>2020-01-31</td>\n",
       "      <td>0.130</td>\n",
       "      <td>9.050000e+02</td>\n",
       "      <td>27.695591</td>\n",
       "      <td>0.130</td>\n",
       "      <td>9.010400e+02</td>\n",
       "      <td>27.676751</td>\n",
       "      <td>0.130000</td>\n",
       "      <td>8.790570e+02</td>\n",
       "      <td>26.675109</td>\n",
       "    </tr>\n",
       "    <tr>\n",
       "      <th>4</th>\n",
       "      <td>Consumer Non-Durables</td>\n",
       "      <td>2019-01-02</td>\n",
       "      <td>2020-01-31</td>\n",
       "      <td>0.220</td>\n",
       "      <td>4.411900e+02</td>\n",
       "      <td>44.687032</td>\n",
       "      <td>0.220</td>\n",
       "      <td>4.412600e+02</td>\n",
       "      <td>44.690289</td>\n",
       "      <td>0.220000</td>\n",
       "      <td>4.412600e+02</td>\n",
       "      <td>44.007866</td>\n",
       "    </tr>\n",
       "    <tr>\n",
       "      <th>5</th>\n",
       "      <td>Finance</td>\n",
       "      <td>2019-01-02</td>\n",
       "      <td>2020-01-31</td>\n",
       "      <td>0.284</td>\n",
       "      <td>1.199030e+03</td>\n",
       "      <td>40.304980</td>\n",
       "      <td>0.270</td>\n",
       "      <td>1.196230e+03</td>\n",
       "      <td>40.330617</td>\n",
       "      <td>0.270000</td>\n",
       "      <td>1.196230e+03</td>\n",
       "      <td>39.414088</td>\n",
       "    </tr>\n",
       "    <tr>\n",
       "      <th>6</th>\n",
       "      <td>Basic Industries</td>\n",
       "      <td>2019-01-02</td>\n",
       "      <td>2020-01-31</td>\n",
       "      <td>0.277</td>\n",
       "      <td>1.601682e+08</td>\n",
       "      <td>334814.235409</td>\n",
       "      <td>0.272</td>\n",
       "      <td>1.583766e+08</td>\n",
       "      <td>334289.255069</td>\n",
       "      <td>0.272000</td>\n",
       "      <td>1.572494e+08</td>\n",
       "      <td>331916.392615</td>\n",
       "    </tr>\n",
       "    <tr>\n",
       "      <th>7</th>\n",
       "      <td>Capital Goods</td>\n",
       "      <td>2019-01-02</td>\n",
       "      <td>2020-01-31</td>\n",
       "      <td>0.210</td>\n",
       "      <td>4.025000e+03</td>\n",
       "      <td>61.479283</td>\n",
       "      <td>0.220</td>\n",
       "      <td>4.030000e+03</td>\n",
       "      <td>61.526343</td>\n",
       "      <td>-1.022682</td>\n",
       "      <td>4.030000e+03</td>\n",
       "      <td>60.799926</td>\n",
       "    </tr>\n",
       "    <tr>\n",
       "      <th>8</th>\n",
       "      <td>Tecnología</td>\n",
       "      <td>2019-01-02</td>\n",
       "      <td>2020-01-31</td>\n",
       "      <td>0.140</td>\n",
       "      <td>2.704000e+03</td>\n",
       "      <td>49.639899</td>\n",
       "      <td>0.130</td>\n",
       "      <td>2.736000e+03</td>\n",
       "      <td>49.646973</td>\n",
       "      <td>0.130000</td>\n",
       "      <td>2.736000e+03</td>\n",
       "      <td>49.271466</td>\n",
       "    </tr>\n",
       "    <tr>\n",
       "      <th>9</th>\n",
       "      <td>Consumer Services</td>\n",
       "      <td>2019-01-02</td>\n",
       "      <td>2020-01-31</td>\n",
       "      <td>0.210</td>\n",
       "      <td>1.543750e+04</td>\n",
       "      <td>58.505705</td>\n",
       "      <td>0.201</td>\n",
       "      <td>1.984375e+04</td>\n",
       "      <td>58.497871</td>\n",
       "      <td>0.201000</td>\n",
       "      <td>1.984375e+04</td>\n",
       "      <td>57.569266</td>\n",
       "    </tr>\n",
       "    <tr>\n",
       "      <th>10</th>\n",
       "      <td>Consumer Durables</td>\n",
       "      <td>2019-01-02</td>\n",
       "      <td>2020-01-31</td>\n",
       "      <td>0.320</td>\n",
       "      <td>1.062500e+05</td>\n",
       "      <td>439.963072</td>\n",
       "      <td>0.310</td>\n",
       "      <td>1.039062e+05</td>\n",
       "      <td>436.783853</td>\n",
       "      <td>0.310000</td>\n",
       "      <td>1.039062e+05</td>\n",
       "      <td>436.165537</td>\n",
       "    </tr>\n",
       "    <tr>\n",
       "      <th>11</th>\n",
       "      <td>Transportation</td>\n",
       "      <td>2019-01-02</td>\n",
       "      <td>2020-01-31</td>\n",
       "      <td>0.610</td>\n",
       "      <td>2.681900e+02</td>\n",
       "      <td>39.514098</td>\n",
       "      <td>0.630</td>\n",
       "      <td>2.696300e+02</td>\n",
       "      <td>39.528298</td>\n",
       "      <td>0.630000</td>\n",
       "      <td>2.678817e+02</td>\n",
       "      <td>38.865321</td>\n",
       "    </tr>\n",
       "  </tbody>\n",
       "</table>\n",
       "</div>"
      ],
      "text/plain": [
       "                   sector        From          To  Minimum Opening  \\\n",
       "0           Miscellaneous  2019-01-02  2020-01-31            0.160   \n",
       "1             Health Care  2019-01-02  2020-01-31            0.072   \n",
       "2        Public Utilities  2019-01-02  2020-01-31            0.620   \n",
       "3                  Energy  2019-01-02  2020-01-31            0.130   \n",
       "4   Consumer Non-Durables  2019-01-02  2020-01-31            0.220   \n",
       "5                 Finance  2019-01-02  2020-01-31            0.284   \n",
       "6        Basic Industries  2019-01-02  2020-01-31            0.277   \n",
       "7           Capital Goods  2019-01-02  2020-01-31            0.210   \n",
       "8              Tecnología  2019-01-02  2020-01-31            0.140   \n",
       "9       Consumer Services  2019-01-02  2020-01-31            0.210   \n",
       "10      Consumer Durables  2019-01-02  2020-01-31            0.320   \n",
       "11         Transportation  2019-01-02  2020-01-31            0.610   \n",
       "\n",
       "    Maximum Opening  Average Opening  Minimum Closing  Maximum Closing  \\\n",
       "0      6.900000e+02        51.516196            0.160     6.911000e+02   \n",
       "1      1.860000e+05       146.775620            0.071     1.870000e+05   \n",
       "2      2.694600e+02        36.671042            0.660     2.699300e+02   \n",
       "3      9.050000e+02        27.695591            0.130     9.010400e+02   \n",
       "4      4.411900e+02        44.687032            0.220     4.412600e+02   \n",
       "5      1.199030e+03        40.304980            0.270     1.196230e+03   \n",
       "6      1.601682e+08    334814.235409            0.272     1.583766e+08   \n",
       "7      4.025000e+03        61.479283            0.220     4.030000e+03   \n",
       "8      2.704000e+03        49.639899            0.130     2.736000e+03   \n",
       "9      1.543750e+04        58.505705            0.201     1.984375e+04   \n",
       "10     1.062500e+05       439.963072            0.310     1.039062e+05   \n",
       "11     2.681900e+02        39.514098            0.630     2.696300e+02   \n",
       "\n",
       "    Average Closing  Minimum Adjusted Closing  Maximum Adjusted Closing  \\\n",
       "0         51.549534                  0.160000              6.911000e+02   \n",
       "1        145.639741                  0.071000              1.870000e+05   \n",
       "2         36.684334                  0.660000              2.670565e+02   \n",
       "3         27.676751                  0.130000              8.790570e+02   \n",
       "4         44.690289                  0.220000              4.412600e+02   \n",
       "5         40.330617                  0.270000              1.196230e+03   \n",
       "6     334289.255069                  0.272000              1.572494e+08   \n",
       "7         61.526343                 -1.022682              4.030000e+03   \n",
       "8         49.646973                  0.130000              2.736000e+03   \n",
       "9         58.497871                  0.201000              1.984375e+04   \n",
       "10       436.783853                  0.310000              1.039062e+05   \n",
       "11        39.528298                  0.630000              2.678817e+02   \n",
       "\n",
       "    Average Adjusted Closing  \n",
       "0                  51.210507  \n",
       "1                 145.500927  \n",
       "2                  35.557941  \n",
       "3                  26.675109  \n",
       "4                  44.007866  \n",
       "5                  39.414088  \n",
       "6              331916.392615  \n",
       "7                  60.799926  \n",
       "8                  49.271466  \n",
       "9                  57.569266  \n",
       "10                436.165537  \n",
       "11                 38.865321  "
      ]
     },
     "execution_count": 69,
     "metadata": {},
     "output_type": "execute_result"
    }
   ],
   "source": [
    "df.toPandas()"
   ]
  },
  {
   "cell_type": "markdown",
   "metadata": {},
   "source": [
    "## Visualización gráfica de datos\n",
    "\n",
    "Para graficar datos de Spark, es necesario pasarlos a Pandas mediante el método `toPandas()`.\n",
    "\n",
    "Debemos tener cuidado ya que Pandas se puede saturar con los datos de Spark, por dicha razón se recomienda convertir a DataFrames de Pandas cuando se ya se han reducido Datos de Spark, por ejemplo, si tenemos registros diarios en Spark, podemos reducirlos a registros mensuales y pasarlos a Pandas.\n",
    "\n",
    "En los siguientes ejemplos, agruparemos con respecto a la columna \"sector\" y \"exchange\", que son las que tienen el menor número de clases."
   ]
  },
  {
   "cell_type": "code",
   "execution_count": 70,
   "metadata": {},
   "outputs": [
    {
     "name": "stdout",
     "output_type": "stream",
     "text": [
      "+------+----+------+--------+--------+\n",
      "|symbol|date|sector|industry|exchange|\n",
      "+------+----+------+--------+--------+\n",
      "|  4611| 392|    12|     135|       2|\n",
      "+------+----+------+--------+--------+\n",
      "\n"
     ]
    }
   ],
   "source": [
    "from pyspark.sql.functions import countDistinct, col\n",
    "\n",
    "selected_cols = [\"symbol\", \"date\", \"sector\" , \"industry\" , \"exchange\"]\n",
    "data.select( [ countDistinct( col(c) ).alias(c) for c in selected_cols ] ).show()"
   ]
  },
  {
   "cell_type": "code",
   "execution_count": 71,
   "metadata": {},
   "outputs": [
    {
     "data": {
      "text/html": [
       "<div>\n",
       "<style scoped>\n",
       "    .dataframe tbody tr th:only-of-type {\n",
       "        vertical-align: middle;\n",
       "    }\n",
       "\n",
       "    .dataframe tbody tr th {\n",
       "        vertical-align: top;\n",
       "    }\n",
       "\n",
       "    .dataframe thead th {\n",
       "        text-align: right;\n",
       "    }\n",
       "</style>\n",
       "<table border=\"1\" class=\"dataframe\">\n",
       "  <thead>\n",
       "    <tr style=\"text-align: right;\">\n",
       "      <th></th>\n",
       "      <th>exchange</th>\n",
       "      <th>sector</th>\n",
       "      <th>count</th>\n",
       "    </tr>\n",
       "  </thead>\n",
       "  <tbody>\n",
       "    <tr>\n",
       "      <th>0</th>\n",
       "      <td>NASDAQ</td>\n",
       "      <td>Energy</td>\n",
       "      <td>21375</td>\n",
       "    </tr>\n",
       "    <tr>\n",
       "      <th>1</th>\n",
       "      <td>NASDAQ</td>\n",
       "      <td>Consumer Non-Durables</td>\n",
       "      <td>38596</td>\n",
       "    </tr>\n",
       "    <tr>\n",
       "      <th>2</th>\n",
       "      <td>NASDAQ</td>\n",
       "      <td>Consumer Services</td>\n",
       "      <td>116101</td>\n",
       "    </tr>\n",
       "    <tr>\n",
       "      <th>3</th>\n",
       "      <td>NASDAQ</td>\n",
       "      <td>Transportation</td>\n",
       "      <td>18966</td>\n",
       "    </tr>\n",
       "    <tr>\n",
       "      <th>4</th>\n",
       "      <td>NASDAQ</td>\n",
       "      <td>Tecnología</td>\n",
       "      <td>164686</td>\n",
       "    </tr>\n",
       "    <tr>\n",
       "      <th>5</th>\n",
       "      <td>NASDAQ</td>\n",
       "      <td>Miscellaneous</td>\n",
       "      <td>32052</td>\n",
       "    </tr>\n",
       "    <tr>\n",
       "      <th>6</th>\n",
       "      <td>NASDAQ</td>\n",
       "      <td>Capital Goods</td>\n",
       "      <td>64405</td>\n",
       "    </tr>\n",
       "    <tr>\n",
       "      <th>7</th>\n",
       "      <td>NASDAQ</td>\n",
       "      <td>Health Care</td>\n",
       "      <td>276610</td>\n",
       "    </tr>\n",
       "    <tr>\n",
       "      <th>8</th>\n",
       "      <td>NASDAQ</td>\n",
       "      <td>Consumer Durables</td>\n",
       "      <td>24504</td>\n",
       "    </tr>\n",
       "    <tr>\n",
       "      <th>9</th>\n",
       "      <td>NASDAQ</td>\n",
       "      <td>Finance</td>\n",
       "      <td>192744</td>\n",
       "    </tr>\n",
       "    <tr>\n",
       "      <th>10</th>\n",
       "      <td>NASDAQ</td>\n",
       "      <td>Public Utilities</td>\n",
       "      <td>20663</td>\n",
       "    </tr>\n",
       "    <tr>\n",
       "      <th>11</th>\n",
       "      <td>NASDAQ</td>\n",
       "      <td>Basic Industries</td>\n",
       "      <td>27891</td>\n",
       "    </tr>\n",
       "    <tr>\n",
       "      <th>12</th>\n",
       "      <td>NYSE</td>\n",
       "      <td>Tecnología</td>\n",
       "      <td>64682</td>\n",
       "    </tr>\n",
       "    <tr>\n",
       "      <th>13</th>\n",
       "      <td>NYSE</td>\n",
       "      <td>Consumer Non-Durables</td>\n",
       "      <td>39376</td>\n",
       "    </tr>\n",
       "    <tr>\n",
       "      <th>14</th>\n",
       "      <td>NYSE</td>\n",
       "      <td>Public Utilities</td>\n",
       "      <td>52173</td>\n",
       "    </tr>\n",
       "    <tr>\n",
       "      <th>15</th>\n",
       "      <td>NYSE</td>\n",
       "      <td>Capital Goods</td>\n",
       "      <td>68312</td>\n",
       "    </tr>\n",
       "    <tr>\n",
       "      <th>16</th>\n",
       "      <td>NYSE</td>\n",
       "      <td>Energy</td>\n",
       "      <td>66119</td>\n",
       "    </tr>\n",
       "    <tr>\n",
       "      <th>17</th>\n",
       "      <td>NYSE</td>\n",
       "      <td>Finance</td>\n",
       "      <td>109879</td>\n",
       "    </tr>\n",
       "    <tr>\n",
       "      <th>18</th>\n",
       "      <td>NYSE</td>\n",
       "      <td>Health Care</td>\n",
       "      <td>39000</td>\n",
       "    </tr>\n",
       "    <tr>\n",
       "      <th>19</th>\n",
       "      <td>NYSE</td>\n",
       "      <td>Consumer Services</td>\n",
       "      <td>155987</td>\n",
       "    </tr>\n",
       "    <tr>\n",
       "      <th>20</th>\n",
       "      <td>NYSE</td>\n",
       "      <td>Basic Industries</td>\n",
       "      <td>69330</td>\n",
       "    </tr>\n",
       "    <tr>\n",
       "      <th>21</th>\n",
       "      <td>NYSE</td>\n",
       "      <td>Transportation</td>\n",
       "      <td>20830</td>\n",
       "    </tr>\n",
       "    <tr>\n",
       "      <th>22</th>\n",
       "      <td>NYSE</td>\n",
       "      <td>Consumer Durables</td>\n",
       "      <td>23900</td>\n",
       "    </tr>\n",
       "    <tr>\n",
       "      <th>23</th>\n",
       "      <td>NYSE</td>\n",
       "      <td>Miscellaneous</td>\n",
       "      <td>18120</td>\n",
       "    </tr>\n",
       "  </tbody>\n",
       "</table>\n",
       "</div>"
      ],
      "text/plain": [
       "   exchange                 sector   count\n",
       "0    NASDAQ                 Energy   21375\n",
       "1    NASDAQ  Consumer Non-Durables   38596\n",
       "2    NASDAQ      Consumer Services  116101\n",
       "3    NASDAQ         Transportation   18966\n",
       "4    NASDAQ             Tecnología  164686\n",
       "5    NASDAQ          Miscellaneous   32052\n",
       "6    NASDAQ          Capital Goods   64405\n",
       "7    NASDAQ            Health Care  276610\n",
       "8    NASDAQ      Consumer Durables   24504\n",
       "9    NASDAQ                Finance  192744\n",
       "10   NASDAQ       Public Utilities   20663\n",
       "11   NASDAQ       Basic Industries   27891\n",
       "12     NYSE             Tecnología   64682\n",
       "13     NYSE  Consumer Non-Durables   39376\n",
       "14     NYSE       Public Utilities   52173\n",
       "15     NYSE          Capital Goods   68312\n",
       "16     NYSE                 Energy   66119\n",
       "17     NYSE                Finance  109879\n",
       "18     NYSE            Health Care   39000\n",
       "19     NYSE      Consumer Services  155987\n",
       "20     NYSE       Basic Industries   69330\n",
       "21     NYSE         Transportation   20830\n",
       "22     NYSE      Consumer Durables   23900\n",
       "23     NYSE          Miscellaneous   18120"
      ]
     },
     "execution_count": 71,
     "metadata": {},
     "output_type": "execute_result"
    }
   ],
   "source": [
    "ex_df = data.groupby( \"exchange\" , \"sector\" ).count().toPandas()\n",
    "ex_df"
   ]
  },
  {
   "cell_type": "code",
   "execution_count": 72,
   "metadata": {},
   "outputs": [
    {
     "data": {
      "text/html": [
       "<div>\n",
       "<style scoped>\n",
       "    .dataframe tbody tr th:only-of-type {\n",
       "        vertical-align: middle;\n",
       "    }\n",
       "\n",
       "    .dataframe tbody tr th {\n",
       "        vertical-align: top;\n",
       "    }\n",
       "\n",
       "    .dataframe thead th {\n",
       "        text-align: right;\n",
       "    }\n",
       "</style>\n",
       "<table border=\"1\" class=\"dataframe\">\n",
       "  <thead>\n",
       "    <tr style=\"text-align: right;\">\n",
       "      <th></th>\n",
       "      <th>exchange</th>\n",
       "      <th>sector</th>\n",
       "      <th>count</th>\n",
       "    </tr>\n",
       "  </thead>\n",
       "  <tbody>\n",
       "    <tr>\n",
       "      <th>3</th>\n",
       "      <td>NASDAQ</td>\n",
       "      <td>Transportation</td>\n",
       "      <td>18966</td>\n",
       "    </tr>\n",
       "    <tr>\n",
       "      <th>4</th>\n",
       "      <td>NASDAQ</td>\n",
       "      <td>Tecnología</td>\n",
       "      <td>164686</td>\n",
       "    </tr>\n",
       "    <tr>\n",
       "      <th>10</th>\n",
       "      <td>NASDAQ</td>\n",
       "      <td>Public Utilities</td>\n",
       "      <td>20663</td>\n",
       "    </tr>\n",
       "    <tr>\n",
       "      <th>5</th>\n",
       "      <td>NASDAQ</td>\n",
       "      <td>Miscellaneous</td>\n",
       "      <td>32052</td>\n",
       "    </tr>\n",
       "    <tr>\n",
       "      <th>7</th>\n",
       "      <td>NASDAQ</td>\n",
       "      <td>Health Care</td>\n",
       "      <td>276610</td>\n",
       "    </tr>\n",
       "    <tr>\n",
       "      <th>9</th>\n",
       "      <td>NASDAQ</td>\n",
       "      <td>Finance</td>\n",
       "      <td>192744</td>\n",
       "    </tr>\n",
       "    <tr>\n",
       "      <th>0</th>\n",
       "      <td>NASDAQ</td>\n",
       "      <td>Energy</td>\n",
       "      <td>21375</td>\n",
       "    </tr>\n",
       "    <tr>\n",
       "      <th>2</th>\n",
       "      <td>NASDAQ</td>\n",
       "      <td>Consumer Services</td>\n",
       "      <td>116101</td>\n",
       "    </tr>\n",
       "    <tr>\n",
       "      <th>1</th>\n",
       "      <td>NASDAQ</td>\n",
       "      <td>Consumer Non-Durables</td>\n",
       "      <td>38596</td>\n",
       "    </tr>\n",
       "    <tr>\n",
       "      <th>8</th>\n",
       "      <td>NASDAQ</td>\n",
       "      <td>Consumer Durables</td>\n",
       "      <td>24504</td>\n",
       "    </tr>\n",
       "    <tr>\n",
       "      <th>6</th>\n",
       "      <td>NASDAQ</td>\n",
       "      <td>Capital Goods</td>\n",
       "      <td>64405</td>\n",
       "    </tr>\n",
       "    <tr>\n",
       "      <th>11</th>\n",
       "      <td>NASDAQ</td>\n",
       "      <td>Basic Industries</td>\n",
       "      <td>27891</td>\n",
       "    </tr>\n",
       "  </tbody>\n",
       "</table>\n",
       "</div>"
      ],
      "text/plain": [
       "   exchange                 sector   count\n",
       "3    NASDAQ         Transportation   18966\n",
       "4    NASDAQ             Tecnología  164686\n",
       "10   NASDAQ       Public Utilities   20663\n",
       "5    NASDAQ          Miscellaneous   32052\n",
       "7    NASDAQ            Health Care  276610\n",
       "9    NASDAQ                Finance  192744\n",
       "0    NASDAQ                 Energy   21375\n",
       "2    NASDAQ      Consumer Services  116101\n",
       "1    NASDAQ  Consumer Non-Durables   38596\n",
       "8    NASDAQ      Consumer Durables   24504\n",
       "6    NASDAQ          Capital Goods   64405\n",
       "11   NASDAQ       Basic Industries   27891"
      ]
     },
     "execution_count": 72,
     "metadata": {},
     "output_type": "execute_result"
    }
   ],
   "source": [
    "ex_df_NASDAQ = ex_df[ ex_df['exchange']=='NASDAQ' ].sort_values('sector', ascending = False)\n",
    "ex_df_NASDAQ\n"
   ]
  },
  {
   "cell_type": "code",
   "execution_count": 73,
   "metadata": {},
   "outputs": [
    {
     "data": {
      "text/html": [
       "<div>\n",
       "<style scoped>\n",
       "    .dataframe tbody tr th:only-of-type {\n",
       "        vertical-align: middle;\n",
       "    }\n",
       "\n",
       "    .dataframe tbody tr th {\n",
       "        vertical-align: top;\n",
       "    }\n",
       "\n",
       "    .dataframe thead th {\n",
       "        text-align: right;\n",
       "    }\n",
       "</style>\n",
       "<table border=\"1\" class=\"dataframe\">\n",
       "  <thead>\n",
       "    <tr style=\"text-align: right;\">\n",
       "      <th></th>\n",
       "      <th>exchange</th>\n",
       "      <th>sector</th>\n",
       "      <th>count</th>\n",
       "    </tr>\n",
       "  </thead>\n",
       "  <tbody>\n",
       "    <tr>\n",
       "      <th>21</th>\n",
       "      <td>NYSE</td>\n",
       "      <td>Transportation</td>\n",
       "      <td>20830</td>\n",
       "    </tr>\n",
       "    <tr>\n",
       "      <th>12</th>\n",
       "      <td>NYSE</td>\n",
       "      <td>Tecnología</td>\n",
       "      <td>64682</td>\n",
       "    </tr>\n",
       "    <tr>\n",
       "      <th>14</th>\n",
       "      <td>NYSE</td>\n",
       "      <td>Public Utilities</td>\n",
       "      <td>52173</td>\n",
       "    </tr>\n",
       "    <tr>\n",
       "      <th>23</th>\n",
       "      <td>NYSE</td>\n",
       "      <td>Miscellaneous</td>\n",
       "      <td>18120</td>\n",
       "    </tr>\n",
       "    <tr>\n",
       "      <th>18</th>\n",
       "      <td>NYSE</td>\n",
       "      <td>Health Care</td>\n",
       "      <td>39000</td>\n",
       "    </tr>\n",
       "    <tr>\n",
       "      <th>17</th>\n",
       "      <td>NYSE</td>\n",
       "      <td>Finance</td>\n",
       "      <td>109879</td>\n",
       "    </tr>\n",
       "    <tr>\n",
       "      <th>16</th>\n",
       "      <td>NYSE</td>\n",
       "      <td>Energy</td>\n",
       "      <td>66119</td>\n",
       "    </tr>\n",
       "    <tr>\n",
       "      <th>19</th>\n",
       "      <td>NYSE</td>\n",
       "      <td>Consumer Services</td>\n",
       "      <td>155987</td>\n",
       "    </tr>\n",
       "    <tr>\n",
       "      <th>13</th>\n",
       "      <td>NYSE</td>\n",
       "      <td>Consumer Non-Durables</td>\n",
       "      <td>39376</td>\n",
       "    </tr>\n",
       "    <tr>\n",
       "      <th>22</th>\n",
       "      <td>NYSE</td>\n",
       "      <td>Consumer Durables</td>\n",
       "      <td>23900</td>\n",
       "    </tr>\n",
       "    <tr>\n",
       "      <th>15</th>\n",
       "      <td>NYSE</td>\n",
       "      <td>Capital Goods</td>\n",
       "      <td>68312</td>\n",
       "    </tr>\n",
       "    <tr>\n",
       "      <th>20</th>\n",
       "      <td>NYSE</td>\n",
       "      <td>Basic Industries</td>\n",
       "      <td>69330</td>\n",
       "    </tr>\n",
       "  </tbody>\n",
       "</table>\n",
       "</div>"
      ],
      "text/plain": [
       "   exchange                 sector   count\n",
       "21     NYSE         Transportation   20830\n",
       "12     NYSE             Tecnología   64682\n",
       "14     NYSE       Public Utilities   52173\n",
       "23     NYSE          Miscellaneous   18120\n",
       "18     NYSE            Health Care   39000\n",
       "17     NYSE                Finance  109879\n",
       "16     NYSE                 Energy   66119\n",
       "19     NYSE      Consumer Services  155987\n",
       "13     NYSE  Consumer Non-Durables   39376\n",
       "22     NYSE      Consumer Durables   23900\n",
       "15     NYSE          Capital Goods   68312\n",
       "20     NYSE       Basic Industries   69330"
      ]
     },
     "execution_count": 73,
     "metadata": {},
     "output_type": "execute_result"
    }
   ],
   "source": [
    "ex_df_NYSE = ex_df[ ex_df['exchange']=='NYSE' ].sort_values('sector', ascending = False)\n",
    "ex_df_NYSE"
   ]
  },
  {
   "cell_type": "code",
   "execution_count": 74,
   "metadata": {},
   "outputs": [
    {
     "data": {
      "image/png": "[encoded data removed]",
      "text/plain": [
       "<Figure size 864x432 with 1 Axes>"
      ]
     },
     "metadata": {
      "needs_background": "light"
     },
     "output_type": "display_data"
    }
   ],
   "source": [
    "plt.figure(figsize=(12,6))\n",
    "plt.bar( ex_df_NASDAQ['sector'] , ex_df_NASDAQ[\"count\"], color='skyblue' , label='NASDAQ', alpha=0.8)\n",
    "plt.plot( ex_df_NYSE['sector'] , ex_df_NYSE[\"count\"] , 'o-' , color = 'red', label = 'NYSE')\n",
    "plt.xticks(rotation=80)\n",
    "plt.xlabel('Sector')\n",
    "plt.ylabel('Conteo')\n",
    "plt.legend()\n",
    "plt.show()"
   ]
  },
  {
   "cell_type": "code",
   "execution_count": 75,
   "metadata": {},
   "outputs": [
    {
     "data": {
      "image/png": "[encoded data removed]",
      "text/plain": [
       "<Figure size 864x432 with 1 Axes>"
      ]
     },
     "metadata": {
      "needs_background": "light"
     },
     "output_type": "display_data"
    }
   ],
   "source": [
    "plt.figure(figsize=(12,6))\n",
    "plt.bar( ex_df_NASDAQ['sector'] , ex_df_NASDAQ[\"count\"], color='skyblue' , label='NASDAQ', alpha=0.8)\n",
    "plt.bar( ex_df_NYSE['sector'] , ex_df_NYSE[\"count\"] , color = 'red', label = 'NYSE', alpha=0.4)\n",
    "plt.xticks(rotation=80)\n",
    "plt.xlabel('Sector')\n",
    "plt.ylabel('Conteo')\n",
    "plt.legend()\n",
    "plt.show()"
   ]
  },
  {
   "cell_type": "code",
   "execution_count": 76,
   "metadata": {},
   "outputs": [
    {
     "data": {
      "text/html": [
       "<div>\n",
       "<style scoped>\n",
       "    .dataframe tbody tr th:only-of-type {\n",
       "        vertical-align: middle;\n",
       "    }\n",
       "\n",
       "    .dataframe tbody tr th {\n",
       "        vertical-align: top;\n",
       "    }\n",
       "\n",
       "    .dataframe thead th {\n",
       "        text-align: right;\n",
       "    }\n",
       "</style>\n",
       "<table border=\"1\" class=\"dataframe\">\n",
       "  <thead>\n",
       "    <tr style=\"text-align: right;\">\n",
       "      <th></th>\n",
       "      <th>sector</th>\n",
       "      <th>avg(open)</th>\n",
       "      <th>avg(close)</th>\n",
       "      <th>avg(adjusted)</th>\n",
       "    </tr>\n",
       "  </thead>\n",
       "  <tbody>\n",
       "    <tr>\n",
       "      <th>0</th>\n",
       "      <td>Miscellaneous</td>\n",
       "      <td>52.038395</td>\n",
       "      <td>52.063629</td>\n",
       "      <td>51.809730</td>\n",
       "    </tr>\n",
       "    <tr>\n",
       "      <th>1</th>\n",
       "      <td>Health Care</td>\n",
       "      <td>119.967633</td>\n",
       "      <td>119.078061</td>\n",
       "      <td>118.973948</td>\n",
       "    </tr>\n",
       "    <tr>\n",
       "      <th>2</th>\n",
       "      <td>Public Utilities</td>\n",
       "      <td>35.580777</td>\n",
       "      <td>35.585282</td>\n",
       "      <td>34.730156</td>\n",
       "    </tr>\n",
       "    <tr>\n",
       "      <th>3</th>\n",
       "      <td>Energy</td>\n",
       "      <td>24.456590</td>\n",
       "      <td>24.427350</td>\n",
       "      <td>23.684714</td>\n",
       "    </tr>\n",
       "    <tr>\n",
       "      <th>4</th>\n",
       "      <td>Consumer Non-Durables</td>\n",
       "      <td>43.328603</td>\n",
       "      <td>43.330386</td>\n",
       "      <td>42.817625</td>\n",
       "    </tr>\n",
       "    <tr>\n",
       "      <th>5</th>\n",
       "      <td>Finance</td>\n",
       "      <td>37.774667</td>\n",
       "      <td>37.779002</td>\n",
       "      <td>37.100285</td>\n",
       "    </tr>\n",
       "    <tr>\n",
       "      <th>6</th>\n",
       "      <td>Basic Industries</td>\n",
       "      <td>266410.354701</td>\n",
       "      <td>265750.361367</td>\n",
       "      <td>263865.510703</td>\n",
       "    </tr>\n",
       "    <tr>\n",
       "      <th>7</th>\n",
       "      <td>Capital Goods</td>\n",
       "      <td>60.488544</td>\n",
       "      <td>60.516555</td>\n",
       "      <td>59.975123</td>\n",
       "    </tr>\n",
       "    <tr>\n",
       "      <th>8</th>\n",
       "      <td>Tecnología</td>\n",
       "      <td>49.516045</td>\n",
       "      <td>49.534799</td>\n",
       "      <td>49.252340</td>\n",
       "    </tr>\n",
       "    <tr>\n",
       "      <th>9</th>\n",
       "      <td>Consumer Services</td>\n",
       "      <td>55.078867</td>\n",
       "      <td>55.055248</td>\n",
       "      <td>54.361878</td>\n",
       "    </tr>\n",
       "    <tr>\n",
       "      <th>10</th>\n",
       "      <td>Consumer Durables</td>\n",
       "      <td>391.031540</td>\n",
       "      <td>390.104155</td>\n",
       "      <td>389.641764</td>\n",
       "    </tr>\n",
       "    <tr>\n",
       "      <th>11</th>\n",
       "      <td>Transportation</td>\n",
       "      <td>37.305032</td>\n",
       "      <td>37.295327</td>\n",
       "      <td>36.802319</td>\n",
       "    </tr>\n",
       "  </tbody>\n",
       "</table>\n",
       "</div>"
      ],
      "text/plain": [
       "                   sector      avg(open)     avg(close)  avg(adjusted)\n",
       "0           Miscellaneous      52.038395      52.063629      51.809730\n",
       "1             Health Care     119.967633     119.078061     118.973948\n",
       "2        Public Utilities      35.580777      35.585282      34.730156\n",
       "3                  Energy      24.456590      24.427350      23.684714\n",
       "4   Consumer Non-Durables      43.328603      43.330386      42.817625\n",
       "5                 Finance      37.774667      37.779002      37.100285\n",
       "6        Basic Industries  266410.354701  265750.361367  263865.510703\n",
       "7           Capital Goods      60.488544      60.516555      59.975123\n",
       "8              Tecnología      49.516045      49.534799      49.252340\n",
       "9       Consumer Services      55.078867      55.055248      54.361878\n",
       "10      Consumer Durables     391.031540     390.104155     389.641764\n",
       "11         Transportation      37.305032      37.295327      36.802319"
      ]
     },
     "execution_count": 76,
     "metadata": {},
     "output_type": "execute_result"
    }
   ],
   "source": [
    "sec_df = data.select( ['sector','open','close','adjusted'] ).groupBy('sector').mean().toPandas()\n",
    "sec_df"
   ]
  },
  {
   "cell_type": "code",
   "execution_count": 77,
   "metadata": {},
   "outputs": [
    {
     "data": {
      "text/plain": [
       "Index(['sector', 'avg(open)', 'avg(close)', 'avg(adjusted)'], dtype='object')"
      ]
     },
     "execution_count": 77,
     "metadata": {},
     "output_type": "execute_result"
    }
   ],
   "source": [
    "cols = sec_df.columns\n",
    "cols"
   ]
  },
  {
   "cell_type": "code",
   "execution_count": 78,
   "metadata": {},
   "outputs": [
    {
     "data": {
      "image/png": "[encoded data removed]",
      "text/plain": [
       "<Figure size 864x432 with 1 Axes>"
      ]
     },
     "metadata": {
      "needs_background": "light"
     },
     "output_type": "display_data"
    }
   ],
   "source": [
    "sec_df.plot( kind='bar', x=cols[0], y=cols[1:], rot=70, figsize=(12,6)  )\n",
    "plt.show()"
   ]
  },
  {
   "cell_type": "code",
   "execution_count": 79,
   "metadata": {},
   "outputs": [
    {
     "data": {
      "text/html": [
       "<div>\n",
       "<style scoped>\n",
       "    .dataframe tbody tr th:only-of-type {\n",
       "        vertical-align: middle;\n",
       "    }\n",
       "\n",
       "    .dataframe tbody tr th {\n",
       "        vertical-align: top;\n",
       "    }\n",
       "\n",
       "    .dataframe thead th {\n",
       "        text-align: right;\n",
       "    }\n",
       "</style>\n",
       "<table border=\"1\" class=\"dataframe\">\n",
       "  <thead>\n",
       "    <tr style=\"text-align: right;\">\n",
       "      <th></th>\n",
       "      <th>sector</th>\n",
       "      <th>avg(open)</th>\n",
       "      <th>avg(close)</th>\n",
       "      <th>avg(adjusted)</th>\n",
       "    </tr>\n",
       "  </thead>\n",
       "  <tbody>\n",
       "    <tr>\n",
       "      <th>0</th>\n",
       "      <td>Miscellaneous</td>\n",
       "      <td>52.038395</td>\n",
       "      <td>52.063629</td>\n",
       "      <td>51.809730</td>\n",
       "    </tr>\n",
       "    <tr>\n",
       "      <th>1</th>\n",
       "      <td>Health Care</td>\n",
       "      <td>119.967633</td>\n",
       "      <td>119.078061</td>\n",
       "      <td>118.973948</td>\n",
       "    </tr>\n",
       "    <tr>\n",
       "      <th>2</th>\n",
       "      <td>Public Utilities</td>\n",
       "      <td>35.580777</td>\n",
       "      <td>35.585282</td>\n",
       "      <td>34.730156</td>\n",
       "    </tr>\n",
       "    <tr>\n",
       "      <th>3</th>\n",
       "      <td>Energy</td>\n",
       "      <td>24.456590</td>\n",
       "      <td>24.427350</td>\n",
       "      <td>23.684714</td>\n",
       "    </tr>\n",
       "    <tr>\n",
       "      <th>4</th>\n",
       "      <td>Consumer Non-Durables</td>\n",
       "      <td>43.328603</td>\n",
       "      <td>43.330386</td>\n",
       "      <td>42.817625</td>\n",
       "    </tr>\n",
       "    <tr>\n",
       "      <th>5</th>\n",
       "      <td>Finance</td>\n",
       "      <td>37.774667</td>\n",
       "      <td>37.779002</td>\n",
       "      <td>37.100285</td>\n",
       "    </tr>\n",
       "    <tr>\n",
       "      <th>7</th>\n",
       "      <td>Capital Goods</td>\n",
       "      <td>60.488544</td>\n",
       "      <td>60.516555</td>\n",
       "      <td>59.975123</td>\n",
       "    </tr>\n",
       "    <tr>\n",
       "      <th>8</th>\n",
       "      <td>Tecnología</td>\n",
       "      <td>49.516045</td>\n",
       "      <td>49.534799</td>\n",
       "      <td>49.252340</td>\n",
       "    </tr>\n",
       "    <tr>\n",
       "      <th>9</th>\n",
       "      <td>Consumer Services</td>\n",
       "      <td>55.078867</td>\n",
       "      <td>55.055248</td>\n",
       "      <td>54.361878</td>\n",
       "    </tr>\n",
       "    <tr>\n",
       "      <th>10</th>\n",
       "      <td>Consumer Durables</td>\n",
       "      <td>391.031540</td>\n",
       "      <td>390.104155</td>\n",
       "      <td>389.641764</td>\n",
       "    </tr>\n",
       "    <tr>\n",
       "      <th>11</th>\n",
       "      <td>Transportation</td>\n",
       "      <td>37.305032</td>\n",
       "      <td>37.295327</td>\n",
       "      <td>36.802319</td>\n",
       "    </tr>\n",
       "  </tbody>\n",
       "</table>\n",
       "</div>"
      ],
      "text/plain": [
       "                   sector   avg(open)  avg(close)  avg(adjusted)\n",
       "0           Miscellaneous   52.038395   52.063629      51.809730\n",
       "1             Health Care  119.967633  119.078061     118.973948\n",
       "2        Public Utilities   35.580777   35.585282      34.730156\n",
       "3                  Energy   24.456590   24.427350      23.684714\n",
       "4   Consumer Non-Durables   43.328603   43.330386      42.817625\n",
       "5                 Finance   37.774667   37.779002      37.100285\n",
       "7           Capital Goods   60.488544   60.516555      59.975123\n",
       "8              Tecnología   49.516045   49.534799      49.252340\n",
       "9       Consumer Services   55.078867   55.055248      54.361878\n",
       "10      Consumer Durables  391.031540  390.104155     389.641764\n",
       "11         Transportation   37.305032   37.295327      36.802319"
      ]
     },
     "execution_count": 79,
     "metadata": {},
     "output_type": "execute_result"
    }
   ],
   "source": [
    "# Eliminamos los registros de \"Basic Industries\"\n",
    "sec_df2 = sec_df[ sec_df['sector']!='Basic Industries' ]\n",
    "sec_df2"
   ]
  },
  {
   "cell_type": "code",
   "execution_count": 80,
   "metadata": {},
   "outputs": [
    {
     "data": {
      "image/png": "[encoded data removed]",
      "text/plain": [
       "<Figure size 864x432 with 1 Axes>"
      ]
     },
     "metadata": {
      "needs_background": "light"
     },
     "output_type": "display_data"
    }
   ],
   "source": [
    "sec_df2.plot( kind='barh', x=cols[0], y=cols[1:], rot=0, figsize=(12,6) )\n",
    "plt.ylabel('Sector')\n",
    "plt.xlabel('Sector Price')\n",
    "plt.show()"
   ]
  },
  {
   "cell_type": "markdown",
   "metadata": {},
   "source": [
    "### Graficando series de tiempo"
   ]
  },
  {
   "cell_type": "code",
   "execution_count": 81,
   "metadata": {},
   "outputs": [
    {
     "name": "stdout",
     "output_type": "stream",
     "text": [
      "+----------+----+-----+--------+\n",
      "|      date|open|close|adjusted|\n",
      "+----------+----+-----+--------+\n",
      "|2019-01-02|8.51| 8.55|    8.55|\n",
      "|2019-01-03| 8.5| 8.59|    8.59|\n",
      "|2019-01-04|8.72| 8.88|    8.88|\n",
      "|2019-01-07|8.88| 8.86|    8.86|\n",
      "|2019-01-08|8.93|  9.4|     9.4|\n",
      "+----------+----+-----+--------+\n",
      "only showing top 5 rows\n",
      "\n"
     ]
    }
   ],
   "source": [
    "tech = data.where( data['sector']=='Tecnología' ).select(['date','open','close','adjusted'])\n",
    "# en vez de \"where\" también podemos usar \"filter\"\n",
    "\n",
    "tech.show(N)"
   ]
  },
  {
   "cell_type": "code",
   "execution_count": 82,
   "metadata": {},
   "outputs": [
    {
     "data": {
      "image/png": "[encoded data removed]",
      "text/plain": [
       "<Figure size 1080x216 with 1 Axes>"
      ]
     },
     "metadata": {
      "needs_background": "light"
     },
     "output_type": "display_data"
    },
    {
     "data": {
      "image/png": "[encoded data removed]",
      "text/plain": [
       "<Figure size 1080x216 with 1 Axes>"
      ]
     },
     "metadata": {
      "needs_background": "light"
     },
     "output_type": "display_data"
    },
    {
     "data": {
      "image/png": "[encoded data removed]",
      "text/plain": [
       "<Figure size 1080x216 with 1 Axes>"
      ]
     },
     "metadata": {
      "needs_background": "light"
     },
     "output_type": "display_data"
    }
   ],
   "source": [
    "largo = 15\n",
    "alto = 3\n",
    "\n",
    "tech.toPandas().plot(kind = 'line', x='date', y='open', figsize=(largo,alto), color='skyblue')\n",
    "plt.xlabel('Date range')\n",
    "plt.ylabel('Opening price')\n",
    "plt.show()\n",
    "\n",
    "tech.toPandas().plot(kind = 'line', x='date', y='close', figsize=(largo,alto), color='tomato')\n",
    "plt.xlabel('Date range')\n",
    "plt.ylabel('Closing price')\n",
    "plt.show()\n",
    "\n",
    "tech.toPandas().plot(kind = 'line', x='date', y='adjusted', figsize=(largo,alto), color='orange')\n",
    "plt.xlabel('Date range')\n",
    "plt.ylabel('Adjusted price')\n",
    "plt.show()"
   ]
  },
  {
   "cell_type": "code",
   "execution_count": 83,
   "metadata": {},
   "outputs": [
    {
     "data": {
      "text/html": [
       "<div>\n",
       "<style scoped>\n",
       "    .dataframe tbody tr th:only-of-type {\n",
       "        vertical-align: middle;\n",
       "    }\n",
       "\n",
       "    .dataframe tbody tr th {\n",
       "        vertical-align: top;\n",
       "    }\n",
       "\n",
       "    .dataframe thead th {\n",
       "        text-align: right;\n",
       "    }\n",
       "</style>\n",
       "<table border=\"1\" class=\"dataframe\">\n",
       "  <thead>\n",
       "    <tr style=\"text-align: right;\">\n",
       "      <th></th>\n",
       "      <th>industry</th>\n",
       "      <th>avg(open)</th>\n",
       "      <th>avg(close)</th>\n",
       "      <th>avg(adjusted)</th>\n",
       "    </tr>\n",
       "  </thead>\n",
       "  <tbody>\n",
       "    <tr>\n",
       "      <th>0</th>\n",
       "      <td>Finance/Investors Services</td>\n",
       "      <td>5.134402</td>\n",
       "      <td>5.136631</td>\n",
       "      <td>4.991354</td>\n",
       "    </tr>\n",
       "    <tr>\n",
       "      <th>1</th>\n",
       "      <td>Miscellaneous</td>\n",
       "      <td>16.385883</td>\n",
       "      <td>16.359879</td>\n",
       "      <td>16.148959</td>\n",
       "    </tr>\n",
       "    <tr>\n",
       "      <th>2</th>\n",
       "      <td>Investment Bankers/Brokers/Service</td>\n",
       "      <td>58.950581</td>\n",
       "      <td>58.983086</td>\n",
       "      <td>58.157837</td>\n",
       "    </tr>\n",
       "    <tr>\n",
       "      <th>3</th>\n",
       "      <td>Food Distributors</td>\n",
       "      <td>43.274509</td>\n",
       "      <td>43.273178</td>\n",
       "      <td>42.910476</td>\n",
       "    </tr>\n",
       "    <tr>\n",
       "      <th>4</th>\n",
       "      <td>Broadcasting</td>\n",
       "      <td>24.916787</td>\n",
       "      <td>24.917388</td>\n",
       "      <td>24.699102</td>\n",
       "    </tr>\n",
       "    <tr>\n",
       "      <th>...</th>\n",
       "      <td>...</td>\n",
       "      <td>...</td>\n",
       "      <td>...</td>\n",
       "      <td>...</td>\n",
       "    </tr>\n",
       "    <tr>\n",
       "      <th>130</th>\n",
       "      <td>Wholesale Distributors</td>\n",
       "      <td>16.608839</td>\n",
       "      <td>16.602717</td>\n",
       "      <td>16.602717</td>\n",
       "    </tr>\n",
       "    <tr>\n",
       "      <th>131</th>\n",
       "      <td>Electronics Distribution</td>\n",
       "      <td>6.428699</td>\n",
       "      <td>6.430408</td>\n",
       "      <td>6.377569</td>\n",
       "    </tr>\n",
       "    <tr>\n",
       "      <th>132</th>\n",
       "      <td>Tools/Hardware</td>\n",
       "      <td>70.412755</td>\n",
       "      <td>70.475944</td>\n",
       "      <td>69.670351</td>\n",
       "    </tr>\n",
       "    <tr>\n",
       "      <th>133</th>\n",
       "      <td>Tobacco</td>\n",
       "      <td>32.467832</td>\n",
       "      <td>32.455689</td>\n",
       "      <td>32.213047</td>\n",
       "    </tr>\n",
       "    <tr>\n",
       "      <th>134</th>\n",
       "      <td>General Bldg Contractors - Nonresidential Bldgs</td>\n",
       "      <td>13.528546</td>\n",
       "      <td>13.509209</td>\n",
       "      <td>13.509209</td>\n",
       "    </tr>\n",
       "  </tbody>\n",
       "</table>\n",
       "<p>135 rows × 4 columns</p>\n",
       "</div>"
      ],
      "text/plain": [
       "                                            industry  avg(open)  avg(close)  \\\n",
       "0                         Finance/Investors Services   5.134402    5.136631   \n",
       "1                                      Miscellaneous  16.385883   16.359879   \n",
       "2                 Investment Bankers/Brokers/Service  58.950581   58.983086   \n",
       "3                                  Food Distributors  43.274509   43.273178   \n",
       "4                                       Broadcasting  24.916787   24.917388   \n",
       "..                                               ...        ...         ...   \n",
       "130                           Wholesale Distributors  16.608839   16.602717   \n",
       "131                         Electronics Distribution   6.428699    6.430408   \n",
       "132                                   Tools/Hardware  70.412755   70.475944   \n",
       "133                                          Tobacco  32.467832   32.455689   \n",
       "134  General Bldg Contractors - Nonresidential Bldgs  13.528546   13.509209   \n",
       "\n",
       "     avg(adjusted)  \n",
       "0         4.991354  \n",
       "1        16.148959  \n",
       "2        58.157837  \n",
       "3        42.910476  \n",
       "4        24.699102  \n",
       "..             ...  \n",
       "130      16.602717  \n",
       "131       6.377569  \n",
       "132      69.670351  \n",
       "133      32.213047  \n",
       "134      13.509209  \n",
       "\n",
       "[135 rows x 4 columns]"
      ]
     },
     "execution_count": 83,
     "metadata": {},
     "output_type": "execute_result"
    }
   ],
   "source": [
    "data_df = data.select(['industry', 'open', 'close', 'adjusted']).groupBy('industry').mean().toPandas()\n",
    "data_df"
   ]
  },
  {
   "cell_type": "code",
   "execution_count": 84,
   "metadata": {},
   "outputs": [
    {
     "data": {
      "image/png": "[encoded data removed]",
      "text/plain": [
       "<Figure size 432x288 with 2 Axes>"
      ]
     },
     "metadata": {
      "needs_background": "light"
     },
     "output_type": "display_data"
    }
   ],
   "source": [
    "import seaborn as sb\n",
    "\n",
    "corr = data_df.corr()\n",
    "sb.heatmap(corr, cmap=\"Blues\", annot=True)\n",
    "plt.show()"
   ]
  },
  {
   "cell_type": "markdown",
   "metadata": {},
   "source": [
    "## Escritura y lectura de archivos externos\n",
    "Guardar los datos en archivos externos nos permite persistir los datos para volver a cargarlos posteriormente y evitar el nuevo cálculo de éstos"
   ]
  },
  {
   "cell_type": "markdown",
   "metadata": {},
   "source": [
    "#### Escritura y lectura de archivos en formato .csv"
   ]
  },
  {
   "cell_type": "code",
   "execution_count": 85,
   "metadata": {},
   "outputs": [],
   "source": [
    "import os\n",
    "\n",
    "# En caso de que exista la ruta la borramos para volver a crearla:\n",
    "if os.path.exists( './saved_DataFrames/dataset.csv' ):\n",
    "    !rm -r ./saved_DataFrames/dataset.csv\n",
    "\n",
    "# Guardar archivos en formato .csv:\n",
    "data.write.csv('./saved_DataFrames/dataset.csv', header=True)"
   ]
  },
  {
   "cell_type": "code",
   "execution_count": 86,
   "metadata": {},
   "outputs": [
    {
     "name": "stdout",
     "output_type": "stream",
     "text": [
      "+-------+------+----------+---------+---------+---------+---------+--------+---------+-----------------+--------------------+--------+------------------+\n",
      "|     c0|symbol|      date|     open|     high|      low|    close|  volume| adjusted|           sector|            industry|exchange|          promedio|\n",
      "+-------+------+----------+---------+---------+---------+---------+--------+---------+-----------------+--------------------+--------+------------------+\n",
      "|1327602|   HTZ|2020-07-20|     1.47|     1.53|     1.41|     1.49|12763000|     1.49|Consumer Services|Rental/Leasing Co...|    NYSE|              1.47|\n",
      "|1327603|   HTZ|2020-07-21|     1.47|     1.49|     1.44|     1.46| 7220600|     1.46|Consumer Services|Rental/Leasing Co...|    NYSE|1.4649999999999999|\n",
      "|1327604|   HTZ|2020-07-22|     1.47|     1.93|     1.46|     1.74|62002300|     1.74|Consumer Services|Rental/Leasing Co...|    NYSE|1.6949999999999998|\n",
      "|1327605|   HES|2019-01-02|39.290001|42.400002|39.080002|42.240002| 4692200|41.019516|           Energy|Integrated oil Co...|    NYSE|40.740002000000004|\n",
      "|1327606|   HES|2019-01-03|42.400002|42.849998|40.599998|42.389999| 6034500|41.165176|           Energy|Integrated oil Co...|    NYSE|         41.724998|\n",
      "+-------+------+----------+---------+---------+---------+---------+--------+---------+-----------------+--------------------+--------+------------------+\n",
      "only showing top 5 rows\n",
      "\n"
     ]
    }
   ],
   "source": [
    "# Lectura de datos:\n",
    "spark.read.csv('./saved_DataFrames/dataset.csv', sep = ',', header = True).show(N)"
   ]
  },
  {
   "cell_type": "markdown",
   "metadata": {},
   "source": [
    "#### Escritura y lectura de archivos en formato .json"
   ]
  },
  {
   "cell_type": "code",
   "execution_count": 87,
   "metadata": {},
   "outputs": [],
   "source": [
    "# En caso de que exista la ruta la borramos para volver a crearla:\n",
    "if os.path.exists( './saved_DataFrames/dataset.json' ):\n",
    "    !rm -r ./saved_DataFrames/dataset.json\n",
    "\n",
    "# Guardar archivos en formato .json:\n",
    "data.write.save('./saved_DataFrames/dataset.json', format='json', header=True)"
   ]
  },
  {
   "cell_type": "code",
   "execution_count": 88,
   "metadata": {},
   "outputs": [
    {
     "name": "stdout",
     "output_type": "stream",
     "text": [
      "+----------+------+----------+----------+--------+----------+--------------------+----------+----------+------------------+-----------------+------+-------+\n",
      "|  adjusted|    c0|     close|      date|exchange|      high|            industry|       low|      open|          promedio|           sector|symbol| volume|\n",
      "+----------+------+----------+----------+--------+----------+--------------------+----------+----------+------------------+-----------------+------+-------+\n",
      "|367.329987|667381|367.329987|2019-03-13|  NASDAQ|369.600006|Other Specialty S...| 365.01001|366.950012|367.30500800000004|Consumer Services|  ORLY| 573200|\n",
      "|368.160004|667382|368.160004|2019-03-14|  NASDAQ|368.480011|Other Specialty S...|362.790009|366.029999|365.63500999999997|Consumer Services|  ORLY| 687900|\n",
      "|370.019989|667383|370.019989|2019-03-15|  NASDAQ|371.059998|Other Specialty S...|363.269989|368.859985|367.16499350000004|Consumer Services|  ORLY|1155100|\n",
      "|375.799988|667384|375.799988|2019-03-18|  NASDAQ|378.329987|Other Specialty S...|368.959991| 369.26001|        373.644989|Consumer Services|  ORLY| 711300|\n",
      "|374.209991|667385|374.209991|2019-03-19|  NASDAQ|379.390015|Other Specialty S...|373.019989|375.820007|376.20500200000004|Consumer Services|  ORLY| 431900|\n",
      "+----------+------+----------+----------+--------+----------+--------------------+----------+----------+------------------+-----------------+------+-------+\n",
      "only showing top 5 rows\n",
      "\n"
     ]
    }
   ],
   "source": [
    "# Lectura de datos:\n",
    "spark.read.json('./saved_DataFrames/dataset.json').show(N)"
   ]
  },
  {
   "cell_type": "markdown",
   "metadata": {},
   "source": [
    "#### Escritura y lectura de archivos en formato .parquet"
   ]
  },
  {
   "cell_type": "code",
   "execution_count": 89,
   "metadata": {},
   "outputs": [],
   "source": [
    "# En caso de que exista la ruta la borramos para volver a crearla:\n",
    "if os.path.exists( './saved_DataFrames/dataset.parquet' ):\n",
    "    !rm -r ./saved_DataFrames/dataset.parquet\n",
    "\n",
    "# Guardar archivos en formato .parquet:\n",
    "data.write.save('./saved_DataFrames/dataset.parquet', format='parquet', header=True)"
   ]
  },
  {
   "cell_type": "code",
   "execution_count": 90,
   "metadata": {},
   "outputs": [
    {
     "name": "stdout",
     "output_type": "stream",
     "text": [
      "+-------+------+----------+---------+---------+---------+---------+--------+---------+-----------------+--------------------+--------+------------------+\n",
      "|     c0|symbol|      date|     open|     high|      low|    close|  volume| adjusted|           sector|            industry|exchange|          promedio|\n",
      "+-------+------+----------+---------+---------+---------+---------+--------+---------+-----------------+--------------------+--------+------------------+\n",
      "|1327602|   HTZ|2020-07-20|     1.47|     1.53|     1.41|     1.49|12763000|     1.49|Consumer Services|Rental/Leasing Co...|    NYSE|              1.47|\n",
      "|1327603|   HTZ|2020-07-21|     1.47|     1.49|     1.44|     1.46| 7220600|     1.46|Consumer Services|Rental/Leasing Co...|    NYSE|1.4649999999999999|\n",
      "|1327604|   HTZ|2020-07-22|     1.47|     1.93|     1.46|     1.74|62002300|     1.74|Consumer Services|Rental/Leasing Co...|    NYSE|1.6949999999999998|\n",
      "|1327605|   HES|2019-01-02|39.290001|42.400002|39.080002|42.240002| 4692200|41.019516|           Energy|Integrated oil Co...|    NYSE|40.740002000000004|\n",
      "|1327606|   HES|2019-01-03|42.400002|42.849998|40.599998|42.389999| 6034500|41.165176|           Energy|Integrated oil Co...|    NYSE|         41.724998|\n",
      "+-------+------+----------+---------+---------+---------+---------+--------+---------+-----------------+--------------------+--------+------------------+\n",
      "only showing top 5 rows\n",
      "\n"
     ]
    }
   ],
   "source": [
    "# Lectura de datos:\n",
    "spark.read.parquet('./saved_DataFrames/dataset.parquet').show(N)"
   ]
  },
  {
   "cell_type": "markdown",
   "metadata": {},
   "source": [
    "### Guardar un conjunto de datos específico"
   ]
  },
  {
   "cell_type": "code",
   "execution_count": 91,
   "metadata": {},
   "outputs": [],
   "source": [
    "# En caso de que exista la ruta la borramos para volver a crearla:\n",
    "if os.path.exists( './saved_DataFrames/dataset_select.parquet' ):\n",
    "    !rm -r ./saved_DataFrames/dataset_select.parquet\n",
    "\n",
    "# Guardar archivos en formato .parquet:\n",
    "\n",
    "selected_cols = ['date','open','close','adjusted']\n",
    "\n",
    "data.select( selected_cols ).write.save('./saved_DataFrames/dataset_select.parquet', format='parquet', header=True)"
   ]
  },
  {
   "cell_type": "code",
   "execution_count": 92,
   "metadata": {},
   "outputs": [
    {
     "name": "stdout",
     "output_type": "stream",
     "text": [
      "+----------+---------+---------+---------+\n",
      "|      date|     open|    close| adjusted|\n",
      "+----------+---------+---------+---------+\n",
      "|2020-07-20|     1.47|     1.49|     1.49|\n",
      "|2020-07-21|     1.47|     1.46|     1.46|\n",
      "|2020-07-22|     1.47|     1.74|     1.74|\n",
      "|2019-01-02|39.290001|42.240002|41.019516|\n",
      "|2019-01-03|42.400002|42.389999|41.165176|\n",
      "+----------+---------+---------+---------+\n",
      "only showing top 5 rows\n",
      "\n"
     ]
    }
   ],
   "source": [
    "# Lectura de datos:\n",
    "spark.read.parquet('./saved_DataFrames/dataset_select.parquet').show(N)"
   ]
  },
  {
   "cell_type": "markdown",
   "metadata": {},
   "source": [
    "#### Cerramos la sesión Spark"
   ]
  },
  {
   "cell_type": "code",
   "execution_count": 93,
   "metadata": {},
   "outputs": [],
   "source": [
    "spark.stop()"
   ]
  },
  {
   "cell_type": "code",
   "execution_count": null,
   "metadata": {},
   "outputs": [],
   "source": []
  }
 ],
 "metadata": {
  "colab": {
   "authorship_tag": "ABX9TyPRiFrIk3poFvvDKdeo/sex",
   "collapsed_sections": [],
   "include_colab_link": true,
   "name": "Beginners Guide to PySpark.ipynb",
   "provenance": []
  },
  "kernelspec": {
   "display_name": "Python 3.8.10 64-bit",
   "language": "python",
   "name": "python3"
  },
  "language_info": {
   "codemirror_mode": {
    "name": "ipython",
    "version": 3
   },
   "file_extension": ".py",
   "mimetype": "text/x-python",
   "name": "python",
   "nbconvert_exporter": "python",
   "pygments_lexer": "ipython3",
   "version": "3.8.10"
  },
  "vscode": {
   "interpreter": {
    "hash": "916dbcbb3f70747c44a77c7bcd40155683ae19c65e1c03b4aa3499c5328201f1"
   }
  }
 },
 "nbformat": 4,
 "nbformat_minor": 1
}
